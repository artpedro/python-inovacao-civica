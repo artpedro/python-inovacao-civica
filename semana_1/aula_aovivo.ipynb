{
 "cells": [
  {
   "attachments": {},
   "cell_type": "markdown",
   "id": "32600998",
   "metadata": {},
   "source": [
    "# Exercício\n",
    "\n",
    "Construa um programa que:\n",
    " - Pergunte a usuária 2 números inteiros;\n",
    " - Crie uma lista numérica do intervalo;\n",
    " - Se o número for divisível por 3, substitua-o por \"Tecnologia\";\n",
    " - Se o número for divisível por 5, substitua-o por \"Cívica\";\n",
    " - Se o número for divisível por 3 e 5, substitua-o por \"Tecnologia Cívica\"."
   ]
  },
  {
   "cell_type": "code",
   "execution_count": 9,
   "id": "36270857",
   "metadata": {},
   "outputs": [
    {
     "name": "stdout",
     "output_type": "stream",
     "text": [
      "[1, 2, 'Tecnologia', 4, 'Cívica', 'Tecnologia', 7, 8, 'Tecnologia', 'Cívica', 11, 'Tecnologia', 13, 14, 'Tecnologia Cívica', 16, 17, 'Tecnologia', 19, 'Cívica', 'Tecnologia', 22, 23, 'Tecnologia', 'Cívica', 26, 'Tecnologia', 28, 29, 'Tecnologia Cívica', 31, 32, 'Tecnologia', 34, 'Cívica', 'Tecnologia', 37, 38, 'Tecnologia', 'Cívica', 41, 'Tecnologia', 43, 44, 'Tecnologia Cívica', 46, 47, 'Tecnologia', 49, 'Cívica', 'Tecnologia', 52, 53, 'Tecnologia', 'Cívica', 56, 'Tecnologia', 58, 59, 'Tecnologia Cívica', 61, 62, 'Tecnologia', 64, 'Cívica', 'Tecnologia', 67, 68, 'Tecnologia', 'Cívica', 71, 'Tecnologia', 73, 74, 'Tecnologia Cívica', 76, 77, 'Tecnologia', 79, 'Cívica', 'Tecnologia', 82, 83, 'Tecnologia', 'Cívica', 86, 'Tecnologia', 88, 89, 'Tecnologia Cívica', 91, 92, 'Tecnologia', 94, 'Cívica', 'Tecnologia', 97, 98, 'Tecnologia', 'Cívica']\n"
     ]
    }
   ],
   "source": [
    "x = int(input(\"Valor para x: \"))\n",
    "y = int(input(\"Valor para y: \"))\n",
    "x_to_y = list(range(x,y+1))\n",
    "for idx,n in enumerate(x_to_y):\n",
    "    if n%5 == 0:\n",
    "        if n%3==0:\n",
    "            x_to_y[idx] = \"Tecnologia Cívica\"\n",
    "        else:\n",
    "            x_to_y[idx] = \"Cívica\"\n",
    "    elif n%3==0:\n",
    "        x_to_y[idx] = \"Tecnologia\"\n",
    "print(x_to_y)"
   ]
  }
 ],
 "metadata": {
  "kernelspec": {
   "display_name": "Python 3 (ipykernel)",
   "language": "python",
   "name": "python3"
  },
  "language_info": {
   "codemirror_mode": {
    "name": "ipython",
    "version": 3
   },
   "file_extension": ".py",
   "mimetype": "text/x-python",
   "name": "python",
   "nbconvert_exporter": "python",
   "pygments_lexer": "ipython3",
   "version": "3.9.13"
  }
 },
 "nbformat": 4,
 "nbformat_minor": 5
}
