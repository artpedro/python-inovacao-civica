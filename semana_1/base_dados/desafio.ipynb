{
 "cells": [
  {
   "attachments": {},
   "cell_type": "markdown",
   "id": "b0c02ae8-da85-499a-99c9-8c3da9e1ae05",
   "metadata": {},
   "source": [
    "# Explorando dados\n",
    "\n",
    "Neste desafio colocaremos em prática alguns conceitos apresentado nas aulas. Para isso, usaremos o conjunto de dados [Candidatos - 2022](https://dadosabertos.tse.jus.br/dataset/candidatos-2022) disponível no Portal de Dados Abertos do Tribunal Superior Eleitoral.\n",
    "\n",
    "Os dados também podem ser encontrados na pasta \"Dados\" deste repositório.\n",
    "\n",
    "Siga as orientações abaixo para completar o desafio:"
   ]
  },
  {
   "attachments": {},
   "cell_type": "markdown",
   "id": "d2bf34dd-2879-4dd6-b65b-4944a34c03d4",
   "metadata": {},
   "source": [
    "# Importe os pacotes necessários"
   ]
  },
  {
   "cell_type": "code",
   "execution_count": 37,
   "id": "86deeeb7",
   "metadata": {},
   "outputs": [],
   "source": [
    "import pandas as pd\n",
    "import glob\n",
    "pd.options.display.max_columns = False"
   ]
  },
  {
   "attachments": {},
   "cell_type": "markdown",
   "id": "ced62f05-5e3c-4565-b13c-f359fb8c35bf",
   "metadata": {},
   "source": [
    "# Crie uma lista com o título dos arquivos usando a biblioteca Gloob"
   ]
  },
  {
   "cell_type": "code",
   "execution_count": 6,
   "id": "45b0cb8f-d567-4274-877f-53e8faa7d1be",
   "metadata": {},
   "outputs": [
    {
     "data": {
      "text/plain": [
       "['consulta_cand_2022_AP.csv', 'consulta_cand_2022_PA.csv']"
      ]
     },
     "execution_count": 6,
     "metadata": {},
     "output_type": "execute_result"
    }
   ],
   "source": [
    "data_paths = glob.glob(\"consulta_cand*.csv\")\n",
    "data_paths"
   ]
  },
  {
   "attachments": {},
   "cell_type": "markdown",
   "id": "cf29db73-447b-4375-bad5-2df7aa7c4743",
   "metadata": {},
   "source": [
    "# Crie um laço (loop) para ler todos os arquivos da lista (usando a biblioteca Pandas) e armazenar os dataframes em uma lista"
   ]
  },
  {
   "cell_type": "code",
   "execution_count": null,
   "id": "c047c0ac",
   "metadata": {},
   "outputs": [],
   "source": []
  },
  {
   "cell_type": "code",
   "execution_count": 8,
   "id": "dd63f03d-147e-4fda-ba61-9edb0bdee254",
   "metadata": {},
   "outputs": [
    {
     "data": {
      "text/plain": [
       "[     DT_GERACAO HH_GERACAO  ANO_ELEICAO  CD_TIPO_ELEICAO    NM_TIPO_ELEICAO  \\\n",
       " 0    13/05/2023   19:32:48         2022                2  ELEIÇÃO ORDINÁRIA   \n",
       " 1    13/05/2023   19:32:48         2022                2  ELEIÇÃO ORDINÁRIA   \n",
       " 2    13/05/2023   19:32:48         2022                2  ELEIÇÃO ORDINÁRIA   \n",
       " 3    13/05/2023   19:32:48         2022                2  ELEIÇÃO ORDINÁRIA   \n",
       " 4    13/05/2023   19:32:48         2022                2  ELEIÇÃO ORDINÁRIA   \n",
       " ..          ...        ...          ...              ...                ...   \n",
       " 552  13/05/2023   19:32:48         2022                2  ELEIÇÃO ORDINÁRIA   \n",
       " 553  13/05/2023   19:32:48         2022                2  ELEIÇÃO ORDINÁRIA   \n",
       " 554  13/05/2023   19:32:48         2022                2  ELEIÇÃO ORDINÁRIA   \n",
       " 555  13/05/2023   19:32:48         2022                2  ELEIÇÃO ORDINÁRIA   \n",
       " 556  13/05/2023   19:32:48         2022                2  ELEIÇÃO ORDINÁRIA   \n",
       " \n",
       "      NR_TURNO  CD_ELEICAO                      DS_ELEICAO  DT_ELEICAO  \\\n",
       " 0           1         546  Eleições Gerais Estaduais 2022  02/10/2022   \n",
       " 1           1         546  Eleições Gerais Estaduais 2022  02/10/2022   \n",
       " 2           1         546  Eleições Gerais Estaduais 2022  02/10/2022   \n",
       " 3           1         546  Eleições Gerais Estaduais 2022  02/10/2022   \n",
       " 4           1         546  Eleições Gerais Estaduais 2022  02/10/2022   \n",
       " ..        ...         ...                             ...         ...   \n",
       " 552         1         546  Eleições Gerais Estaduais 2022  02/10/2022   \n",
       " 553         1         546  Eleições Gerais Estaduais 2022  02/10/2022   \n",
       " 554         1         546  Eleições Gerais Estaduais 2022  02/10/2022   \n",
       " 555         1         546  Eleições Gerais Estaduais 2022  02/10/2022   \n",
       " 556         1         546  Eleições Gerais Estaduais 2022  02/10/2022   \n",
       " \n",
       "     TP_ABRANGENCIA  ...          NR_PROCESSO CD_SITUACAO_CANDIDATO_PLEITO  \\\n",
       " 0         ESTADUAL  ...  6002701620226030000                            2   \n",
       " 1         ESTADUAL  ...  6007084220226030000                            2   \n",
       " 2         ESTADUAL  ...  6004226420226030000                            2   \n",
       " 3         ESTADUAL  ...  6004798220226030000                            2   \n",
       " 4         ESTADUAL  ...  6002407820226030000                            2   \n",
       " ..             ...  ...                  ...                          ...   \n",
       " 552       ESTADUAL  ...  6007170420226030000                            2   \n",
       " 553       ESTADUAL  ...  6006711520226030000                            2   \n",
       " 554       ESTADUAL  ...  6007058720226030000                            2   \n",
       " 555       ESTADUAL  ...  6004251920226030000                            2   \n",
       " 556       ESTADUAL  ...  6006885120226030000                           -1   \n",
       " \n",
       "     DS_SITUACAO_CANDIDATO_PLEITO  CD_SITUACAO_CANDIDATO_URNA  \\\n",
       " 0                       DEFERIDO                           2   \n",
       " 1                       DEFERIDO                           2   \n",
       " 2                       DEFERIDO                           2   \n",
       " 3                       DEFERIDO                           2   \n",
       " 4                       DEFERIDO                           2   \n",
       " ..                           ...                         ...   \n",
       " 552                     DEFERIDO                           2   \n",
       " 553                     DEFERIDO                           2   \n",
       " 554                     DEFERIDO                           2   \n",
       " 555                     DEFERIDO                           2   \n",
       " 556                       #NULO#                          -1   \n",
       " \n",
       "     DS_SITUACAO_CANDIDATO_URNA  ST_CANDIDATO_INSERIDO_URNA  \\\n",
       " 0                     DEFERIDO                         SIM   \n",
       " 1                     DEFERIDO                         SIM   \n",
       " 2                     DEFERIDO                         SIM   \n",
       " 3                     DEFERIDO                         SIM   \n",
       " 4                     DEFERIDO                         SIM   \n",
       " ..                         ...                         ...   \n",
       " 552                   DEFERIDO                         SIM   \n",
       " 553                   DEFERIDO                         SIM   \n",
       " 554                   DEFERIDO                         SIM   \n",
       " 555                   DEFERIDO                         SIM   \n",
       " 556                     #NULO#                         NÃO   \n",
       " \n",
       "      NM_TIPO_DESTINACAO_VOTOS CD_SITUACAO_CANDIDATO_TOT  \\\n",
       " 0                      Válido                         2   \n",
       " 1                      Válido                         2   \n",
       " 2                      Válido                         2   \n",
       " 3                      Válido                         2   \n",
       " 4                      Válido                         2   \n",
       " ..                        ...                       ...   \n",
       " 552                    Válido                         2   \n",
       " 553                    Válido                         2   \n",
       " 554                    Válido                         2   \n",
       " 555                    Válido                         2   \n",
       " 556                    #NULO#                        -1   \n",
       " \n",
       "     DS_SITUACAO_CANDIDATO_TOT ST_PREST_CONTAS  \n",
       " 0                    Deferido               S  \n",
       " 1                    Deferido               S  \n",
       " 2                    Deferido               S  \n",
       " 3                    Deferido               S  \n",
       " 4                    Deferido               S  \n",
       " ..                        ...             ...  \n",
       " 552                  Deferido               S  \n",
       " 553                  Deferido               S  \n",
       " 554                  Deferido               S  \n",
       " 555                  Deferido               S  \n",
       " 556                    #NULO#               N  \n",
       " \n",
       " [557 rows x 71 columns],\n",
       "       DT_GERACAO HH_GERACAO  ANO_ELEICAO  CD_TIPO_ELEICAO    NM_TIPO_ELEICAO  \\\n",
       " 0     13/05/2023   19:32:48         2022                2  ELEIÇÃO ORDINÁRIA   \n",
       " 1     13/05/2023   19:32:48         2022                2  ELEIÇÃO ORDINÁRIA   \n",
       " 2     13/05/2023   19:32:48         2022                2  ELEIÇÃO ORDINÁRIA   \n",
       " 3     13/05/2023   19:32:48         2022                2  ELEIÇÃO ORDINÁRIA   \n",
       " 4     13/05/2023   19:32:48         2022                2  ELEIÇÃO ORDINÁRIA   \n",
       " ...          ...        ...          ...              ...                ...   \n",
       " 1038  13/05/2023   19:32:48         2022                2  ELEIÇÃO ORDINÁRIA   \n",
       " 1039  13/05/2023   19:32:48         2022                2  ELEIÇÃO ORDINÁRIA   \n",
       " 1040  13/05/2023   19:32:48         2022                2  ELEIÇÃO ORDINÁRIA   \n",
       " 1041  13/05/2023   19:32:48         2022                2  ELEIÇÃO ORDINÁRIA   \n",
       " 1042  13/05/2023   19:32:48         2022                2  ELEIÇÃO ORDINÁRIA   \n",
       " \n",
       "       NR_TURNO  CD_ELEICAO                      DS_ELEICAO  DT_ELEICAO  \\\n",
       " 0            1         546  Eleições Gerais Estaduais 2022  02/10/2022   \n",
       " 1            1         546  Eleições Gerais Estaduais 2022  02/10/2022   \n",
       " 2            1         546  Eleições Gerais Estaduais 2022  02/10/2022   \n",
       " 3            1         546  Eleições Gerais Estaduais 2022  02/10/2022   \n",
       " 4            1         546  Eleições Gerais Estaduais 2022  02/10/2022   \n",
       " ...        ...         ...                             ...         ...   \n",
       " 1038         1         546  Eleições Gerais Estaduais 2022  02/10/2022   \n",
       " 1039         1         546  Eleições Gerais Estaduais 2022  02/10/2022   \n",
       " 1040         1         546  Eleições Gerais Estaduais 2022  02/10/2022   \n",
       " 1041         1         546  Eleições Gerais Estaduais 2022  02/10/2022   \n",
       " 1042         1         546  Eleições Gerais Estaduais 2022  02/10/2022   \n",
       " \n",
       "      TP_ABRANGENCIA  ...          NR_PROCESSO CD_SITUACAO_CANDIDATO_PLEITO  \\\n",
       " 0          ESTADUAL  ...  6006408620226140000                            2   \n",
       " 1          ESTADUAL  ...  6011397020226140000                           -1   \n",
       " 2          ESTADUAL  ...  6012245620226140000                           -1   \n",
       " 3          ESTADUAL  ...  6006754620226140000                            2   \n",
       " 4          ESTADUAL  ...  6008876720226140000                            2   \n",
       " ...             ...  ...                  ...                          ...   \n",
       " 1038       ESTADUAL  ...  6002268820226140000                            2   \n",
       " 1039       ESTADUAL  ...  6005637720226140000                            4   \n",
       " 1040       ESTADUAL  ...  6004866820226140000                            2   \n",
       " 1041       ESTADUAL  ...  6004312020226140000                            2   \n",
       " 1042       ESTADUAL  ...  6009040620226140000                            2   \n",
       " \n",
       "      DS_SITUACAO_CANDIDATO_PLEITO  CD_SITUACAO_CANDIDATO_URNA  \\\n",
       " 0                        DEFERIDO                           2   \n",
       " 1                          #NULO#                          -1   \n",
       " 2                          #NULO#                          -1   \n",
       " 3                        DEFERIDO                           2   \n",
       " 4                        DEFERIDO                           2   \n",
       " ...                           ...                         ...   \n",
       " 1038                     DEFERIDO                           2   \n",
       " 1039       INDEFERIDO COM RECURSO                           4   \n",
       " 1040                     DEFERIDO                           2   \n",
       " 1041                     DEFERIDO                           2   \n",
       " 1042                     DEFERIDO                           2   \n",
       " \n",
       "      DS_SITUACAO_CANDIDATO_URNA  ST_CANDIDATO_INSERIDO_URNA  \\\n",
       " 0                      DEFERIDO                         SIM   \n",
       " 1                        #NULO#                         NÃO   \n",
       " 2                        #NULO#                         NÃO   \n",
       " 3                      DEFERIDO                         SIM   \n",
       " 4                      DEFERIDO                         SIM   \n",
       " ...                         ...                         ...   \n",
       " 1038                   DEFERIDO                         SIM   \n",
       " 1039     INDEFERIDO COM RECURSO                         SIM   \n",
       " 1040                   DEFERIDO                         SIM   \n",
       " 1041                   DEFERIDO                         SIM   \n",
       " 1042                   DEFERIDO                         SIM   \n",
       " \n",
       "       NM_TIPO_DESTINACAO_VOTOS CD_SITUACAO_CANDIDATO_TOT  \\\n",
       " 0                       Válido                         2   \n",
       " 1                       #NULO#                        -1   \n",
       " 2                       #NULO#                        -1   \n",
       " 3                       Válido                         2   \n",
       " 4                       Válido                         2   \n",
       " ...                        ...                       ...   \n",
       " 1038                    Válido                         2   \n",
       " 1039        Anulado sub judice                         4   \n",
       " 1040                    Válido                         2   \n",
       " 1041                    Válido                         2   \n",
       " 1042                    Válido                         2   \n",
       " \n",
       "      DS_SITUACAO_CANDIDATO_TOT ST_PREST_CONTAS  \n",
       " 0                     Deferido               S  \n",
       " 1                       #NULO#               N  \n",
       " 2                       #NULO#               N  \n",
       " 3                     Deferido               S  \n",
       " 4                     Deferido               S  \n",
       " ...                        ...             ...  \n",
       " 1038                  Deferido               S  \n",
       " 1039    Indeferido com recurso               N  \n",
       " 1040                  Deferido               S  \n",
       " 1041                  Deferido               S  \n",
       " 1042                  Deferido               S  \n",
       " \n",
       " [1043 rows x 71 columns]]"
      ]
     },
     "execution_count": 8,
     "metadata": {},
     "output_type": "execute_result"
    }
   ],
   "source": [
    "data_dfs = [pd.read_csv(i,sep=\";\",encoding=\"latin-1\") for i in data_paths]\n",
    "data_dfs"
   ]
  },
  {
   "attachments": {},
   "cell_type": "markdown",
   "id": "310bca4e-c1c2-4030-a427-ecda54601106",
   "metadata": {},
   "source": [
    "# Concatene todos os dataframes da lista"
   ]
  },
  {
   "cell_type": "code",
   "execution_count": 9,
   "id": "997a08ff-f355-40c1-9257-cf4a196517bd",
   "metadata": {},
   "outputs": [
    {
     "data": {
      "text/plain": [
       "(1600, 71)"
      ]
     },
     "execution_count": 9,
     "metadata": {},
     "output_type": "execute_result"
    }
   ],
   "source": [
    "data_df = pd.concat(data_dfs)\n",
    "data_df.shape"
   ]
  },
  {
   "attachments": {},
   "cell_type": "markdown",
   "id": "0c1bee1c-a55d-4152-98cd-471028d2d73a",
   "metadata": {},
   "source": [
    "# Apresente 5 linhas aleatórias do dataframe"
   ]
  },
  {
   "cell_type": "code",
   "execution_count": 34,
   "id": "b7b7124c-f6fa-4d90-b157-88678e82076e",
   "metadata": {},
   "outputs": [
    {
     "data": {
      "text/html": [
       "<div>\n",
       "<style scoped>\n",
       "    .dataframe tbody tr th:only-of-type {\n",
       "        vertical-align: middle;\n",
       "    }\n",
       "\n",
       "    .dataframe tbody tr th {\n",
       "        vertical-align: top;\n",
       "    }\n",
       "\n",
       "    .dataframe thead th {\n",
       "        text-align: right;\n",
       "    }\n",
       "</style>\n",
       "<table border=\"1\" class=\"dataframe\">\n",
       "  <thead>\n",
       "    <tr style=\"text-align: right;\">\n",
       "      <th></th>\n",
       "      <th>DT_GERACAO</th>\n",
       "      <th>HH_GERACAO</th>\n",
       "      <th>ANO_ELEICAO</th>\n",
       "      <th>CD_TIPO_ELEICAO</th>\n",
       "      <th>NM_TIPO_ELEICAO</th>\n",
       "      <th>NR_TURNO</th>\n",
       "      <th>CD_ELEICAO</th>\n",
       "      <th>DS_ELEICAO</th>\n",
       "      <th>DT_ELEICAO</th>\n",
       "      <th>TP_ABRANGENCIA</th>\n",
       "      <th>...</th>\n",
       "      <th>NR_PROCESSO</th>\n",
       "      <th>CD_SITUACAO_CANDIDATO_PLEITO</th>\n",
       "      <th>DS_SITUACAO_CANDIDATO_PLEITO</th>\n",
       "      <th>CD_SITUACAO_CANDIDATO_URNA</th>\n",
       "      <th>DS_SITUACAO_CANDIDATO_URNA</th>\n",
       "      <th>ST_CANDIDATO_INSERIDO_URNA</th>\n",
       "      <th>NM_TIPO_DESTINACAO_VOTOS</th>\n",
       "      <th>CD_SITUACAO_CANDIDATO_TOT</th>\n",
       "      <th>DS_SITUACAO_CANDIDATO_TOT</th>\n",
       "      <th>ST_PREST_CONTAS</th>\n",
       "    </tr>\n",
       "  </thead>\n",
       "  <tbody>\n",
       "    <tr>\n",
       "      <th>247</th>\n",
       "      <td>13/05/2023</td>\n",
       "      <td>19:32:48</td>\n",
       "      <td>2022</td>\n",
       "      <td>2</td>\n",
       "      <td>ELEIÇÃO ORDINÁRIA</td>\n",
       "      <td>1</td>\n",
       "      <td>546</td>\n",
       "      <td>Eleições Gerais Estaduais 2022</td>\n",
       "      <td>02/10/2022</td>\n",
       "      <td>ESTADUAL</td>\n",
       "      <td>...</td>\n",
       "      <td>6012384020226140000</td>\n",
       "      <td>-1</td>\n",
       "      <td>#NULO#</td>\n",
       "      <td>-1</td>\n",
       "      <td>#NULO#</td>\n",
       "      <td>NÃO</td>\n",
       "      <td>#NULO#</td>\n",
       "      <td>-1</td>\n",
       "      <td>#NULO#</td>\n",
       "      <td>N</td>\n",
       "    </tr>\n",
       "    <tr>\n",
       "      <th>284</th>\n",
       "      <td>13/05/2023</td>\n",
       "      <td>19:32:48</td>\n",
       "      <td>2022</td>\n",
       "      <td>2</td>\n",
       "      <td>ELEIÇÃO ORDINÁRIA</td>\n",
       "      <td>1</td>\n",
       "      <td>546</td>\n",
       "      <td>Eleições Gerais Estaduais 2022</td>\n",
       "      <td>02/10/2022</td>\n",
       "      <td>ESTADUAL</td>\n",
       "      <td>...</td>\n",
       "      <td>6006841420226030000</td>\n",
       "      <td>2</td>\n",
       "      <td>DEFERIDO</td>\n",
       "      <td>2</td>\n",
       "      <td>DEFERIDO</td>\n",
       "      <td>SIM</td>\n",
       "      <td>Válido</td>\n",
       "      <td>2</td>\n",
       "      <td>Deferido</td>\n",
       "      <td>S</td>\n",
       "    </tr>\n",
       "    <tr>\n",
       "      <th>366</th>\n",
       "      <td>13/05/2023</td>\n",
       "      <td>19:32:48</td>\n",
       "      <td>2022</td>\n",
       "      <td>2</td>\n",
       "      <td>ELEIÇÃO ORDINÁRIA</td>\n",
       "      <td>1</td>\n",
       "      <td>546</td>\n",
       "      <td>Eleições Gerais Estaduais 2022</td>\n",
       "      <td>02/10/2022</td>\n",
       "      <td>ESTADUAL</td>\n",
       "      <td>...</td>\n",
       "      <td>6005845920226030000</td>\n",
       "      <td>2</td>\n",
       "      <td>DEFERIDO</td>\n",
       "      <td>2</td>\n",
       "      <td>DEFERIDO</td>\n",
       "      <td>SIM</td>\n",
       "      <td>#NULO#</td>\n",
       "      <td>2</td>\n",
       "      <td>Deferido</td>\n",
       "      <td>N</td>\n",
       "    </tr>\n",
       "    <tr>\n",
       "      <th>561</th>\n",
       "      <td>13/05/2023</td>\n",
       "      <td>19:32:48</td>\n",
       "      <td>2022</td>\n",
       "      <td>2</td>\n",
       "      <td>ELEIÇÃO ORDINÁRIA</td>\n",
       "      <td>1</td>\n",
       "      <td>546</td>\n",
       "      <td>Eleições Gerais Estaduais 2022</td>\n",
       "      <td>02/10/2022</td>\n",
       "      <td>ESTADUAL</td>\n",
       "      <td>...</td>\n",
       "      <td>6009509220226140000</td>\n",
       "      <td>2</td>\n",
       "      <td>DEFERIDO</td>\n",
       "      <td>2</td>\n",
       "      <td>DEFERIDO</td>\n",
       "      <td>SIM</td>\n",
       "      <td>Válido</td>\n",
       "      <td>2</td>\n",
       "      <td>Deferido</td>\n",
       "      <td>S</td>\n",
       "    </tr>\n",
       "    <tr>\n",
       "      <th>920</th>\n",
       "      <td>13/05/2023</td>\n",
       "      <td>19:32:48</td>\n",
       "      <td>2022</td>\n",
       "      <td>2</td>\n",
       "      <td>ELEIÇÃO ORDINÁRIA</td>\n",
       "      <td>1</td>\n",
       "      <td>546</td>\n",
       "      <td>Eleições Gerais Estaduais 2022</td>\n",
       "      <td>02/10/2022</td>\n",
       "      <td>ESTADUAL</td>\n",
       "      <td>...</td>\n",
       "      <td>6007611720226140000</td>\n",
       "      <td>2</td>\n",
       "      <td>DEFERIDO</td>\n",
       "      <td>2</td>\n",
       "      <td>DEFERIDO</td>\n",
       "      <td>SIM</td>\n",
       "      <td>Válido</td>\n",
       "      <td>2</td>\n",
       "      <td>Deferido</td>\n",
       "      <td>S</td>\n",
       "    </tr>\n",
       "  </tbody>\n",
       "</table>\n",
       "<p>5 rows × 71 columns</p>\n",
       "</div>"
      ],
      "text/plain": [
       "     DT_GERACAO HH_GERACAO  ANO_ELEICAO  CD_TIPO_ELEICAO    NM_TIPO_ELEICAO  \\\n",
       "247  13/05/2023   19:32:48         2022                2  ELEIÇÃO ORDINÁRIA   \n",
       "284  13/05/2023   19:32:48         2022                2  ELEIÇÃO ORDINÁRIA   \n",
       "366  13/05/2023   19:32:48         2022                2  ELEIÇÃO ORDINÁRIA   \n",
       "561  13/05/2023   19:32:48         2022                2  ELEIÇÃO ORDINÁRIA   \n",
       "920  13/05/2023   19:32:48         2022                2  ELEIÇÃO ORDINÁRIA   \n",
       "\n",
       "     NR_TURNO  CD_ELEICAO                      DS_ELEICAO  DT_ELEICAO  \\\n",
       "247         1         546  Eleições Gerais Estaduais 2022  02/10/2022   \n",
       "284         1         546  Eleições Gerais Estaduais 2022  02/10/2022   \n",
       "366         1         546  Eleições Gerais Estaduais 2022  02/10/2022   \n",
       "561         1         546  Eleições Gerais Estaduais 2022  02/10/2022   \n",
       "920         1         546  Eleições Gerais Estaduais 2022  02/10/2022   \n",
       "\n",
       "    TP_ABRANGENCIA  ...          NR_PROCESSO CD_SITUACAO_CANDIDATO_PLEITO  \\\n",
       "247       ESTADUAL  ...  6012384020226140000                           -1   \n",
       "284       ESTADUAL  ...  6006841420226030000                            2   \n",
       "366       ESTADUAL  ...  6005845920226030000                            2   \n",
       "561       ESTADUAL  ...  6009509220226140000                            2   \n",
       "920       ESTADUAL  ...  6007611720226140000                            2   \n",
       "\n",
       "    DS_SITUACAO_CANDIDATO_PLEITO  CD_SITUACAO_CANDIDATO_URNA  \\\n",
       "247                       #NULO#                          -1   \n",
       "284                     DEFERIDO                           2   \n",
       "366                     DEFERIDO                           2   \n",
       "561                     DEFERIDO                           2   \n",
       "920                     DEFERIDO                           2   \n",
       "\n",
       "    DS_SITUACAO_CANDIDATO_URNA  ST_CANDIDATO_INSERIDO_URNA  \\\n",
       "247                     #NULO#                         NÃO   \n",
       "284                   DEFERIDO                         SIM   \n",
       "366                   DEFERIDO                         SIM   \n",
       "561                   DEFERIDO                         SIM   \n",
       "920                   DEFERIDO                         SIM   \n",
       "\n",
       "     NM_TIPO_DESTINACAO_VOTOS CD_SITUACAO_CANDIDATO_TOT  \\\n",
       "247                    #NULO#                        -1   \n",
       "284                    Válido                         2   \n",
       "366                    #NULO#                         2   \n",
       "561                    Válido                         2   \n",
       "920                    Válido                         2   \n",
       "\n",
       "    DS_SITUACAO_CANDIDATO_TOT ST_PREST_CONTAS  \n",
       "247                    #NULO#               N  \n",
       "284                  Deferido               S  \n",
       "366                  Deferido               N  \n",
       "561                  Deferido               S  \n",
       "920                  Deferido               S  \n",
       "\n",
       "[5 rows x 71 columns]"
      ]
     },
     "execution_count": 34,
     "metadata": {},
     "output_type": "execute_result"
    }
   ],
   "source": [
    "data_df.sample(5)"
   ]
  },
  {
   "attachments": {},
   "cell_type": "markdown",
   "id": "a8238419-ff3d-4f00-bc36-ad1f4da01920",
   "metadata": {},
   "source": [
    "# Quantas candidaturas estão em situação de reeleição?"
   ]
  },
  {
   "cell_type": "code",
   "execution_count": 39,
   "id": "28055dde-c74b-403e-bcc3-deb82a828084",
   "metadata": {},
   "outputs": [
    {
     "data": {
      "text/plain": [
       "81"
      ]
     },
     "execution_count": 39,
     "metadata": {},
     "output_type": "execute_result"
    }
   ],
   "source": [
    "len(data_df[data_df[\"ST_REELEICAO\"]==\"S\"])\n"
   ]
  },
  {
   "attachments": {},
   "cell_type": "markdown",
   "id": "7cd5434f-9c0d-4fb6-a3ef-ce44498fea2e",
   "metadata": {},
   "source": [
    "# Liste todas a ocupações declaradas pelas candidaturas"
   ]
  },
  {
   "cell_type": "code",
   "execution_count": 47,
   "id": "ef30c1ab-703f-4c65-8ba5-1cde6c183f88",
   "metadata": {},
   "outputs": [
    {
     "data": {
      "text/plain": [
       "{'ADMINISTRADOR',\n",
       " 'ADVOGADO',\n",
       " 'AGENTE ADMINISTRATIVO',\n",
       " 'AGENTE DE SAÚDE E SANITARISTA',\n",
       " 'AGENTE DE VIAGEM',\n",
       " 'AGENTE POSTAL',\n",
       " 'AGRICULTOR',\n",
       " 'AGRÔNOMO',\n",
       " 'ANALISTA DE SISTEMAS',\n",
       " 'APOSENTADO (EXCETO SERVIDOR PÚBLICO)',\n",
       " 'ARQUITETO',\n",
       " 'ARTESÃO',\n",
       " 'ASSISTENTE SOCIAL',\n",
       " 'ATLETA PROFISSIONAL E TÉCNICO EM DESPORTOS',\n",
       " 'ATOR E DIRETOR DE ESPETÁCULOS PÚBLICOS',\n",
       " 'AUXILIAR DE ESCRITÓRIO E ASSEMELHADOS',\n",
       " 'BANCÁRIO E ECONOMIÁRIO',\n",
       " 'BIOMÉDICO',\n",
       " 'BIÓLOGO',\n",
       " 'BOMBEIRO CIVIL',\n",
       " 'BOMBEIRO MILITAR',\n",
       " 'CABELEIREIRO E BARBEIRO',\n",
       " 'CABELEIREIRO, BARBEIRO, MANICURE, MAQUILADOR, ESTETICISTA E MASSAGISTA',\n",
       " 'CANTOR E COMPOSITOR',\n",
       " 'CARPINTEIRO, MARCENEIRO E ASSEMELHADOS',\n",
       " 'CATADOR DE RECICLÁVEIS',\n",
       " 'COBRADOR DE TRANSPORTE COLETIVO',\n",
       " 'COMERCIANTE',\n",
       " 'COMERCIÁRIO',\n",
       " 'CONTADOR',\n",
       " 'CORRETOR DE IMÓVEIS, SEGUROS, TÍTULOS E VALORES',\n",
       " 'COZINHEIRO',\n",
       " 'DEMONSTRADOR',\n",
       " 'DEPUTADO',\n",
       " 'DIRETOR DE EMPRESAS',\n",
       " 'DONA DE CASA',\n",
       " 'ECONOMISTA',\n",
       " 'ELETRICISTA E ASSEMELHADOS',\n",
       " 'EMPRESÁRIO',\n",
       " 'ENFERMEIRO',\n",
       " 'ENGENHEIRO',\n",
       " 'ESCRITOR E CRÍTICO',\n",
       " 'ESTETICISTA',\n",
       " 'ESTUDANTE, BOLSISTA, ESTAGIÁRIO E ASSEMELHADOS',\n",
       " 'FARMACÊUTICO',\n",
       " 'FAXINEIRO',\n",
       " 'FEIRANTE, AMBULANTE E MASCATE',\n",
       " 'FISCAL',\n",
       " 'FISIOTERAPEUTA E TERAPEUTA OCUPACIONAL',\n",
       " 'FONOAUDIÓLOGO',\n",
       " 'FOTÓGRAFO E ASSEMELHADOS',\n",
       " 'GARIMPEIRO',\n",
       " 'GERENTE',\n",
       " 'GEÓGRAFO',\n",
       " 'GOVERNADOR',\n",
       " 'HISTORIADOR',\n",
       " 'JORNALISTA E REDATOR',\n",
       " 'LANTERNEIRO E PINTOR DE VEÍCULOS',\n",
       " 'LOCUTOR E COMENTARISTA DE RÁDIO E TELEVISÃO E RADIALISTA',\n",
       " 'MAQUINISTA E FOGUISTA DE EMBARCAÇÕES E ASSEMELHADOS',\n",
       " 'MASSAGISTA',\n",
       " 'MECÂNICO DE MANUTENÇÃO',\n",
       " 'MEMBRO DAS FORÇAS ARMADAS',\n",
       " 'MILITAR REFORMADO',\n",
       " 'MOTOBOY',\n",
       " 'MOTORISTA DE VEÍCULOS DE TRANSPORTE COLETIVO DE PASSAGEIROS',\n",
       " 'MOTORISTA DE VEÍCULOS DE TRANSPORTE DE CARGA',\n",
       " 'MOTORISTA PARTICULAR',\n",
       " 'MÉDICO',\n",
       " 'MÚSICO',\n",
       " 'NUTRICIONISTA E ASSEMELHADOS',\n",
       " 'NÃO DIVULGÁVEL',\n",
       " 'OCUPANTE DE CARGO EM COMISSÃO',\n",
       " 'ODONTÓLOGO',\n",
       " 'OPERADOR DE APARELHOS DE PRODUÇÃO INDUSTRIAL',\n",
       " 'OPERADOR DE IMPLEMENTO DE AGRICULTURA, PECUÁRIA E EXPLORAÇÃO FLORESTAL',\n",
       " 'OUTROS',\n",
       " 'PECUARISTA',\n",
       " 'PEDAGOGO',\n",
       " 'PESCADOR',\n",
       " 'POLICIAL CIVIL',\n",
       " 'POLICIAL MILITAR',\n",
       " 'PORTEIRO DE EDIFÍCIO, ASCENSORISTA, GARAGISTA E ZELADOR',\n",
       " 'PRODUTOR AGROPECUÁRIO',\n",
       " 'PRODUTOR DE ESPETÁCULOS PÚBLICOS',\n",
       " 'PROFESSOR DE ENSINO DE PRIMEIRO E SEGUNDO GRAUS',\n",
       " 'PROFESSOR DE ENSINO FUNDAMENTAL',\n",
       " 'PROFESSOR DE ENSINO MÉDIO',\n",
       " 'PROFESSOR DE ENSINO SUPERIOR',\n",
       " 'PROFESSOR E INSTRUTOR DE FORMAÇÃO PROFISSIONAL',\n",
       " 'PSICÓLOGO',\n",
       " 'PUBLICITÁRIO',\n",
       " 'QUÍMICO',\n",
       " 'RECEPCIONISTA',\n",
       " 'RELAÇÕES-PÚBLICAS',\n",
       " 'REPRESENTANTE COMERCIAL',\n",
       " 'SACERDOTE OU MEMBRO DE ORDEM OU SEITA RELIGIOSA',\n",
       " 'SECRETÁRIO E DATILÓGRAFO',\n",
       " 'SENADOR',\n",
       " 'SENADOR, DEPUTADO E VEREADOR',\n",
       " 'SERRALHEIRO',\n",
       " 'SERVIDOR PÚBLICO CIVIL APOSENTADO',\n",
       " 'SERVIDOR PÚBLICO ESTADUAL',\n",
       " 'SERVIDOR PÚBLICO FEDERAL',\n",
       " 'SERVIDOR PÚBLICO MUNICIPAL',\n",
       " 'SOCIÓLOGO',\n",
       " 'SUPERVISOR, INSPETOR E AGENTE DE COMPRAS E VENDAS',\n",
       " 'TAXISTA',\n",
       " 'TAXISTA E MOTORISTA PARTICULAR',\n",
       " 'TERAPEUTA',\n",
       " 'TRABALHADOR DE CONSTRUÇÃO CIVIL',\n",
       " 'TRABALHADOR RURAL',\n",
       " 'TÉCNICO CONTABILIDADE, ESTATÍSTICA, ECONOMIA DOMÉSTICA E ADMINISTRAÇÃO',\n",
       " 'TÉCNICO DE ELETRICIDADE, ELETRÔNICA E TELECOMUNICAÇÕES',\n",
       " 'TÉCNICO DE ENFERMAGEM E ASSEMELHADOS (EXCETO ENFERMEIRO)',\n",
       " 'TÉCNICO DE MECÂNICA',\n",
       " 'TÉCNICO DE OBRAS CIVIS, ESTRADAS, SANEAMENTO E ASSEMELHADOS',\n",
       " 'TÉCNICO EM AGRONOMIA E AGRIMENSURA',\n",
       " 'TÉCNICO EM INFORMÁTICA',\n",
       " 'VENDEDOR DE COMÉRCIO VAREJISTA E ATACADISTA',\n",
       " 'VENDEDOR PRACISTA, REPRESENTANTE, CAIXEIRO-VIAJANTE E ASSEMELHADOS',\n",
       " 'VEREADOR',\n",
       " 'VETERINÁRIO',\n",
       " 'VIGILANTE',\n",
       " 'ZOOTECNISTA'}"
      ]
     },
     "execution_count": 47,
     "metadata": {},
     "output_type": "execute_result"
    }
   ],
   "source": [
    "set(list(data_df['DS_OCUPACAO']))"
   ]
  },
  {
   "attachments": {},
   "cell_type": "markdown",
   "id": "f92cd033-7c9a-47ac-acad-d5db0035e6ff",
   "metadata": {},
   "source": [
    "# Quantos anos tem a pessoa candidata mais velha?"
   ]
  },
  {
   "cell_type": "code",
   "execution_count": 49,
   "id": "53b023a1-812e-4587-897d-703bf0a2a746",
   "metadata": {},
   "outputs": [
    {
     "data": {
      "text/plain": [
       "81.0"
      ]
     },
     "execution_count": 49,
     "metadata": {},
     "output_type": "execute_result"
    }
   ],
   "source": [
    "data_df['NR_IDADE_DATA_POSSE'].max()"
   ]
  },
  {
   "attachments": {},
   "cell_type": "markdown",
   "id": "de5c48c3-c0b9-418c-bba2-bb20c5312bd8",
   "metadata": {},
   "source": [
    "# Quantos anos tem a pessoa candidata mais jovem?"
   ]
  },
  {
   "cell_type": "code",
   "execution_count": 50,
   "id": "19c454cb-784f-48ab-8a82-61343b045bb8",
   "metadata": {},
   "outputs": [
    {
     "data": {
      "text/plain": [
       "19.0"
      ]
     },
     "execution_count": 50,
     "metadata": {},
     "output_type": "execute_result"
    }
   ],
   "source": [
    "data_df['NR_IDADE_DATA_POSSE'].min()"
   ]
  },
  {
   "attachments": {},
   "cell_type": "markdown",
   "id": "f18ae4e7-ccca-4152-9971-65c543847936",
   "metadata": {},
   "source": [
    "# Qual é o nome da pessoa candidata mais velha?"
   ]
  },
  {
   "cell_type": "code",
   "execution_count": 60,
   "id": "c7059bae-72e9-4c4b-ae70-71c9085b2a1f",
   "metadata": {},
   "outputs": [
    {
     "data": {
      "text/plain": [
       "49    MARIA DE LOURDES PEREIRA DE FARIAS\n",
       "Name: NM_CANDIDATO, dtype: object"
      ]
     },
     "execution_count": 60,
     "metadata": {},
     "output_type": "execute_result"
    }
   ],
   "source": [
    "max_age_mask = data_df[\"NR_IDADE_DATA_POSSE\"] == data_df[\"NR_IDADE_DATA_POSSE\"].max()\n",
    "data_df[max_age_mask][\"NM_CANDIDATO\"]"
   ]
  },
  {
   "attachments": {},
   "cell_type": "markdown",
   "id": "f6ddfb4c-7012-4f0b-befb-f44cde4c06a8",
   "metadata": {},
   "source": [
    "# Quantas candidaturas existem para \"Deputado federal\" seu estado?"
   ]
  },
  {
   "cell_type": "code",
   "execution_count": 66,
   "id": "ae815f6f-7403-4067-af0b-175b21f45172",
   "metadata": {},
   "outputs": [
    {
     "data": {
      "text/plain": [
       "323"
      ]
     },
     "execution_count": 66,
     "metadata": {},
     "output_type": "execute_result"
    }
   ],
   "source": [
    "uf_mask = data_df[\"SG_UE\"] == \"PA\"\n",
    "role_mask = data_df[\"DS_CARGO\"] == \"DEPUTADO FEDERAL\"\n",
    "len(data_df[uf_mask & role_mask])"
   ]
  },
  {
   "attachments": {},
   "cell_type": "markdown",
   "id": "6658e4f9-9271-4f0e-b6f8-575e33e5d8c9",
   "metadata": {},
   "source": [
    "# Qual é a média do valor máximo de despesas de campanha?"
   ]
  },
  {
   "cell_type": "code",
   "execution_count": 73,
   "id": "1b8283db-c218-44cd-908b-e4a2f041a435",
   "metadata": {},
   "outputs": [
    {
     "data": {
      "text/plain": [
       "-4.0"
      ]
     },
     "execution_count": 73,
     "metadata": {},
     "output_type": "execute_result"
    }
   ],
   "source": [
    "data_df[\"VR_DESPESA_MAX_CAMPANHA\"].mean()"
   ]
  }
 ],
 "metadata": {
  "kernelspec": {
   "display_name": "Python 3 (ipykernel)",
   "language": "python",
   "name": "python3"
  },
  "language_info": {
   "codemirror_mode": {
    "name": "ipython",
    "version": 3
   },
   "file_extension": ".py",
   "mimetype": "text/x-python",
   "name": "python",
   "nbconvert_exporter": "python",
   "pygments_lexer": "ipython3",
   "version": "3.9.13"
  }
 },
 "nbformat": 4,
 "nbformat_minor": 5
}
