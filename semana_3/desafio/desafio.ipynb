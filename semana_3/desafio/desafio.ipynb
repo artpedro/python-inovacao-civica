{
 "cells": [
  {
   "cell_type": "markdown",
   "id": "4914c7df",
   "metadata": {
    "id": "bFYatS11gOtN"
   },
   "source": [
    "# Desafio\n",
    "\n",
    "Tente se desafiar um pouco fazendo os desafios extras. Qualquer dúvida, é só falar no grupo, estamos por aqui o/"
   ]
  },
  {
   "cell_type": "markdown",
   "id": "4ac55729",
   "metadata": {},
   "source": [
    "### 1) Acesse a api da camara, e recupere os reembolsos do ano de 2018"
   ]
  },
  {
   "cell_type": "code",
   "execution_count": 5,
   "id": "e335c8c7",
   "metadata": {
    "id": "H-ShSuQJ5ICY"
   },
   "outputs": [
    {
     "data": {
      "text/plain": [
       "'/home/artur/python-inovacao-civica/python-inovacao-civica/semana_3/desafio/Ano-2018.csv'"
      ]
     },
     "execution_count": 5,
     "metadata": {},
     "output_type": "execute_result"
    }
   ],
   "source": [
    "import requests\n",
    "from zipfile import ZipFile\n",
    "\n",
    "# fazendo o download do conteúdo do arquivo\n",
    "r = requests.get(\"http://www.camara.leg.br/cotas/Ano-2018.csv.zip\")\n",
    "\n",
    "with open('reembolso-2018.csv.zip','wb') as file:\n",
    "    file.write(r.content)\n",
    "\n",
    "zip = ZipFile('reembolso-2018.csv.zip','r')\n",
    "zip.extract('Ano-2018.csv')"
   ]
  },
  {
   "cell_type": "markdown",
   "id": "e7244afa",
   "metadata": {
    "id": "9V6UrEjQiS4S"
   },
   "source": [
    "### 2) Leia o Arquivo csv "
   ]
  },
  {
   "cell_type": "code",
   "execution_count": 9,
   "id": "55880b49",
   "metadata": {
    "id": "yalZ9LW96ONR",
    "scrolled": true
   },
   "outputs": [],
   "source": [
    "import pandas as pd\n",
    "df = pd.read_csv('Ano-2018.csv',sep=';')"
   ]
  },
  {
   "cell_type": "markdown",
   "id": "04ac3026",
   "metadata": {},
   "source": [
    "### 3) Visualize 10 linhas aleatórias"
   ]
  },
  {
   "cell_type": "code",
   "execution_count": 10,
   "id": "fbde4877",
   "metadata": {},
   "outputs": [
    {
     "data": {
      "text/html": [
       "<div>\n",
       "<style scoped>\n",
       "    .dataframe tbody tr th:only-of-type {\n",
       "        vertical-align: middle;\n",
       "    }\n",
       "\n",
       "    .dataframe tbody tr th {\n",
       "        vertical-align: top;\n",
       "    }\n",
       "\n",
       "    .dataframe thead th {\n",
       "        text-align: right;\n",
       "    }\n",
       "</style>\n",
       "<table border=\"1\" class=\"dataframe\">\n",
       "  <thead>\n",
       "    <tr style=\"text-align: right;\">\n",
       "      <th></th>\n",
       "      <th>txNomeParlamentar</th>\n",
       "      <th>cpf</th>\n",
       "      <th>ideCadastro</th>\n",
       "      <th>nuCarteiraParlamentar</th>\n",
       "      <th>nuLegislatura</th>\n",
       "      <th>sgUF</th>\n",
       "      <th>sgPartido</th>\n",
       "      <th>codLegislatura</th>\n",
       "      <th>numSubCota</th>\n",
       "      <th>txtDescricao</th>\n",
       "      <th>...</th>\n",
       "      <th>numParcela</th>\n",
       "      <th>txtPassageiro</th>\n",
       "      <th>txtTrecho</th>\n",
       "      <th>numLote</th>\n",
       "      <th>numRessarcimento</th>\n",
       "      <th>datPagamentoRestituicao</th>\n",
       "      <th>vlrRestituicao</th>\n",
       "      <th>nuDeputadoId</th>\n",
       "      <th>ideDocumento</th>\n",
       "      <th>urlDocumento</th>\n",
       "    </tr>\n",
       "  </thead>\n",
       "  <tbody>\n",
       "    <tr>\n",
       "      <th>255992</th>\n",
       "      <td>ROBERTO SALES</td>\n",
       "      <td>7.977099e+09</td>\n",
       "      <td>178944.0</td>\n",
       "      <td>324.0</td>\n",
       "      <td>2015</td>\n",
       "      <td>RJ</td>\n",
       "      <td>DEM</td>\n",
       "      <td>55</td>\n",
       "      <td>11</td>\n",
       "      <td>SERVIÇOS POSTAIS</td>\n",
       "      <td>...</td>\n",
       "      <td>0</td>\n",
       "      <td>NaN</td>\n",
       "      <td>NaN</td>\n",
       "      <td>0</td>\n",
       "      <td>0.0</td>\n",
       "      <td>NaN</td>\n",
       "      <td>NaN</td>\n",
       "      <td>2988</td>\n",
       "      <td>0</td>\n",
       "      <td>NaN</td>\n",
       "    </tr>\n",
       "    <tr>\n",
       "      <th>56979</th>\n",
       "      <td>Maria do Rosário</td>\n",
       "      <td>4.898937e+10</td>\n",
       "      <td>74398.0</td>\n",
       "      <td>508.0</td>\n",
       "      <td>2015</td>\n",
       "      <td>RS</td>\n",
       "      <td>PT</td>\n",
       "      <td>55</td>\n",
       "      <td>4</td>\n",
       "      <td>CONSULTORIAS, PESQUISAS E TRABALHOS TÉCNICOS.</td>\n",
       "      <td>...</td>\n",
       "      <td>0</td>\n",
       "      <td>NaN</td>\n",
       "      <td>NaN</td>\n",
       "      <td>1538820</td>\n",
       "      <td>NaN</td>\n",
       "      <td>NaN</td>\n",
       "      <td>NaN</td>\n",
       "      <td>1605</td>\n",
       "      <td>6697528</td>\n",
       "      <td>https://www.camara.leg.br/cota-parlamentar/doc...</td>\n",
       "    </tr>\n",
       "    <tr>\n",
       "      <th>69572</th>\n",
       "      <td>Paulo Magalhães</td>\n",
       "      <td>6.015531e+09</td>\n",
       "      <td>74574.0</td>\n",
       "      <td>210.0</td>\n",
       "      <td>2015</td>\n",
       "      <td>BA</td>\n",
       "      <td>PSD</td>\n",
       "      <td>55</td>\n",
       "      <td>999</td>\n",
       "      <td>PASSAGEM AÉREA - RPA</td>\n",
       "      <td>...</td>\n",
       "      <td>0</td>\n",
       "      <td>Paulo Magalhães</td>\n",
       "      <td>BSB/SSA</td>\n",
       "      <td>0</td>\n",
       "      <td>0.0</td>\n",
       "      <td>NaN</td>\n",
       "      <td>NaN</td>\n",
       "      <td>1347</td>\n",
       "      <td>1603705</td>\n",
       "      <td>NaN</td>\n",
       "    </tr>\n",
       "    <tr>\n",
       "      <th>45841</th>\n",
       "      <td>Carlos Sampaio</td>\n",
       "      <td>6.197278e+09</td>\n",
       "      <td>74262.0</td>\n",
       "      <td>338.0</td>\n",
       "      <td>2015</td>\n",
       "      <td>SP</td>\n",
       "      <td>PSDB</td>\n",
       "      <td>55</td>\n",
       "      <td>11</td>\n",
       "      <td>SERVIÇOS POSTAIS</td>\n",
       "      <td>...</td>\n",
       "      <td>0</td>\n",
       "      <td>NaN</td>\n",
       "      <td>NaN</td>\n",
       "      <td>0</td>\n",
       "      <td>0.0</td>\n",
       "      <td>NaN</td>\n",
       "      <td>NaN</td>\n",
       "      <td>1552</td>\n",
       "      <td>0</td>\n",
       "      <td>NaN</td>\n",
       "    </tr>\n",
       "    <tr>\n",
       "      <th>181594</th>\n",
       "      <td>Ricardo Izar</td>\n",
       "      <td>1.055371e+10</td>\n",
       "      <td>160655.0</td>\n",
       "      <td>383.0</td>\n",
       "      <td>2015</td>\n",
       "      <td>SP</td>\n",
       "      <td>PP</td>\n",
       "      <td>55</td>\n",
       "      <td>10</td>\n",
       "      <td>TELEFONIA</td>\n",
       "      <td>...</td>\n",
       "      <td>0</td>\n",
       "      <td>NaN</td>\n",
       "      <td>NaN</td>\n",
       "      <td>1486927</td>\n",
       "      <td>NaN</td>\n",
       "      <td>NaN</td>\n",
       "      <td>NaN</td>\n",
       "      <td>2253</td>\n",
       "      <td>6559676</td>\n",
       "      <td>NaN</td>\n",
       "    </tr>\n",
       "    <tr>\n",
       "      <th>37755</th>\n",
       "      <td>Leonardo Monteiro</td>\n",
       "      <td>2.081185e+10</td>\n",
       "      <td>74156.0</td>\n",
       "      <td>253.0</td>\n",
       "      <td>2015</td>\n",
       "      <td>MG</td>\n",
       "      <td>PT</td>\n",
       "      <td>55</td>\n",
       "      <td>10</td>\n",
       "      <td>TELEFONIA</td>\n",
       "      <td>...</td>\n",
       "      <td>0</td>\n",
       "      <td>NaN</td>\n",
       "      <td>NaN</td>\n",
       "      <td>1541309</td>\n",
       "      <td>NaN</td>\n",
       "      <td>NaN</td>\n",
       "      <td>NaN</td>\n",
       "      <td>1582</td>\n",
       "      <td>6704284</td>\n",
       "      <td>NaN</td>\n",
       "    </tr>\n",
       "    <tr>\n",
       "      <th>209886</th>\n",
       "      <td>RONALDO LESSA</td>\n",
       "      <td>2.621380e+09</td>\n",
       "      <td>178845.0</td>\n",
       "      <td>173.0</td>\n",
       "      <td>2015</td>\n",
       "      <td>AL</td>\n",
       "      <td>PDT</td>\n",
       "      <td>55</td>\n",
       "      <td>3</td>\n",
       "      <td>COMBUSTÍVEIS E LUBRIFICANTES.</td>\n",
       "      <td>...</td>\n",
       "      <td>0</td>\n",
       "      <td>NaN</td>\n",
       "      <td>NaN</td>\n",
       "      <td>1544821</td>\n",
       "      <td>NaN</td>\n",
       "      <td>NaN</td>\n",
       "      <td>NaN</td>\n",
       "      <td>3003</td>\n",
       "      <td>6713680</td>\n",
       "      <td>https://www.camara.leg.br/cota-parlamentar/not...</td>\n",
       "    </tr>\n",
       "    <tr>\n",
       "      <th>287925</th>\n",
       "      <td>FRANKLIN</td>\n",
       "      <td>7.430123e+10</td>\n",
       "      <td>186775.0</td>\n",
       "      <td>544.0</td>\n",
       "      <td>2015</td>\n",
       "      <td>MG</td>\n",
       "      <td>PP</td>\n",
       "      <td>55</td>\n",
       "      <td>122</td>\n",
       "      <td>SERVIÇO DE TÁXI, PEDÁGIO E ESTACIONAMENTO</td>\n",
       "      <td>...</td>\n",
       "      <td>0</td>\n",
       "      <td>NaN</td>\n",
       "      <td>NaN</td>\n",
       "      <td>1473867</td>\n",
       "      <td>NaN</td>\n",
       "      <td>NaN</td>\n",
       "      <td>NaN</td>\n",
       "      <td>3118</td>\n",
       "      <td>6522715</td>\n",
       "      <td>https://www.camara.leg.br/cota-parlamentar/doc...</td>\n",
       "    </tr>\n",
       "    <tr>\n",
       "      <th>203092</th>\n",
       "      <td>Leandre</td>\n",
       "      <td>8.063508e+10</td>\n",
       "      <td>178832.0</td>\n",
       "      <td>453.0</td>\n",
       "      <td>2015</td>\n",
       "      <td>PR</td>\n",
       "      <td>PV</td>\n",
       "      <td>55</td>\n",
       "      <td>5</td>\n",
       "      <td>DIVULGAÇÃO DA ATIVIDADE PARLAMENTAR.</td>\n",
       "      <td>...</td>\n",
       "      <td>0</td>\n",
       "      <td>NaN</td>\n",
       "      <td>NaN</td>\n",
       "      <td>1507238</td>\n",
       "      <td>NaN</td>\n",
       "      <td>NaN</td>\n",
       "      <td>NaN</td>\n",
       "      <td>3044</td>\n",
       "      <td>6610986</td>\n",
       "      <td>NaN</td>\n",
       "    </tr>\n",
       "    <tr>\n",
       "      <th>75930</th>\n",
       "      <td>Luiza Erundina</td>\n",
       "      <td>4.805844e+08</td>\n",
       "      <td>74784.0</td>\n",
       "      <td>371.0</td>\n",
       "      <td>2015</td>\n",
       "      <td>SP</td>\n",
       "      <td>PSOL</td>\n",
       "      <td>55</td>\n",
       "      <td>999</td>\n",
       "      <td>PASSAGEM AÉREA - RPA</td>\n",
       "      <td>...</td>\n",
       "      <td>0</td>\n",
       "      <td>Luiza Erundina</td>\n",
       "      <td>CGH/BSB</td>\n",
       "      <td>0</td>\n",
       "      <td>0.0</td>\n",
       "      <td>NaN</td>\n",
       "      <td>NaN</td>\n",
       "      <td>1402</td>\n",
       "      <td>1630236</td>\n",
       "      <td>NaN</td>\n",
       "    </tr>\n",
       "  </tbody>\n",
       "</table>\n",
       "<p>10 rows × 32 columns</p>\n",
       "</div>"
      ],
      "text/plain": [
       "        txNomeParlamentar           cpf  ideCadastro  nuCarteiraParlamentar  \\\n",
       "255992      ROBERTO SALES  7.977099e+09     178944.0                  324.0   \n",
       "56979    Maria do Rosário  4.898937e+10      74398.0                  508.0   \n",
       "69572     Paulo Magalhães  6.015531e+09      74574.0                  210.0   \n",
       "45841      Carlos Sampaio  6.197278e+09      74262.0                  338.0   \n",
       "181594       Ricardo Izar  1.055371e+10     160655.0                  383.0   \n",
       "37755   Leonardo Monteiro  2.081185e+10      74156.0                  253.0   \n",
       "209886      RONALDO LESSA  2.621380e+09     178845.0                  173.0   \n",
       "287925           FRANKLIN  7.430123e+10     186775.0                  544.0   \n",
       "203092            Leandre  8.063508e+10     178832.0                  453.0   \n",
       "75930      Luiza Erundina  4.805844e+08      74784.0                  371.0   \n",
       "\n",
       "        nuLegislatura sgUF sgPartido  codLegislatura  numSubCota  \\\n",
       "255992           2015   RJ       DEM              55          11   \n",
       "56979            2015   RS        PT              55           4   \n",
       "69572            2015   BA       PSD              55         999   \n",
       "45841            2015   SP      PSDB              55          11   \n",
       "181594           2015   SP        PP              55          10   \n",
       "37755            2015   MG        PT              55          10   \n",
       "209886           2015   AL       PDT              55           3   \n",
       "287925           2015   MG        PP              55         122   \n",
       "203092           2015   PR        PV              55           5   \n",
       "75930            2015   SP      PSOL              55         999   \n",
       "\n",
       "                                         txtDescricao  ...  numParcela  \\\n",
       "255992                               SERVIÇOS POSTAIS  ...           0   \n",
       "56979   CONSULTORIAS, PESQUISAS E TRABALHOS TÉCNICOS.  ...           0   \n",
       "69572                            PASSAGEM AÉREA - RPA  ...           0   \n",
       "45841                                SERVIÇOS POSTAIS  ...           0   \n",
       "181594                                      TELEFONIA  ...           0   \n",
       "37755                                       TELEFONIA  ...           0   \n",
       "209886                  COMBUSTÍVEIS E LUBRIFICANTES.  ...           0   \n",
       "287925      SERVIÇO DE TÁXI, PEDÁGIO E ESTACIONAMENTO  ...           0   \n",
       "203092           DIVULGAÇÃO DA ATIVIDADE PARLAMENTAR.  ...           0   \n",
       "75930                            PASSAGEM AÉREA - RPA  ...           0   \n",
       "\n",
       "          txtPassageiro txtTrecho  numLote numRessarcimento  \\\n",
       "255992              NaN       NaN        0              0.0   \n",
       "56979               NaN       NaN  1538820              NaN   \n",
       "69572   Paulo Magalhães   BSB/SSA        0              0.0   \n",
       "45841               NaN       NaN        0              0.0   \n",
       "181594              NaN       NaN  1486927              NaN   \n",
       "37755               NaN       NaN  1541309              NaN   \n",
       "209886              NaN       NaN  1544821              NaN   \n",
       "287925              NaN       NaN  1473867              NaN   \n",
       "203092              NaN       NaN  1507238              NaN   \n",
       "75930    Luiza Erundina   CGH/BSB        0              0.0   \n",
       "\n",
       "        datPagamentoRestituicao vlrRestituicao  nuDeputadoId  ideDocumento  \\\n",
       "255992                      NaN            NaN          2988             0   \n",
       "56979                       NaN            NaN          1605       6697528   \n",
       "69572                       NaN            NaN          1347       1603705   \n",
       "45841                       NaN            NaN          1552             0   \n",
       "181594                      NaN            NaN          2253       6559676   \n",
       "37755                       NaN            NaN          1582       6704284   \n",
       "209886                      NaN            NaN          3003       6713680   \n",
       "287925                      NaN            NaN          3118       6522715   \n",
       "203092                      NaN            NaN          3044       6610986   \n",
       "75930                       NaN            NaN          1402       1630236   \n",
       "\n",
       "                                             urlDocumento  \n",
       "255992                                                NaN  \n",
       "56979   https://www.camara.leg.br/cota-parlamentar/doc...  \n",
       "69572                                                 NaN  \n",
       "45841                                                 NaN  \n",
       "181594                                                NaN  \n",
       "37755                                                 NaN  \n",
       "209886  https://www.camara.leg.br/cota-parlamentar/not...  \n",
       "287925  https://www.camara.leg.br/cota-parlamentar/doc...  \n",
       "203092                                                NaN  \n",
       "75930                                                 NaN  \n",
       "\n",
       "[10 rows x 32 columns]"
      ]
     },
     "execution_count": 10,
     "metadata": {},
     "output_type": "execute_result"
    }
   ],
   "source": [
    "df.sample(10)"
   ]
  },
  {
   "cell_type": "markdown",
   "id": "be0725bb",
   "metadata": {
    "id": "3LhB4RCUVMm7"
   },
   "source": [
    "### 4) Existem registros com `ideDocumento` nulo?"
   ]
  },
  {
   "cell_type": "code",
   "execution_count": null,
   "id": "bc915fec",
   "metadata": {},
   "outputs": [],
   "source": [
    "df[df.ideDocumento.isnull]"
   ]
  },
  {
   "cell_type": "markdown",
   "id": "f048cb6e",
   "metadata": {},
   "source": [
    "### 5) Converta a coluna `datEmissao` para `datetime`, e descubra quantos reembolsos aconteram no primeiro semestre de 2018"
   ]
  },
  {
   "cell_type": "code",
   "execution_count": null,
   "id": "841f51c2",
   "metadata": {},
   "outputs": [],
   "source": []
  },
  {
   "cell_type": "markdown",
   "id": "f5f7801b",
   "metadata": {},
   "source": [
    "#### [Desafio Extra] Existem registros com `datEmissao` nulos? Se sim, quantos?"
   ]
  },
  {
   "cell_type": "code",
   "execution_count": null,
   "id": "87026a4c",
   "metadata": {},
   "outputs": [],
   "source": []
  },
  {
   "cell_type": "markdown",
   "id": "5a2d2e56",
   "metadata": {},
   "source": [
    "#### [Desafio Extra] Existem registros de outros anos no arquivo de 2018? Se sim, quais anos e quantos registros há nessas datas?"
   ]
  },
  {
   "cell_type": "code",
   "execution_count": null,
   "id": "bd0f4fe8",
   "metadata": {},
   "outputs": [],
   "source": []
  },
  {
   "cell_type": "markdown",
   "id": "c45d303f",
   "metadata": {},
   "source": [
    "### 6) Quais os meses que mais tem solicitação de reembolso?"
   ]
  },
  {
   "cell_type": "code",
   "execution_count": null,
   "id": "86c1ab12",
   "metadata": {},
   "outputs": [],
   "source": []
  },
  {
   "cell_type": "markdown",
   "id": "cdf80d6c",
   "metadata": {},
   "source": [
    "#### [Desafio Extra] Como seria para agrupar os dados no formato `mes/ano` , ao invés de apenas mês?"
   ]
  },
  {
   "cell_type": "code",
   "execution_count": null,
   "id": "7c9b6a14",
   "metadata": {},
   "outputs": [],
   "source": []
  },
  {
   "cell_type": "markdown",
   "id": "a98577da",
   "metadata": {},
   "source": [
    "### 7) Limpe a coluna `txtCNPJCPF`: ela deve conter somente dígitos numéricos"
   ]
  },
  {
   "cell_type": "code",
   "execution_count": null,
   "id": "72548aa5",
   "metadata": {},
   "outputs": [],
   "source": [
    "# vamos trocar qualquer caracter que não seja um dígito número por '', essa operação remove os dígitos\n",
    "df_reimbursements[\"txtCNPJCPF\"] = df_reimbursements..."
   ]
  },
  {
   "cell_type": "markdown",
   "id": "d5592506",
   "metadata": {},
   "source": [
    "### 8) Quais são os valores únicos do campo `indTipoDocumento`? Substitua o conteúdo pela respectiva legenda\n",
    "\n",
    "*Dica*: 0 (Zero), para Nota Fiscal; 1 (um), para Recibo; e 2, para Despesa no Exterior."
   ]
  },
  {
   "cell_type": "code",
   "execution_count": null,
   "id": "1c9b5dcd",
   "metadata": {},
   "outputs": [],
   "source": []
  },
  {
   "cell_type": "markdown",
   "id": "ce8402aa",
   "metadata": {},
   "source": [
    "### [Desafio Extra] 9) Agrupe o valor total de despesas por fornecedor, mês e ano. Você encontrou algum padrão?"
   ]
  },
  {
   "cell_type": "code",
   "execution_count": null,
   "id": "edc06727",
   "metadata": {},
   "outputs": [],
   "source": []
  },
  {
   "cell_type": "markdown",
   "id": "5cf22688",
   "metadata": {},
   "source": [
    "### [Desafio Extra] 10) Quais os 10 parlamentares que mais solicitaram reembolso?"
   ]
  },
  {
   "cell_type": "code",
   "execution_count": null,
   "id": "743e3925",
   "metadata": {},
   "outputs": [],
   "source": []
  },
  {
   "cell_type": "markdown",
   "id": "ada7feda",
   "metadata": {},
   "source": [
    "#### [Desafio Extra] Como ficaria a resposta, caso queiramos saber quais os seus estados e partidos?"
   ]
  },
  {
   "cell_type": "code",
   "execution_count": null,
   "id": "054348d3",
   "metadata": {},
   "outputs": [],
   "source": []
  },
  {
   "cell_type": "markdown",
   "id": "97afecd5",
   "metadata": {},
   "source": [
    "### [Desafio Extra] 11) Quais os partidos e os estados que mais solicitaram reembolso?"
   ]
  },
  {
   "cell_type": "code",
   "execution_count": null,
   "id": "6b8131d8",
   "metadata": {},
   "outputs": [],
   "source": []
  },
  {
   "cell_type": "markdown",
   "id": "48b6dd88",
   "metadata": {},
   "source": [
    "### [Desafio Extra] 12) Recupere os reembolsos de 2019 e acrescente aos dados de 2018"
   ]
  },
  {
   "cell_type": "code",
   "execution_count": null,
   "id": "cf275d82",
   "metadata": {},
   "outputs": [],
   "source": []
  },
  {
   "cell_type": "markdown",
   "id": "3956e033",
   "metadata": {},
   "source": [
    "### [Desafio Extra] 13) Responda novamente as questões 9, 10 e 11. Houve alguma mudança nos resultados?"
   ]
  },
  {
   "cell_type": "code",
   "execution_count": null,
   "id": "913dd2a1",
   "metadata": {},
   "outputs": [],
   "source": []
  }
 ],
 "metadata": {
  "kernelspec": {
   "display_name": "Python 3 (ipykernel)",
   "language": "python",
   "name": "python3"
  },
  "language_info": {
   "codemirror_mode": {
    "name": "ipython",
    "version": 3
   },
   "file_extension": ".py",
   "mimetype": "text/x-python",
   "name": "python",
   "nbconvert_exporter": "python",
   "pygments_lexer": "ipython3",
   "version": "3.9.13"
  },
  "toc": {
   "base_numbering": 1,
   "nav_menu": {},
   "number_sections": true,
   "sideBar": true,
   "skip_h1_title": false,
   "title_cell": "Table of Contents",
   "title_sidebar": "Contents",
   "toc_cell": false,
   "toc_position": {
    "height": "calc(100% - 180px)",
    "left": "10px",
    "top": "150px",
    "width": "165px"
   },
   "toc_section_display": true,
   "toc_window_display": true
  }
 },
 "nbformat": 4,
 "nbformat_minor": 5
}
