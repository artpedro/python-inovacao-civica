{
 "cells": [
  {
   "attachments": {},
   "cell_type": "markdown",
   "id": "7734693e",
   "metadata": {},
   "source": [
    "# Escola de Dados - Python para inovação cívica\n",
    "## Módulo 1: Noções básicas de estatística descritiva e pré-processamento\n",
    "\n",
    "- [Aula 8](#Aula-8:-Introdução-a-estatística)\n",
    "- [Aula 9](#Aula-9:-Medidas-de-tendência-central-e-dispersão)\n",
    "- [Aula 10](#Aula-10:-Outliers-e-valores-faltantes)\n",
    "- [Aula 12](#Aula-12:-Operações-básicas-com-python)\n",
    "- [Aula 13](#Aula-13:-Métodos-`filter`-e-`sort_values`)\n",
    "- [Aula 14](#Aula-14:-Operações-com-dados-e-método-`apply`)\n",
    "- [Aula 15](#Aula-15:-Operações-com-dados-e-método-`groupby`)\n",
    "\n",
    "\n",
    "### Aula 8: Introdução a estatística\n",
    "\n",
    "Os dados que usaremos nesse notebook pode ser encontrado em: [TSE. Candidaturas em 2020](https://www.tse.jus.br/eleicoes/estatisticas/repositorio-de-dados-eleitorais-1).\n",
    "\n",
    "Trabalharemos com os dados referentes as candidaturas nos estados de Amapá e Pará.\n"
   ]
  },
  {
   "cell_type": "code",
   "execution_count": 1,
   "id": "2d8c10dc",
   "metadata": {
    "tags": []
   },
   "outputs": [],
   "source": [
    "import pandas as pd\n",
    "import glob"
   ]
  },
  {
   "cell_type": "code",
   "execution_count": 2,
   "id": "23db38e0",
   "metadata": {
    "tags": []
   },
   "outputs": [],
   "source": [
    "dados_ap_pa = ['base_dados/consulta_cand_2020_AP.csv', 'base_dados/consulta_cand_2020_PA.csv']"
   ]
  },
  {
   "cell_type": "code",
   "execution_count": 5,
   "id": "d6c44eef",
   "metadata": {
    "tags": []
   },
   "outputs": [
    {
     "data": {
      "text/plain": [
       "[      DT_GERACAO HH_GERACAO  ANO_ELEICAO  CD_TIPO_ELEICAO    NM_TIPO_ELEICAO  \\\n",
       " 0     06/05/2023   08:21:53         2020                2  ELEIÇÃO ORDINÁRIA   \n",
       " 1     06/05/2023   08:21:53         2020                2  ELEIÇÃO ORDINÁRIA   \n",
       " 2     06/05/2023   08:21:53         2020                2  ELEIÇÃO ORDINÁRIA   \n",
       " 3     06/05/2023   08:21:53         2020                2  ELEIÇÃO ORDINÁRIA   \n",
       " 4     06/05/2023   08:21:53         2020                2  ELEIÇÃO ORDINÁRIA   \n",
       " ...          ...        ...          ...              ...                ...   \n",
       " 2493  06/05/2023   08:21:53         2020                2  ELEIÇÃO ORDINÁRIA   \n",
       " 2494  06/05/2023   08:21:53         2020                2  ELEIÇÃO ORDINÁRIA   \n",
       " 2495  06/05/2023   08:21:53         2020                2  ELEIÇÃO ORDINÁRIA   \n",
       " 2496  06/05/2023   08:21:53         2020                2  ELEIÇÃO ORDINÁRIA   \n",
       " 2497  06/05/2023   08:21:53         2020                2  ELEIÇÃO ORDINÁRIA   \n",
       " \n",
       "       NR_TURNO  CD_ELEICAO                DS_ELEICAO  DT_ELEICAO  \\\n",
       " 0            1         426  Eleições Municipais 2020  15/11/2020   \n",
       " 1            1         426  Eleições Municipais 2020  15/11/2020   \n",
       " 2            1         426  Eleições Municipais 2020  15/11/2020   \n",
       " 3            1         426  Eleições Municipais 2020  15/11/2020   \n",
       " 4            1         426  Eleições Municipais 2020  15/11/2020   \n",
       " ...        ...         ...                       ...         ...   \n",
       " 2493         1         426  Eleições Municipais 2020  15/11/2020   \n",
       " 2494         1         426  Eleições Municipais 2020  15/11/2020   \n",
       " 2495         1         426  Eleições Municipais 2020  15/11/2020   \n",
       " 2496         1         426  Eleições Municipais 2020  15/11/2020   \n",
       " 2497         1         426  Eleições Municipais 2020  15/11/2020   \n",
       " \n",
       "      TP_ABRANGENCIA  ...          NR_PROCESSO  CD_SITUACAO_CANDIDATO_PLEITO  \\\n",
       " 0         MUNICIPAL  ...  6001110820206030012                             2   \n",
       " 1         MUNICIPAL  ...  6001035220206030005                             2   \n",
       " 2         MUNICIPAL  ...  6000878020206030011                             2   \n",
       " 3         MUNICIPAL  ...  6002661420206030011                             4   \n",
       " 4         MUNICIPAL  ...  6001321720206030001                             2   \n",
       " ...             ...  ...                  ...                           ...   \n",
       " 2493      MUNICIPAL  ...  6000991220206030006                             2   \n",
       " 2494      MUNICIPAL  ...  6001458320206030011                             2   \n",
       " 2495      MUNICIPAL  ...  6005770820206030010                             2   \n",
       " 2496      MUNICIPAL  ...  6002801920206030004                             2   \n",
       " 2497      MUNICIPAL  ...  6002385820206030007                             2   \n",
       " \n",
       "      DS_SITUACAO_CANDIDATO_PLEITO  CD_SITUACAO_CANDIDATO_URNA  \\\n",
       " 0                        DEFERIDO                           2   \n",
       " 1                        DEFERIDO                           2   \n",
       " 2                        DEFERIDO                           2   \n",
       " 3          INDEFERIDO COM RECURSO                           4   \n",
       " 4                        DEFERIDO                           2   \n",
       " ...                           ...                         ...   \n",
       " 2493                     DEFERIDO                           2   \n",
       " 2494                     DEFERIDO                           2   \n",
       " 2495                     DEFERIDO                           2   \n",
       " 2496                     DEFERIDO                           2   \n",
       " 2497                     DEFERIDO                           2   \n",
       " \n",
       "      DS_SITUACAO_CANDIDATO_URNA  ST_CANDIDATO_INSERIDO_URNA  \\\n",
       " 0                      DEFERIDO                         SIM   \n",
       " 1                      DEFERIDO                         SIM   \n",
       " 2                      DEFERIDO                         SIM   \n",
       " 3        INDEFERIDO COM RECURSO                         SIM   \n",
       " 4                      DEFERIDO                         SIM   \n",
       " ...                         ...                         ...   \n",
       " 2493                   DEFERIDO                         SIM   \n",
       " 2494                   DEFERIDO                         SIM   \n",
       " 2495                   DEFERIDO                         SIM   \n",
       " 2496                   DEFERIDO                         SIM   \n",
       " 2497                   DEFERIDO                         SIM   \n",
       " \n",
       "       NM_TIPO_DESTINACAO_VOTOS CD_SITUACAO_CANDIDATO_TOT  \\\n",
       " 0                       Válido                         2   \n",
       " 1                       Válido                         2   \n",
       " 2                       Válido                         2   \n",
       " 3           Anulado sub judice                         4   \n",
       " 4                       Válido                         2   \n",
       " ...                        ...                       ...   \n",
       " 2493                    Válido                         2   \n",
       " 2494                    Válido                         2   \n",
       " 2495                    Válido                         2   \n",
       " 2496                    Válido                         2   \n",
       " 2497                    Válido                         2   \n",
       " \n",
       "      DS_SITUACAO_CANDIDATO_TOT ST_PREST_CONTAS  \n",
       " 0                     Deferido               S  \n",
       " 1                     Deferido               S  \n",
       " 2                     Deferido               S  \n",
       " 3       Indeferido com recurso               S  \n",
       " 4                     Deferido               S  \n",
       " ...                        ...             ...  \n",
       " 2493                  Deferido               S  \n",
       " 2494                  Deferido               S  \n",
       " 2495                  Deferido               S  \n",
       " 2496                  Deferido               S  \n",
       " 2497                  Deferido               S  \n",
       " \n",
       " [2498 rows x 71 columns],\n",
       "        DT_GERACAO HH_GERACAO  ANO_ELEICAO  CD_TIPO_ELEICAO    NM_TIPO_ELEICAO  \\\n",
       " 0      06/05/2023   08:21:53         2020                2  ELEIÇÃO ORDINÁRIA   \n",
       " 1      06/05/2023   08:21:53         2020                2  ELEIÇÃO ORDINÁRIA   \n",
       " 2      06/05/2023   08:21:53         2020                2  ELEIÇÃO ORDINÁRIA   \n",
       " 3      06/05/2023   08:21:53         2020                2  ELEIÇÃO ORDINÁRIA   \n",
       " 4      06/05/2023   08:21:53         2020                2  ELEIÇÃO ORDINÁRIA   \n",
       " ...           ...        ...          ...              ...                ...   \n",
       " 23650  06/05/2023   08:21:53         2020                2  ELEIÇÃO ORDINÁRIA   \n",
       " 23651  06/05/2023   08:21:53         2020                2  ELEIÇÃO ORDINÁRIA   \n",
       " 23652  06/05/2023   08:21:53         2020                2  ELEIÇÃO ORDINÁRIA   \n",
       " 23653  06/05/2023   08:21:53         2020                2  ELEIÇÃO ORDINÁRIA   \n",
       " 23654  06/05/2023   08:21:53         2020                2  ELEIÇÃO ORDINÁRIA   \n",
       " \n",
       "        NR_TURNO  CD_ELEICAO                DS_ELEICAO  DT_ELEICAO  \\\n",
       " 0             1         426  Eleições Municipais 2020  15/11/2020   \n",
       " 1             1         426  Eleições Municipais 2020  15/11/2020   \n",
       " 2             1         426  Eleições Municipais 2020  15/11/2020   \n",
       " 3             1         426  Eleições Municipais 2020  15/11/2020   \n",
       " 4             1         426  Eleições Municipais 2020  15/11/2020   \n",
       " ...         ...         ...                       ...         ...   \n",
       " 23650         1         426  Eleições Municipais 2020  15/11/2020   \n",
       " 23651         1         426  Eleições Municipais 2020  15/11/2020   \n",
       " 23652         1         426  Eleições Municipais 2020  15/11/2020   \n",
       " 23653         1         426  Eleições Municipais 2020  15/11/2020   \n",
       " 23654         1         426  Eleições Municipais 2020  15/11/2020   \n",
       " \n",
       "       TP_ABRANGENCIA  ...          NR_PROCESSO  CD_SITUACAO_CANDIDATO_PLEITO  \\\n",
       " 0          MUNICIPAL  ...  6001643920206140058                             2   \n",
       " 1          MUNICIPAL  ...  6004460420206140050                             2   \n",
       " 2          MUNICIPAL  ...  6003310220206140076                             2   \n",
       " 3          MUNICIPAL  ...  6003066520206140083                             2   \n",
       " 4          MUNICIPAL  ...  6001596820206140041                             2   \n",
       " ...              ...  ...                  ...                           ...   \n",
       " 23650      MUNICIPAL  ...  6003735420206140075                             2   \n",
       " 23651      MUNICIPAL  ...  6001728120206140004                             2   \n",
       " 23652      MUNICIPAL  ...  6002429320206140038                             2   \n",
       " 23653      MUNICIPAL  ...  6003683520206140074                             2   \n",
       " 23654      MUNICIPAL  ...  6002642620206140015                             2   \n",
       " \n",
       "       DS_SITUACAO_CANDIDATO_PLEITO  CD_SITUACAO_CANDIDATO_URNA  \\\n",
       " 0                         DEFERIDO                           2   \n",
       " 1                         DEFERIDO                           2   \n",
       " 2                         DEFERIDO                           2   \n",
       " 3                         DEFERIDO                           2   \n",
       " 4                         DEFERIDO                           2   \n",
       " ...                            ...                         ...   \n",
       " 23650                     DEFERIDO                           2   \n",
       " 23651                     DEFERIDO                           2   \n",
       " 23652                     DEFERIDO                           2   \n",
       " 23653                     DEFERIDO                           2   \n",
       " 23654                     DEFERIDO                           2   \n",
       " \n",
       "       DS_SITUACAO_CANDIDATO_URNA  ST_CANDIDATO_INSERIDO_URNA  \\\n",
       " 0                       DEFERIDO                         SIM   \n",
       " 1                       DEFERIDO                         SIM   \n",
       " 2                       DEFERIDO                         SIM   \n",
       " 3                       DEFERIDO                         SIM   \n",
       " 4                       DEFERIDO                         SIM   \n",
       " ...                          ...                         ...   \n",
       " 23650                   DEFERIDO                         SIM   \n",
       " 23651                   DEFERIDO                         SIM   \n",
       " 23652                   DEFERIDO                         SIM   \n",
       " 23653                   DEFERIDO                         SIM   \n",
       " 23654                   DEFERIDO                         SIM   \n",
       " \n",
       "        NM_TIPO_DESTINACAO_VOTOS CD_SITUACAO_CANDIDATO_TOT  \\\n",
       " 0                        Válido                         2   \n",
       " 1                        Válido                         2   \n",
       " 2                        Válido                         2   \n",
       " 3                        Válido                         2   \n",
       " 4                        Válido                         2   \n",
       " ...                         ...                       ...   \n",
       " 23650                    Válido                         2   \n",
       " 23651                    Válido                         2   \n",
       " 23652                    Válido                         2   \n",
       " 23653                    Válido                         2   \n",
       " 23654                    Válido                         2   \n",
       " \n",
       "       DS_SITUACAO_CANDIDATO_TOT ST_PREST_CONTAS  \n",
       " 0                      Deferido               S  \n",
       " 1                      Deferido               S  \n",
       " 2                      Deferido               S  \n",
       " 3                      Deferido               S  \n",
       " 4                      Deferido               N  \n",
       " ...                         ...             ...  \n",
       " 23650                  Deferido               S  \n",
       " 23651                  Deferido               S  \n",
       " 23652                  Deferido               S  \n",
       " 23653                  Deferido               S  \n",
       " 23654                  Deferido               S  \n",
       " \n",
       " [23655 rows x 71 columns]]"
      ]
     },
     "execution_count": 5,
     "metadata": {},
     "output_type": "execute_result"
    }
   ],
   "source": [
    "lista_df = []\n",
    "\n",
    "for dados_estado in dados_ap_pa:\n",
    "    df_estado = pd.read_csv(dados_estado, sep=';', encoding='latin_1')\n",
    "    lista_df.append(df_estado)\n",
    "\n",
    "lista_df"
   ]
  },
  {
   "cell_type": "code",
   "execution_count": 6,
   "id": "31ddff3b",
   "metadata": {
    "tags": []
   },
   "outputs": [],
   "source": [
    "df_completo = pd.concat(lista_df, axis=0, ignore_index=True)"
   ]
  },
  {
   "attachments": {},
   "cell_type": "markdown",
   "id": "d4cc48d0",
   "metadata": {},
   "source": [
    "É possível criar um dataframe apenas com os dados de candidaturas para as Câmeras de Vereados dos estados."
   ]
  },
  {
   "cell_type": "code",
   "execution_count": 7,
   "id": "4e05d8d6",
   "metadata": {
    "tags": []
   },
   "outputs": [],
   "source": [
    "df_vereadores = df_completo[df_completo['CD_CARGO'] == 13].copy()"
   ]
  },
  {
   "cell_type": "code",
   "execution_count": 30,
   "id": "2c80d4c0",
   "metadata": {
    "tags": []
   },
   "outputs": [
    {
     "data": {
      "text/plain": [
       "Index(['DT_GERACAO', 'HH_GERACAO', 'ANO_ELEICAO', 'CD_TIPO_ELEICAO',\n",
       "       'NM_TIPO_ELEICAO', 'NR_TURNO', 'CD_ELEICAO', 'DS_ELEICAO', 'DT_ELEICAO',\n",
       "       'TP_ABRANGENCIA', 'SG_UF', 'SG_UE', 'NM_UE', 'CD_CARGO', 'DS_CARGO',\n",
       "       'SQ_CANDIDATO', 'NR_CANDIDATO', 'NM_CANDIDATO', 'NM_URNA_CANDIDATO',\n",
       "       'NM_SOCIAL_CANDIDATO', 'NR_CPF_CANDIDATO', 'NM_EMAIL',\n",
       "       'CD_SITUACAO_CANDIDATURA', 'DS_SITUACAO_CANDIDATURA',\n",
       "       'CD_DETALHE_SITUACAO_CAND', 'DS_DETALHE_SITUACAO_CAND', 'TP_AGREMIACAO',\n",
       "       'NR_PARTIDO', 'SG_PARTIDO', 'NM_PARTIDO', 'NR_FEDERACAO',\n",
       "       'NM_FEDERACAO', 'SG_FEDERACAO', 'DS_COMPOSICAO_FEDERACAO',\n",
       "       'SQ_COLIGACAO', 'NM_COLIGACAO', 'DS_COMPOSICAO_COLIGACAO',\n",
       "       'CD_NACIONALIDADE', 'DS_NACIONALIDADE', 'SG_UF_NASCIMENTO',\n",
       "       'CD_MUNICIPIO_NASCIMENTO', 'NM_MUNICIPIO_NASCIMENTO', 'DT_NASCIMENTO',\n",
       "       'NR_IDADE_DATA_POSSE', 'NR_TITULO_ELEITORAL_CANDIDATO', 'CD_GENERO',\n",
       "       'DS_GENERO', 'CD_GRAU_INSTRUCAO', 'DS_GRAU_INSTRUCAO',\n",
       "       'CD_ESTADO_CIVIL', 'DS_ESTADO_CIVIL', 'CD_COR_RACA', 'DS_COR_RACA',\n",
       "       'CD_OCUPACAO', 'DS_OCUPACAO', 'VR_DESPESA_MAX_CAMPANHA',\n",
       "       'CD_SIT_TOT_TURNO', 'DS_SIT_TOT_TURNO', 'ST_REELEICAO',\n",
       "       'ST_DECLARAR_BENS', 'NR_PROTOCOLO_CANDIDATURA', 'NR_PROCESSO',\n",
       "       'CD_SITUACAO_CANDIDATO_PLEITO', 'DS_SITUACAO_CANDIDATO_PLEITO',\n",
       "       'CD_SITUACAO_CANDIDATO_URNA', 'DS_SITUACAO_CANDIDATO_URNA',\n",
       "       'ST_CANDIDATO_INSERIDO_URNA', 'NM_TIPO_DESTINACAO_VOTOS',\n",
       "       'CD_SITUACAO_CANDIDATO_TOT', 'DS_SITUACAO_CANDIDATO_TOT',\n",
       "       'ST_PREST_CONTAS'],\n",
       "      dtype='object')"
      ]
     },
     "execution_count": 30,
     "metadata": {},
     "output_type": "execute_result"
    }
   ],
   "source": [
    "df_vereadores.columns"
   ]
  },
  {
   "attachments": {},
   "cell_type": "markdown",
   "id": "5dca9125",
   "metadata": {},
   "source": [
    "O método `pd.describe` traz um quadro com algumas medidas da estatística descritiva, como as medidas de tendência central, medidas de dispersão e quartis, excluindo os valores NaN (not a number)."
   ]
  },
  {
   "cell_type": "code",
   "execution_count": 8,
   "id": "468e4929-6fbc-4f1e-b44a-033411a5f8a1",
   "metadata": {
    "tags": []
   },
   "outputs": [
    {
     "data": {
      "text/plain": [
       "(24583, 71)"
      ]
     },
     "execution_count": 8,
     "metadata": {},
     "output_type": "execute_result"
    }
   ],
   "source": [
    "df_vereadores.shape"
   ]
  },
  {
   "cell_type": "code",
   "execution_count": 9,
   "id": "979940fa",
   "metadata": {
    "tags": []
   },
   "outputs": [
    {
     "data": {
      "text/html": [
       "<div>\n",
       "<style scoped>\n",
       "    .dataframe tbody tr th:only-of-type {\n",
       "        vertical-align: middle;\n",
       "    }\n",
       "\n",
       "    .dataframe tbody tr th {\n",
       "        vertical-align: top;\n",
       "    }\n",
       "\n",
       "    .dataframe thead th {\n",
       "        text-align: right;\n",
       "    }\n",
       "</style>\n",
       "<table border=\"1\" class=\"dataframe\">\n",
       "  <thead>\n",
       "    <tr style=\"text-align: right;\">\n",
       "      <th></th>\n",
       "      <th>ANO_ELEICAO</th>\n",
       "      <th>CD_TIPO_ELEICAO</th>\n",
       "      <th>NR_TURNO</th>\n",
       "      <th>CD_ELEICAO</th>\n",
       "      <th>SG_UE</th>\n",
       "      <th>CD_CARGO</th>\n",
       "      <th>SQ_CANDIDATO</th>\n",
       "      <th>NR_CANDIDATO</th>\n",
       "      <th>NR_CPF_CANDIDATO</th>\n",
       "      <th>CD_SITUACAO_CANDIDATURA</th>\n",
       "      <th>...</th>\n",
       "      <th>CD_ESTADO_CIVIL</th>\n",
       "      <th>CD_COR_RACA</th>\n",
       "      <th>CD_OCUPACAO</th>\n",
       "      <th>VR_DESPESA_MAX_CAMPANHA</th>\n",
       "      <th>CD_SIT_TOT_TURNO</th>\n",
       "      <th>NR_PROTOCOLO_CANDIDATURA</th>\n",
       "      <th>NR_PROCESSO</th>\n",
       "      <th>CD_SITUACAO_CANDIDATO_PLEITO</th>\n",
       "      <th>CD_SITUACAO_CANDIDATO_URNA</th>\n",
       "      <th>CD_SITUACAO_CANDIDATO_TOT</th>\n",
       "    </tr>\n",
       "  </thead>\n",
       "  <tbody>\n",
       "    <tr>\n",
       "      <th>count</th>\n",
       "      <td>24583.0</td>\n",
       "      <td>24583.0</td>\n",
       "      <td>24583.0</td>\n",
       "      <td>24583.000000</td>\n",
       "      <td>24583.000000</td>\n",
       "      <td>24583.0</td>\n",
       "      <td>2.458300e+04</td>\n",
       "      <td>24583.000000</td>\n",
       "      <td>2.458300e+04</td>\n",
       "      <td>24583.000000</td>\n",
       "      <td>...</td>\n",
       "      <td>24583.000000</td>\n",
       "      <td>24583.000000</td>\n",
       "      <td>24583.000000</td>\n",
       "      <td>24583.000000</td>\n",
       "      <td>24583.000000</td>\n",
       "      <td>24583.0</td>\n",
       "      <td>2.458300e+04</td>\n",
       "      <td>24583.000000</td>\n",
       "      <td>24583.000000</td>\n",
       "      <td>24583.000000</td>\n",
       "    </tr>\n",
       "    <tr>\n",
       "      <th>mean</th>\n",
       "      <td>2020.0</td>\n",
       "      <td>2.0</td>\n",
       "      <td>1.0</td>\n",
       "      <td>426.408860</td>\n",
       "      <td>4934.148314</td>\n",
       "      <td>13.0</td>\n",
       "      <td>1.296959e+11</td>\n",
       "      <td>31086.054875</td>\n",
       "      <td>4.780648e+10</td>\n",
       "      <td>11.494773</td>\n",
       "      <td>...</td>\n",
       "      <td>2.224952</td>\n",
       "      <td>2.596022</td>\n",
       "      <td>552.461376</td>\n",
       "      <td>59365.732494</td>\n",
       "      <td>4.288614</td>\n",
       "      <td>-1.0</td>\n",
       "      <td>6.002713e+18</td>\n",
       "      <td>2.055974</td>\n",
       "      <td>2.088679</td>\n",
       "      <td>2.106374</td>\n",
       "    </tr>\n",
       "    <tr>\n",
       "      <th>std</th>\n",
       "      <td>0.0</td>\n",
       "      <td>0.0</td>\n",
       "      <td>0.0</td>\n",
       "      <td>2.757078</td>\n",
       "      <td>663.648303</td>\n",
       "      <td>0.0</td>\n",
       "      <td>3.205320e+10</td>\n",
       "      <td>20829.576759</td>\n",
       "      <td>3.104649e+10</td>\n",
       "      <td>2.071706</td>\n",
       "      <td>...</td>\n",
       "      <td>1.837225</td>\n",
       "      <td>0.888529</td>\n",
       "      <td>326.046922</td>\n",
       "      <td>93041.750641</td>\n",
       "      <td>1.283715</td>\n",
       "      <td>0.0</td>\n",
       "      <td>1.704343e+15</td>\n",
       "      <td>1.468889</td>\n",
       "      <td>1.624685</td>\n",
       "      <td>1.618616</td>\n",
       "    </tr>\n",
       "    <tr>\n",
       "      <th>min</th>\n",
       "      <td>2020.0</td>\n",
       "      <td>2.0</td>\n",
       "      <td>1.0</td>\n",
       "      <td>426.000000</td>\n",
       "      <td>4006.000000</td>\n",
       "      <td>13.0</td>\n",
       "      <td>3.000063e+10</td>\n",
       "      <td>10000.000000</td>\n",
       "      <td>-4.000000e+00</td>\n",
       "      <td>3.000000</td>\n",
       "      <td>...</td>\n",
       "      <td>-4.000000</td>\n",
       "      <td>-4.000000</td>\n",
       "      <td>-4.000000</td>\n",
       "      <td>-4.000000</td>\n",
       "      <td>-1.000000</td>\n",
       "      <td>-1.0</td>\n",
       "      <td>6.000168e+18</td>\n",
       "      <td>-1.000000</td>\n",
       "      <td>-1.000000</td>\n",
       "      <td>-1.000000</td>\n",
       "    </tr>\n",
       "    <tr>\n",
       "      <th>25%</th>\n",
       "      <td>2020.0</td>\n",
       "      <td>2.0</td>\n",
       "      <td>1.0</td>\n",
       "      <td>426.000000</td>\n",
       "      <td>4332.000000</td>\n",
       "      <td>13.0</td>\n",
       "      <td>1.400008e+11</td>\n",
       "      <td>15015.000000</td>\n",
       "      <td>1.955834e+10</td>\n",
       "      <td>12.000000</td>\n",
       "      <td>...</td>\n",
       "      <td>1.000000</td>\n",
       "      <td>2.000000</td>\n",
       "      <td>265.000000</td>\n",
       "      <td>15568.960000</td>\n",
       "      <td>4.000000</td>\n",
       "      <td>-1.0</td>\n",
       "      <td>6.001442e+18</td>\n",
       "      <td>2.000000</td>\n",
       "      <td>2.000000</td>\n",
       "      <td>2.000000</td>\n",
       "    </tr>\n",
       "    <tr>\n",
       "      <th>50%</th>\n",
       "      <td>2020.0</td>\n",
       "      <td>2.0</td>\n",
       "      <td>1.0</td>\n",
       "      <td>426.000000</td>\n",
       "      <td>4774.000000</td>\n",
       "      <td>13.0</td>\n",
       "      <td>1.400009e+11</td>\n",
       "      <td>22300.000000</td>\n",
       "      <td>5.162824e+10</td>\n",
       "      <td>12.000000</td>\n",
       "      <td>...</td>\n",
       "      <td>1.000000</td>\n",
       "      <td>3.000000</td>\n",
       "      <td>541.000000</td>\n",
       "      <td>24713.500000</td>\n",
       "      <td>5.000000</td>\n",
       "      <td>-1.0</td>\n",
       "      <td>6.002299e+18</td>\n",
       "      <td>2.000000</td>\n",
       "      <td>2.000000</td>\n",
       "      <td>2.000000</td>\n",
       "    </tr>\n",
       "    <tr>\n",
       "      <th>75%</th>\n",
       "      <td>2020.0</td>\n",
       "      <td>2.0</td>\n",
       "      <td>1.0</td>\n",
       "      <td>426.000000</td>\n",
       "      <td>5517.000000</td>\n",
       "      <td>13.0</td>\n",
       "      <td>1.400011e+11</td>\n",
       "      <td>45133.000000</td>\n",
       "      <td>7.379923e+10</td>\n",
       "      <td>12.000000</td>\n",
       "      <td>...</td>\n",
       "      <td>3.000000</td>\n",
       "      <td>3.000000</td>\n",
       "      <td>999.000000</td>\n",
       "      <td>53698.780000</td>\n",
       "      <td>5.000000</td>\n",
       "      <td>-1.0</td>\n",
       "      <td>6.003640e+18</td>\n",
       "      <td>2.000000</td>\n",
       "      <td>2.000000</td>\n",
       "      <td>2.000000</td>\n",
       "    </tr>\n",
       "    <tr>\n",
       "      <th>max</th>\n",
       "      <td>2020.0</td>\n",
       "      <td>2.0</td>\n",
       "      <td>1.0</td>\n",
       "      <td>445.000000</td>\n",
       "      <td>6173.000000</td>\n",
       "      <td>13.0</td>\n",
       "      <td>1.400013e+11</td>\n",
       "      <td>90999.000000</td>\n",
       "      <td>9.998375e+10</td>\n",
       "      <td>12.000000</td>\n",
       "      <td>...</td>\n",
       "      <td>9.000000</td>\n",
       "      <td>6.000000</td>\n",
       "      <td>999.000000</td>\n",
       "      <td>438043.030000</td>\n",
       "      <td>5.000000</td>\n",
       "      <td>-1.0</td>\n",
       "      <td>6.016571e+18</td>\n",
       "      <td>20.000000</td>\n",
       "      <td>20.000000</td>\n",
       "      <td>20.000000</td>\n",
       "    </tr>\n",
       "  </tbody>\n",
       "</table>\n",
       "<p>8 rows × 30 columns</p>\n",
       "</div>"
      ],
      "text/plain": [
       "       ANO_ELEICAO  CD_TIPO_ELEICAO  NR_TURNO    CD_ELEICAO         SG_UE  \\\n",
       "count      24583.0          24583.0   24583.0  24583.000000  24583.000000   \n",
       "mean        2020.0              2.0       1.0    426.408860   4934.148314   \n",
       "std            0.0              0.0       0.0      2.757078    663.648303   \n",
       "min         2020.0              2.0       1.0    426.000000   4006.000000   \n",
       "25%         2020.0              2.0       1.0    426.000000   4332.000000   \n",
       "50%         2020.0              2.0       1.0    426.000000   4774.000000   \n",
       "75%         2020.0              2.0       1.0    426.000000   5517.000000   \n",
       "max         2020.0              2.0       1.0    445.000000   6173.000000   \n",
       "\n",
       "       CD_CARGO  SQ_CANDIDATO  NR_CANDIDATO  NR_CPF_CANDIDATO  \\\n",
       "count   24583.0  2.458300e+04  24583.000000      2.458300e+04   \n",
       "mean       13.0  1.296959e+11  31086.054875      4.780648e+10   \n",
       "std         0.0  3.205320e+10  20829.576759      3.104649e+10   \n",
       "min        13.0  3.000063e+10  10000.000000     -4.000000e+00   \n",
       "25%        13.0  1.400008e+11  15015.000000      1.955834e+10   \n",
       "50%        13.0  1.400009e+11  22300.000000      5.162824e+10   \n",
       "75%        13.0  1.400011e+11  45133.000000      7.379923e+10   \n",
       "max        13.0  1.400013e+11  90999.000000      9.998375e+10   \n",
       "\n",
       "       CD_SITUACAO_CANDIDATURA  ...  CD_ESTADO_CIVIL   CD_COR_RACA  \\\n",
       "count             24583.000000  ...     24583.000000  24583.000000   \n",
       "mean                 11.494773  ...         2.224952      2.596022   \n",
       "std                   2.071706  ...         1.837225      0.888529   \n",
       "min                   3.000000  ...        -4.000000     -4.000000   \n",
       "25%                  12.000000  ...         1.000000      2.000000   \n",
       "50%                  12.000000  ...         1.000000      3.000000   \n",
       "75%                  12.000000  ...         3.000000      3.000000   \n",
       "max                  12.000000  ...         9.000000      6.000000   \n",
       "\n",
       "        CD_OCUPACAO  VR_DESPESA_MAX_CAMPANHA  CD_SIT_TOT_TURNO  \\\n",
       "count  24583.000000             24583.000000      24583.000000   \n",
       "mean     552.461376             59365.732494          4.288614   \n",
       "std      326.046922             93041.750641          1.283715   \n",
       "min       -4.000000                -4.000000         -1.000000   \n",
       "25%      265.000000             15568.960000          4.000000   \n",
       "50%      541.000000             24713.500000          5.000000   \n",
       "75%      999.000000             53698.780000          5.000000   \n",
       "max      999.000000            438043.030000          5.000000   \n",
       "\n",
       "       NR_PROTOCOLO_CANDIDATURA   NR_PROCESSO  CD_SITUACAO_CANDIDATO_PLEITO  \\\n",
       "count                   24583.0  2.458300e+04                  24583.000000   \n",
       "mean                       -1.0  6.002713e+18                      2.055974   \n",
       "std                         0.0  1.704343e+15                      1.468889   \n",
       "min                        -1.0  6.000168e+18                     -1.000000   \n",
       "25%                        -1.0  6.001442e+18                      2.000000   \n",
       "50%                        -1.0  6.002299e+18                      2.000000   \n",
       "75%                        -1.0  6.003640e+18                      2.000000   \n",
       "max                        -1.0  6.016571e+18                     20.000000   \n",
       "\n",
       "       CD_SITUACAO_CANDIDATO_URNA  CD_SITUACAO_CANDIDATO_TOT  \n",
       "count                24583.000000               24583.000000  \n",
       "mean                     2.088679                   2.106374  \n",
       "std                      1.624685                   1.618616  \n",
       "min                     -1.000000                  -1.000000  \n",
       "25%                      2.000000                   2.000000  \n",
       "50%                      2.000000                   2.000000  \n",
       "75%                      2.000000                   2.000000  \n",
       "max                     20.000000                  20.000000  \n",
       "\n",
       "[8 rows x 30 columns]"
      ]
     },
     "execution_count": 9,
     "metadata": {},
     "output_type": "execute_result"
    }
   ],
   "source": [
    "df_vereadores.describe()"
   ]
  },
  {
   "attachments": {},
   "cell_type": "markdown",
   "id": "5fb2032f",
   "metadata": {},
   "source": [
    "Para gerar relatórios interativos em HTML a partir de um dataframe do pandas usaremos a biblioteca Pandas Profiling, com ele para cada coluna será apresentado estatístico correspondente ao tipo de dado."
   ]
  },
  {
   "cell_type": "code",
   "execution_count": 10,
   "id": "7add4172",
   "metadata": {
    "tags": []
   },
   "outputs": [
    {
     "name": "stderr",
     "output_type": "stream",
     "text": [
      "/tmp/ipykernel_33953/2127527815.py:2: DeprecationWarning: `import pandas_profiling` is going to be deprecated by April 1st. Please use `import ydata_profiling` instead.\n",
      "  from pandas_profiling import ProfileReport\n"
     ]
    }
   ],
   "source": [
    "import numpy as np\n",
    "from pandas_profiling import ProfileReport"
   ]
  },
  {
   "cell_type": "code",
   "execution_count": 11,
   "id": "adc73219",
   "metadata": {
    "tags": []
   },
   "outputs": [],
   "source": [
    "profile = ProfileReport(df_vereadores, title=\"Introdução - Pandas Profiling Report\")"
   ]
  },
  {
   "cell_type": "code",
   "execution_count": 12,
   "id": "4c530b6f",
   "metadata": {
    "scrolled": true,
    "tags": []
   },
   "outputs": [
    {
     "data": {
      "application/vnd.jupyter.widget-view+json": {
       "model_id": "303191d752dc4b75ac4fafafa99e2f55",
       "version_major": 2,
       "version_minor": 0
      },
      "text/plain": [
       "Summarize dataset:   0%|          | 0/5 [00:00<?, ?it/s]"
      ]
     },
     "metadata": {},
     "output_type": "display_data"
    },
    {
     "data": {
      "application/vnd.jupyter.widget-view+json": {
       "model_id": "163235d703024e47bcd5eca368c4497f",
       "version_major": 2,
       "version_minor": 0
      },
      "text/plain": [
       "Generate report structure:   0%|          | 0/1 [00:00<?, ?it/s]"
      ]
     },
     "metadata": {},
     "output_type": "display_data"
    },
    {
     "data": {
      "application/vnd.jupyter.widget-view+json": {
       "model_id": "e616f2ca11db44b5b967bcb042738da1",
       "version_major": 2,
       "version_minor": 0
      },
      "text/plain": [
       "Render HTML:   0%|          | 0/1 [00:00<?, ?it/s]"
      ]
     },
     "metadata": {},
     "output_type": "display_data"
    },
    {
     "data": {
      "application/vnd.jupyter.widget-view+json": {
       "model_id": "6ee33394fa12417b970fef62d760bf92",
       "version_major": 2,
       "version_minor": 0
      },
      "text/plain": [
       "Export report to file:   0%|          | 0/1 [00:00<?, ?it/s]"
      ]
     },
     "metadata": {},
     "output_type": "display_data"
    }
   ],
   "source": [
    "profile.to_file(output_file=\"relatorio_eleicoes_vereadores_2020_ap_pa.html\")"
   ]
  },
  {
   "attachments": {},
   "cell_type": "markdown",
   "id": "ea1dbad2",
   "metadata": {},
   "source": [
    "## Em AP e PA, houveram quantas candidaturas para a prefeitura?"
   ]
  },
  {
   "cell_type": "code",
   "execution_count": 23,
   "id": "a7ae5dad",
   "metadata": {},
   "outputs": [
    {
     "data": {
      "text/plain": [
       "(770, 71)"
      ]
     },
     "execution_count": 23,
     "metadata": {},
     "output_type": "execute_result"
    }
   ],
   "source": [
    "set(list(df_completo['DS_CARGO']))\n",
    "\n",
    "df_prefeitura = df_completo[df_completo['DS_CARGO'] == \"PREFEITO\"]\n",
    "df_prefeitura.shape"
   ]
  },
  {
   "attachments": {},
   "cell_type": "markdown",
   "id": "c18681a1",
   "metadata": {},
   "source": [
    "### Aula 9: medidas de tendência central e dispersão\n",
    "\n",
    "As medidas de tendência central servem para determinar o valor central de uma distribuição. Vamos explorar mais um pouco nosso dataframe e descobrir qual a moda (valor que mais se repete) da colina 'SG_PARTIDO'"
   ]
  },
  {
   "cell_type": "code",
   "execution_count": 38,
   "id": "a1896ac0",
   "metadata": {
    "tags": []
   },
   "outputs": [
    {
     "data": {
      "text/plain": [
       "0    MDB\n",
       "Name: SG_PARTIDO, dtype: object"
      ]
     },
     "execution_count": 38,
     "metadata": {},
     "output_type": "execute_result"
    }
   ],
   "source": [
    "df_vereadores['SG_PARTIDO'].mode()"
   ]
  },
  {
   "attachments": {},
   "cell_type": "markdown",
   "id": "9760d49a",
   "metadata": {},
   "source": [
    "A média aritmética da coluna 'NR_IDADE_DATA_POSSE' é:"
   ]
  },
  {
   "cell_type": "code",
   "execution_count": 41,
   "id": "525f59a3",
   "metadata": {
    "tags": []
   },
   "outputs": [
    {
     "data": {
      "text/plain": [
       "43.164185176145146"
      ]
     },
     "execution_count": 41,
     "metadata": {},
     "output_type": "execute_result"
    }
   ],
   "source": [
    "df_vereadores['NR_IDADE_DATA_POSSE'].mean()"
   ]
  },
  {
   "attachments": {},
   "cell_type": "markdown",
   "id": "11f8b9cb",
   "metadata": {},
   "source": [
    "Continuando a explorar a idade das pessoas candidatas na data da posse, queremos saber qual é o valor que ocupa a posição central do conjunto de dados, após a ordenação dos valores (mediana).\n"
   ]
  },
  {
   "cell_type": "code",
   "execution_count": 42,
   "id": "3db873c0",
   "metadata": {
    "tags": []
   },
   "outputs": [
    {
     "data": {
      "text/plain": [
       "43.0"
      ]
     },
     "execution_count": 42,
     "metadata": {},
     "output_type": "execute_result"
    }
   ],
   "source": [
    "df_vereadores['NR_IDADE_DATA_POSSE'].median()"
   ]
  },
  {
   "attachments": {},
   "cell_type": "markdown",
   "id": "5e26e703",
   "metadata": {},
   "source": [
    "Qual a variância do dado 'NR_IDADE_DATA_POSSE'?"
   ]
  },
  {
   "cell_type": "code",
   "execution_count": 43,
   "id": "e4241393",
   "metadata": {
    "tags": []
   },
   "outputs": [
    {
     "data": {
      "text/plain": [
       "118.23389400874976"
      ]
     },
     "execution_count": 43,
     "metadata": {},
     "output_type": "execute_result"
    }
   ],
   "source": [
    "df_vereadores['NR_IDADE_DATA_POSSE'].var()"
   ]
  },
  {
   "attachments": {},
   "cell_type": "markdown",
   "id": "880c407e",
   "metadata": {},
   "source": [
    "Qual o desvio padrão do dado 'NR_IDADE_DATA_POSSE'?"
   ]
  },
  {
   "cell_type": "code",
   "execution_count": 44,
   "id": "5031f1f4",
   "metadata": {
    "tags": []
   },
   "outputs": [
    {
     "data": {
      "text/plain": [
       "10.873541005980975"
      ]
     },
     "execution_count": 44,
     "metadata": {},
     "output_type": "execute_result"
    }
   ],
   "source": [
    "df_vereadores['NR_IDADE_DATA_POSSE'].std()"
   ]
  },
  {
   "attachments": {},
   "cell_type": "markdown",
   "id": "c6fbfb0b",
   "metadata": {},
   "source": [
    "## Qual a média, moda e mediana do 'VR_DESPESA_MAX_CAMPANHA'?"
   ]
  },
  {
   "cell_type": "code",
   "execution_count": 30,
   "id": "6c0154e6",
   "metadata": {},
   "outputs": [
    {
     "name": "stdout",
     "output_type": "stream",
     "text": [
      "66799.59984590678 0    12307.75\n",
      "Name: VR_DESPESA_MAX_CAMPANHA, dtype: float64 24149.88\n"
     ]
    }
   ],
   "source": [
    "print(df_completo['VR_DESPESA_MAX_CAMPANHA'].mean(),df_completo['VR_DESPESA_MAX_CAMPANHA'].mode(),df_completo['VR_DESPESA_MAX_CAMPANHA'].median())\n"
   ]
  },
  {
   "attachments": {},
   "cell_type": "markdown",
   "id": "818a2d50",
   "metadata": {},
   "source": [
    "### Aula 10: Outliers e valores faltantes\n",
    "\n",
    "\n",
    "De acordo com o dicionário de dados do conjunto de dados do TSE, os valores faltantes estão preenchidos com #NULO#, no entanto o Pandas não reconhece essa palavra como um missing. Faremos a substituição da string \"#NULO#\" pelo valor `None` nas colunas com valores categóricos."
   ]
  },
  {
   "cell_type": "code",
   "execution_count": 31,
   "id": "273c6db3",
   "metadata": {
    "tags": []
   },
   "outputs": [],
   "source": [
    "colunas_categoricas = ['NM_TIPO_ELEICAO', 'DS_ELEICAO', 'TP_ABRANGENCIA', 'SG_UF', 'NM_UE', 'DS_CARGO', \n",
    "                       'NM_CANDIDATO', 'NM_URNA_CANDIDATO', 'NM_SOCIAL_CANDIDATO', 'NM_EMAIL', \n",
    "                       'DS_SITUACAO_CANDIDATURA', 'DS_DETALHE_SITUACAO_CAND', 'TP_AGREMIACAO', 'SG_PARTIDO', \n",
    "                       'NM_PARTIDO', 'NM_COLIGACAO', 'DS_COMPOSICAO_COLIGACAO', 'DS_NACIONALIDADE', \n",
    "                       'SG_UF_NASCIMENTO', 'NM_MUNICIPIO_NASCIMENTO', 'DS_GENERO', 'DS_GRAU_INSTRUCAO', \n",
    "                       'DS_ESTADO_CIVIL', 'DS_COR_RACA', 'DS_OCUPACAO', 'VR_DESPESA_MAX_CAMPANHA', \n",
    "                       'DS_SIT_TOT_TURNO', 'ST_REELEICAO', 'ST_DECLARAR_BENS', 'DS_SITUACAO_CANDIDATO_PLEITO', \n",
    "                       'DS_SITUACAO_CANDIDATO_URNA', 'ST_CANDIDATO_INSERIDO_URNA'\n",
    "                      ]\n"
   ]
  },
  {
   "cell_type": "code",
   "execution_count": 32,
   "id": "ee7060d4",
   "metadata": {
    "tags": []
   },
   "outputs": [],
   "source": [
    "df_vereadores[colunas_categoricas] = df_vereadores.loc[:, colunas_categoricas].replace({'#NULO#': None})"
   ]
  },
  {
   "cell_type": "code",
   "execution_count": 34,
   "id": "3a263f5b",
   "metadata": {
    "tags": []
   },
   "outputs": [
    {
     "name": "stdout",
     "output_type": "stream",
     "text": [
      "<class 'pandas.core.frame.DataFrame'>\n",
      "Index: 24583 entries, 0 to 26152\n",
      "Data columns (total 71 columns):\n",
      " #   Column                         Non-Null Count  Dtype  \n",
      "---  ------                         --------------  -----  \n",
      " 0   DT_GERACAO                     24583 non-null  object \n",
      " 1   HH_GERACAO                     24583 non-null  object \n",
      " 2   ANO_ELEICAO                    24583 non-null  int64  \n",
      " 3   CD_TIPO_ELEICAO                24583 non-null  int64  \n",
      " 4   NM_TIPO_ELEICAO                24583 non-null  object \n",
      " 5   NR_TURNO                       24583 non-null  int64  \n",
      " 6   CD_ELEICAO                     24583 non-null  int64  \n",
      " 7   DS_ELEICAO                     24583 non-null  object \n",
      " 8   DT_ELEICAO                     24583 non-null  object \n",
      " 9   TP_ABRANGENCIA                 24583 non-null  object \n",
      " 10  SG_UF                          24583 non-null  object \n",
      " 11  SG_UE                          24583 non-null  int64  \n",
      " 12  NM_UE                          24583 non-null  object \n",
      " 13  CD_CARGO                       24583 non-null  int64  \n",
      " 14  DS_CARGO                       24583 non-null  object \n",
      " 15  SQ_CANDIDATO                   24583 non-null  int64  \n",
      " 16  NR_CANDIDATO                   24583 non-null  int64  \n",
      " 17  NM_CANDIDATO                   24583 non-null  object \n",
      " 18  NM_URNA_CANDIDATO              24583 non-null  object \n",
      " 19  NM_SOCIAL_CANDIDATO            9 non-null      object \n",
      " 20  NR_CPF_CANDIDATO               24583 non-null  int64  \n",
      " 21  NM_EMAIL                       24583 non-null  object \n",
      " 22  CD_SITUACAO_CANDIDATURA        24583 non-null  int64  \n",
      " 23  DS_SITUACAO_CANDIDATURA        24583 non-null  object \n",
      " 24  CD_DETALHE_SITUACAO_CAND       24583 non-null  int64  \n",
      " 25  DS_DETALHE_SITUACAO_CAND       24583 non-null  object \n",
      " 26  TP_AGREMIACAO                  24583 non-null  object \n",
      " 27  NR_PARTIDO                     24583 non-null  int64  \n",
      " 28  SG_PARTIDO                     24583 non-null  object \n",
      " 29  NM_PARTIDO                     24583 non-null  object \n",
      " 30  NR_FEDERACAO                   24583 non-null  int64  \n",
      " 31  NM_FEDERACAO                   24583 non-null  object \n",
      " 32  SG_FEDERACAO                   24583 non-null  object \n",
      " 33  DS_COMPOSICAO_FEDERACAO        24583 non-null  object \n",
      " 34  SQ_COLIGACAO                   24583 non-null  int64  \n",
      " 35  NM_COLIGACAO                   24583 non-null  object \n",
      " 36  DS_COMPOSICAO_COLIGACAO        24583 non-null  object \n",
      " 37  CD_NACIONALIDADE               24583 non-null  int64  \n",
      " 38  DS_NACIONALIDADE               24583 non-null  object \n",
      " 39  SG_UF_NASCIMENTO               24583 non-null  object \n",
      " 40  CD_MUNICIPIO_NASCIMENTO        24583 non-null  int64  \n",
      " 41  NM_MUNICIPIO_NASCIMENTO        24583 non-null  object \n",
      " 42  DT_NASCIMENTO                  24582 non-null  object \n",
      " 43  NR_IDADE_DATA_POSSE            24582 non-null  float64\n",
      " 44  NR_TITULO_ELEITORAL_CANDIDATO  24583 non-null  int64  \n",
      " 45  CD_GENERO                      24583 non-null  int64  \n",
      " 46  DS_GENERO                      24583 non-null  object \n",
      " 47  CD_GRAU_INSTRUCAO              24583 non-null  int64  \n",
      " 48  DS_GRAU_INSTRUCAO              24583 non-null  object \n",
      " 49  CD_ESTADO_CIVIL                24583 non-null  int64  \n",
      " 50  DS_ESTADO_CIVIL                24583 non-null  object \n",
      " 51  CD_COR_RACA                    24583 non-null  int64  \n",
      " 52  DS_COR_RACA                    24583 non-null  object \n",
      " 53  CD_OCUPACAO                    24583 non-null  int64  \n",
      " 54  DS_OCUPACAO                    24583 non-null  object \n",
      " 55  VR_DESPESA_MAX_CAMPANHA        24583 non-null  float64\n",
      " 56  CD_SIT_TOT_TURNO               24583 non-null  int64  \n",
      " 57  DS_SIT_TOT_TURNO               23686 non-null  object \n",
      " 58  ST_REELEICAO                   24583 non-null  object \n",
      " 59  ST_DECLARAR_BENS               24583 non-null  object \n",
      " 60  NR_PROTOCOLO_CANDIDATURA       24583 non-null  int64  \n",
      " 61  NR_PROCESSO                    24583 non-null  int64  \n",
      " 62  CD_SITUACAO_CANDIDATO_PLEITO   24583 non-null  int64  \n",
      " 63  DS_SITUACAO_CANDIDATO_PLEITO   23686 non-null  object \n",
      " 64  CD_SITUACAO_CANDIDATO_URNA     24583 non-null  int64  \n",
      " 65  DS_SITUACAO_CANDIDATO_URNA     23686 non-null  object \n",
      " 66  ST_CANDIDATO_INSERIDO_URNA     24583 non-null  object \n",
      " 67  NM_TIPO_DESTINACAO_VOTOS       24583 non-null  object \n",
      " 68  CD_SITUACAO_CANDIDATO_TOT      24583 non-null  int64  \n",
      " 69  DS_SITUACAO_CANDIDATO_TOT      24583 non-null  object \n",
      " 70  ST_PREST_CONTAS                24583 non-null  object \n",
      "dtypes: float64(2), int64(28), object(41)\n",
      "memory usage: 14.0+ MB\n"
     ]
    }
   ],
   "source": [
    "df_vereadores.info()"
   ]
  },
  {
   "attachments": {},
   "cell_type": "markdown",
   "id": "a770540f",
   "metadata": {},
   "source": [
    "Geraremos um novo relatório usando o Pandas Profiling para visualizar as mudanças."
   ]
  },
  {
   "cell_type": "code",
   "execution_count": 35,
   "id": "b3642341",
   "metadata": {
    "tags": []
   },
   "outputs": [
    {
     "data": {
      "application/vnd.jupyter.widget-view+json": {
       "model_id": "744df881dfa94956b484d0306588fae6",
       "version_major": 2,
       "version_minor": 0
      },
      "text/plain": [
       "Summarize dataset:   0%|          | 0/5 [00:00<?, ?it/s]"
      ]
     },
     "metadata": {},
     "output_type": "display_data"
    },
    {
     "data": {
      "application/vnd.jupyter.widget-view+json": {
       "model_id": "8b2dd4d9d0f24c8ba197c036124fd3f2",
       "version_major": 2,
       "version_minor": 0
      },
      "text/plain": [
       "Generate report structure:   0%|          | 0/1 [00:00<?, ?it/s]"
      ]
     },
     "metadata": {},
     "output_type": "display_data"
    },
    {
     "data": {
      "application/vnd.jupyter.widget-view+json": {
       "model_id": "3e8ff8837f544935956a3392ddfadcd7",
       "version_major": 2,
       "version_minor": 0
      },
      "text/plain": [
       "Render HTML:   0%|          | 0/1 [00:00<?, ?it/s]"
      ]
     },
     "metadata": {},
     "output_type": "display_data"
    },
    {
     "data": {
      "application/vnd.jupyter.widget-view+json": {
       "model_id": "fbad12ac50b84021bcd41b0480d8f108",
       "version_major": 2,
       "version_minor": 0
      },
      "text/plain": [
       "Export report to file:   0%|          | 0/1 [00:00<?, ?it/s]"
      ]
     },
     "metadata": {},
     "output_type": "display_data"
    }
   ],
   "source": [
    "profile = ProfileReport(df_vereadores, title=\"Limpeza dos dados - Pandas Profiling Report\")\n",
    "profile.to_file(output_file=\"relatorio_eleicoes_vereadores_2020_ap_pa_limpo.html\")"
   ]
  },
  {
   "attachments": {},
   "cell_type": "markdown",
   "id": "afe7637c",
   "metadata": {},
   "source": [
    "### Aula 12: Operações básicas com dados\n",
    "\n",
    "Costumamos construir um subdataframe apenas com as colunas que usaremos na nossa análise. Existem várias formas de filtrar as linhas e colunas. Vamos aprender como fazer isso separadamente: \n",
    "\n",
    "Filtrar as 26 colunas pertinentes para nosso estudo."
   ]
  },
  {
   "cell_type": "code",
   "execution_count": 37,
   "id": "a0aaec5a",
   "metadata": {
    "tags": []
   },
   "outputs": [],
   "source": [
    "df_vereadores_ap_pa_reduzido = df_vereadores[\n",
    "    ['ANO_ELEICAO','TP_ABRANGENCIA', 'SG_UF', 'SG_UE', 'NM_UE', 'CD_CARGO', 'DS_CARGO',\n",
    "     'NR_CANDIDATO', 'NM_CANDIDATO', 'NM_URNA_CANDIDATO','NM_SOCIAL_CANDIDATO', 'NR_PARTIDO',\n",
    "     'SG_PARTIDO', 'NR_IDADE_DATA_POSSE','CD_GENERO', 'DS_GENERO', 'CD_COR_RACA', 'DS_COR_RACA',\n",
    "     'VR_DESPESA_MAX_CAMPANHA', 'CD_SIT_TOT_TURNO','DS_SIT_TOT_TURNO', 'ST_REELEICAO', 'CD_SITUACAO_CANDIDATURA',\n",
    "     'DS_SITUACAO_CANDIDATURA', 'CD_DETALHE_SITUACAO_CAND', 'DS_DETALHE_SITUACAO_CAND']\n",
    "].copy()"
   ]
  },
  {
   "cell_type": "code",
   "execution_count": 38,
   "id": "2b693814",
   "metadata": {
    "tags": []
   },
   "outputs": [
    {
     "data": {
      "text/plain": [
       "(24583, 26)"
      ]
     },
     "execution_count": 38,
     "metadata": {},
     "output_type": "execute_result"
    }
   ],
   "source": [
    "df_vereadores_ap_pa_reduzido.shape"
   ]
  },
  {
   "attachments": {},
   "cell_type": "markdown",
   "id": "a6f5d4fd",
   "metadata": {},
   "source": [
    "Agora selecionaremos apenas as pessoas que tem sua candidaturas \"apto\", \"deferido\" e \"deferido com recurso\"."
   ]
  },
  {
   "cell_type": "code",
   "execution_count": 39,
   "id": "ab7dd4bc",
   "metadata": {
    "tags": []
   },
   "outputs": [],
   "source": [
    "df_vereadores_ap_pa_reduzido_aptas = df_vereadores_ap_pa_reduzido[\n",
    "    df_vereadores_ap_pa_reduzido['CD_SITUACAO_CANDIDATURA'] == 12\n",
    "]"
   ]
  },
  {
   "cell_type": "code",
   "execution_count": 40,
   "id": "b7b13b2e",
   "metadata": {
    "tags": []
   },
   "outputs": [],
   "source": [
    "df_vereadores_ap_pa_reduzido_aptas_deferidas = df_vereadores_ap_pa_reduzido_aptas[\n",
    "    (df_vereadores_ap_pa_reduzido_aptas['DS_DETALHE_SITUACAO_CAND'] == 'DEFERIDO') | \n",
    "    (df_vereadores_ap_pa_reduzido_aptas['DS_DETALHE_SITUACAO_CAND'] == 'DEFERIDO COM RECURSO')\n",
    "]"
   ]
  },
  {
   "cell_type": "code",
   "execution_count": 41,
   "id": "971ac4c8",
   "metadata": {
    "tags": []
   },
   "outputs": [
    {
     "data": {
      "text/plain": [
       "(23089, 26)"
      ]
     },
     "execution_count": 41,
     "metadata": {},
     "output_type": "execute_result"
    }
   ],
   "source": [
    "df_vereadores_ap_pa_reduzido_aptas_deferidas.shape"
   ]
  },
  {
   "attachments": {},
   "cell_type": "markdown",
   "id": "708c26c6",
   "metadata": {},
   "source": [
    "Agora, aprenderemos a filtrar usando a função `pd.loc`:"
   ]
  },
  {
   "cell_type": "code",
   "execution_count": 42,
   "id": "159a5a64",
   "metadata": {
    "tags": []
   },
   "outputs": [],
   "source": [
    "colunas_desejadas = ['ANO_ELEICAO','TP_ABRANGENCIA', 'SG_UF', 'SG_UE', 'NM_UE', 'CD_CARGO', 'DS_CARGO',\n",
    "     'NR_CANDIDATO', 'NM_CANDIDATO', 'NM_URNA_CANDIDATO','NM_SOCIAL_CANDIDATO', 'NR_PARTIDO',\n",
    "     'SG_PARTIDO', 'NR_IDADE_DATA_POSSE','CD_GENERO', 'DS_GENERO', 'CD_COR_RACA', 'DS_COR_RACA',\n",
    "     'VR_DESPESA_MAX_CAMPANHA', 'CD_SIT_TOT_TURNO','DS_SIT_TOT_TURNO', 'ST_REELEICAO', 'CD_SITUACAO_CANDIDATURA',\n",
    "     'DS_SITUACAO_CANDIDATURA', 'CD_DETALHE_SITUACAO_CAND', 'DS_DETALHE_SITUACAO_CAND']"
   ]
  },
  {
   "cell_type": "code",
   "execution_count": 43,
   "id": "eaf24bfe",
   "metadata": {
    "tags": []
   },
   "outputs": [],
   "source": [
    "filtro_linhas = (df_vereadores['CD_SITUACAO_CANDIDATURA'] == 12) & (\n",
    "    (df_vereadores['DS_DETALHE_SITUACAO_CAND'] == 'DEFERIDO') | \n",
    "    (df_vereadores['DS_DETALHE_SITUACAO_CAND'] == 'DEFERIDO COM RECURSO')\n",
    ")"
   ]
  },
  {
   "cell_type": "code",
   "execution_count": 44,
   "id": "5b46534a",
   "metadata": {
    "tags": []
   },
   "outputs": [],
   "source": [
    "df_vereadores_ap_pa_reduzido_aptas_deferidas_2 = df_vereadores.loc[filtro_linhas, colunas_desejadas]"
   ]
  },
  {
   "cell_type": "code",
   "execution_count": 46,
   "id": "1a71d793",
   "metadata": {
    "tags": []
   },
   "outputs": [
    {
     "data": {
      "text/plain": [
       "(23089, 26)"
      ]
     },
     "execution_count": 46,
     "metadata": {},
     "output_type": "execute_result"
    }
   ],
   "source": [
    "df_vereadores_ap_pa_reduzido_aptas_deferidas_2.shape"
   ]
  },
  {
   "cell_type": "code",
   "execution_count": 47,
   "id": "a345bdfc",
   "metadata": {
    "tags": []
   },
   "outputs": [],
   "source": [
    "df_vereadores_ap_pa = df_vereadores_ap_pa_reduzido_aptas_deferidas_2.copy()"
   ]
  },
  {
   "attachments": {},
   "cell_type": "markdown",
   "id": "bee75b32",
   "metadata": {},
   "source": [
    "## Sua vez, crie um dataframe com apenas os nomes e partidos das pessoas candidatas que se autodeclararam como 'PARDA', 'PRETA' e 'INDÍGENA'"
   ]
  },
  {
   "cell_type": "code",
   "execution_count": 74,
   "id": "2c0c506f",
   "metadata": {},
   "outputs": [],
   "source": [
    "df_vereadores\n",
    "filtro_raca = (df_vereadores['DS_COR_RACA'] == 'PRETA') | (df_vereadores['DS_COR_RACA'] == 'PARDA') | (df_vereadores['DS_COR_RACA'] == 'INDÍGENA')\n",
    "colunas_desejadas = ['NM_CANDIDATO','SG_PARTIDO','DS_COR_RACA']\n",
    "df_raca = df_vereadores.loc[filtro_raca,colunas_desejadas]"
   ]
  },
  {
   "attachments": {},
   "cell_type": "markdown",
   "id": "31117422",
   "metadata": {},
   "source": [
    "### Aula 13: Métodos `filter` e `sort_values`\n",
    "\n",
    "Vamos filtrar todas as colunas que possuam as letras \"DIDATO\" no seu título:"
   ]
  },
  {
   "cell_type": "code",
   "execution_count": 75,
   "id": "ae91a3eb",
   "metadata": {
    "tags": []
   },
   "outputs": [
    {
     "data": {
      "text/html": [
       "<div>\n",
       "<style scoped>\n",
       "    .dataframe tbody tr th:only-of-type {\n",
       "        vertical-align: middle;\n",
       "    }\n",
       "\n",
       "    .dataframe tbody tr th {\n",
       "        vertical-align: top;\n",
       "    }\n",
       "\n",
       "    .dataframe thead th {\n",
       "        text-align: right;\n",
       "    }\n",
       "</style>\n",
       "<table border=\"1\" class=\"dataframe\">\n",
       "  <thead>\n",
       "    <tr style=\"text-align: right;\">\n",
       "      <th></th>\n",
       "      <th>NR_CANDIDATO</th>\n",
       "      <th>NM_CANDIDATO</th>\n",
       "      <th>NM_URNA_CANDIDATO</th>\n",
       "      <th>NM_SOCIAL_CANDIDATO</th>\n",
       "    </tr>\n",
       "  </thead>\n",
       "  <tbody>\n",
       "    <tr>\n",
       "      <th>0</th>\n",
       "      <td>11369</td>\n",
       "      <td>RAIMUNDO MESQUITA FERREIRA DOS SANTOS</td>\n",
       "      <td>GOIABA</td>\n",
       "      <td>None</td>\n",
       "    </tr>\n",
       "    <tr>\n",
       "      <th>1</th>\n",
       "      <td>13000</td>\n",
       "      <td>MAURICIO DEL CASTILLO RAIOL</td>\n",
       "      <td>MAURICIO DA SAÚDE</td>\n",
       "      <td>None</td>\n",
       "    </tr>\n",
       "    <tr>\n",
       "      <th>2</th>\n",
       "      <td>55123</td>\n",
       "      <td>KENNAS DE OLIVEIRA DOS SANTOS</td>\n",
       "      <td>NEGUINHO DO TAXI</td>\n",
       "      <td>None</td>\n",
       "    </tr>\n",
       "    <tr>\n",
       "      <th>4</th>\n",
       "      <td>12111</td>\n",
       "      <td>MAURÍCIO DE OLIVEIRA SUCUPIRA</td>\n",
       "      <td>MAURÍCIO SUCUPIRA</td>\n",
       "      <td>None</td>\n",
       "    </tr>\n",
       "    <tr>\n",
       "      <th>5</th>\n",
       "      <td>17222</td>\n",
       "      <td>ADRIANO DOS SANTOS SILVA</td>\n",
       "      <td>ADRIANO SILVA</td>\n",
       "      <td>None</td>\n",
       "    </tr>\n",
       "  </tbody>\n",
       "</table>\n",
       "</div>"
      ],
      "text/plain": [
       "   NR_CANDIDATO                           NM_CANDIDATO  NM_URNA_CANDIDATO  \\\n",
       "0         11369  RAIMUNDO MESQUITA FERREIRA DOS SANTOS             GOIABA   \n",
       "1         13000            MAURICIO DEL CASTILLO RAIOL  MAURICIO DA SAÚDE   \n",
       "2         55123          KENNAS DE OLIVEIRA DOS SANTOS   NEGUINHO DO TAXI   \n",
       "4         12111          MAURÍCIO DE OLIVEIRA SUCUPIRA  MAURÍCIO SUCUPIRA   \n",
       "5         17222               ADRIANO DOS SANTOS SILVA      ADRIANO SILVA   \n",
       "\n",
       "  NM_SOCIAL_CANDIDATO  \n",
       "0                None  \n",
       "1                None  \n",
       "2                None  \n",
       "4                None  \n",
       "5                None  "
      ]
     },
     "execution_count": 75,
     "metadata": {},
     "output_type": "execute_result"
    }
   ],
   "source": [
    "df_vereadores_ap_pa_nomes = df_vereadores_ap_pa.filter(like='DIDATO', axis=1)\n",
    "df_vereadores_ap_pa_nomes.head()"
   ]
  },
  {
   "attachments": {},
   "cell_type": "markdown",
   "id": "a4061a52",
   "metadata": {},
   "source": [
    "Para ordenar as linhas a partir das colunas 'NM_SOCIAL_CANDIDATO' e 'NM_CANDIDATO, usamos o método df.sort_values:"
   ]
  },
  {
   "cell_type": "code",
   "execution_count": 76,
   "id": "5deb367b",
   "metadata": {
    "tags": []
   },
   "outputs": [
    {
     "data": {
      "text/html": [
       "<div>\n",
       "<style scoped>\n",
       "    .dataframe tbody tr th:only-of-type {\n",
       "        vertical-align: middle;\n",
       "    }\n",
       "\n",
       "    .dataframe tbody tr th {\n",
       "        vertical-align: top;\n",
       "    }\n",
       "\n",
       "    .dataframe thead th {\n",
       "        text-align: right;\n",
       "    }\n",
       "</style>\n",
       "<table border=\"1\" class=\"dataframe\">\n",
       "  <thead>\n",
       "    <tr style=\"text-align: right;\">\n",
       "      <th></th>\n",
       "      <th>NR_CANDIDATO</th>\n",
       "      <th>NM_CANDIDATO</th>\n",
       "      <th>NM_URNA_CANDIDATO</th>\n",
       "      <th>NM_SOCIAL_CANDIDATO</th>\n",
       "    </tr>\n",
       "  </thead>\n",
       "  <tbody>\n",
       "    <tr>\n",
       "      <th>19035</th>\n",
       "      <td>45245</td>\n",
       "      <td>DJENANNY PEREIRA</td>\n",
       "      <td>DJENANNY</td>\n",
       "      <td>DJENANNY PEREIRA</td>\n",
       "    </tr>\n",
       "    <tr>\n",
       "      <th>3693</th>\n",
       "      <td>45123</td>\n",
       "      <td>HAGATA MATOS DA SILVA</td>\n",
       "      <td>HAGATA SILVA</td>\n",
       "      <td>HAGATA MATOS DA SILVA</td>\n",
       "    </tr>\n",
       "    <tr>\n",
       "      <th>22143</th>\n",
       "      <td>45888</td>\n",
       "      <td>MARIA EDUARDA SANTOS PINHEIRO</td>\n",
       "      <td>DUDA NEREIDY</td>\n",
       "      <td>MARIA EDUARDA SANTOS PINHEIRO</td>\n",
       "    </tr>\n",
       "    <tr>\n",
       "      <th>18922</th>\n",
       "      <td>15555</td>\n",
       "      <td>PAULA BULCÃO DE ARAUJO</td>\n",
       "      <td>PAULINHA DA SAÚDE</td>\n",
       "      <td>PAULA BULCÃO DE ARAUJO</td>\n",
       "    </tr>\n",
       "    <tr>\n",
       "      <th>10279</th>\n",
       "      <td>40040</td>\n",
       "      <td>PRISCILLA SILVA BRITO</td>\n",
       "      <td>PRISCILLA</td>\n",
       "      <td>PRISCILLA SILVA BRITO</td>\n",
       "    </tr>\n",
       "    <tr>\n",
       "      <th>...</th>\n",
       "      <td>...</td>\n",
       "      <td>...</td>\n",
       "      <td>...</td>\n",
       "      <td>...</td>\n",
       "    </tr>\n",
       "    <tr>\n",
       "      <th>2598</th>\n",
       "      <td>45555</td>\n",
       "      <td>ÉRICA ALVES FELIPE</td>\n",
       "      <td>ÉRICA FELIPE</td>\n",
       "      <td>None</td>\n",
       "    </tr>\n",
       "    <tr>\n",
       "      <th>13010</th>\n",
       "      <td>23555</td>\n",
       "      <td>ÉRICA DE MESQUITA REIS SOUSA</td>\n",
       "      <td>ÉRICA REIS</td>\n",
       "      <td>None</td>\n",
       "    </tr>\n",
       "    <tr>\n",
       "      <th>8289</th>\n",
       "      <td>43741</td>\n",
       "      <td>ÉRICA MARIA PANTOJA DE SOUZA</td>\n",
       "      <td>ÉRICA PANTOJA</td>\n",
       "      <td>None</td>\n",
       "    </tr>\n",
       "    <tr>\n",
       "      <th>23065</th>\n",
       "      <td>45222</td>\n",
       "      <td>ÍTALO BENEDITO DA CRUZ MAGALHÃES</td>\n",
       "      <td>DR ÍTALO MAGALHÃES</td>\n",
       "      <td>None</td>\n",
       "    </tr>\n",
       "    <tr>\n",
       "      <th>1076</th>\n",
       "      <td>11124</td>\n",
       "      <td>ÍTALU FLANEU SILVA CARVALHO</td>\n",
       "      <td>ÍTALU CARVALHO</td>\n",
       "      <td>None</td>\n",
       "    </tr>\n",
       "  </tbody>\n",
       "</table>\n",
       "<p>23089 rows × 4 columns</p>\n",
       "</div>"
      ],
      "text/plain": [
       "       NR_CANDIDATO                      NM_CANDIDATO   NM_URNA_CANDIDATO  \\\n",
       "19035         45245                  DJENANNY PEREIRA            DJENANNY   \n",
       "3693          45123             HAGATA MATOS DA SILVA        HAGATA SILVA   \n",
       "22143         45888     MARIA EDUARDA SANTOS PINHEIRO        DUDA NEREIDY   \n",
       "18922         15555            PAULA BULCÃO DE ARAUJO   PAULINHA DA SAÚDE   \n",
       "10279         40040             PRISCILLA SILVA BRITO           PRISCILLA   \n",
       "...             ...                               ...                 ...   \n",
       "2598          45555                ÉRICA ALVES FELIPE        ÉRICA FELIPE   \n",
       "13010         23555      ÉRICA DE MESQUITA REIS SOUSA          ÉRICA REIS   \n",
       "8289          43741      ÉRICA MARIA PANTOJA DE SOUZA       ÉRICA PANTOJA   \n",
       "23065         45222  ÍTALO BENEDITO DA CRUZ MAGALHÃES  DR ÍTALO MAGALHÃES   \n",
       "1076          11124       ÍTALU FLANEU SILVA CARVALHO      ÍTALU CARVALHO   \n",
       "\n",
       "                 NM_SOCIAL_CANDIDATO  \n",
       "19035               DJENANNY PEREIRA  \n",
       "3693           HAGATA MATOS DA SILVA  \n",
       "22143  MARIA EDUARDA SANTOS PINHEIRO  \n",
       "18922         PAULA BULCÃO DE ARAUJO  \n",
       "10279          PRISCILLA SILVA BRITO  \n",
       "...                              ...  \n",
       "2598                            None  \n",
       "13010                           None  \n",
       "8289                            None  \n",
       "23065                           None  \n",
       "1076                            None  \n",
       "\n",
       "[23089 rows x 4 columns]"
      ]
     },
     "execution_count": 76,
     "metadata": {},
     "output_type": "execute_result"
    }
   ],
   "source": [
    "df_vereadores_ap_pa_nomes.sort_values(by=['NM_SOCIAL_CANDIDATO', 'NM_CANDIDATO'], \n",
    "                                      ascending=True, \n",
    "                                      na_position='last', \n",
    "                                      ignore_index=False\n",
    ")"
   ]
  },
  {
   "attachments": {},
   "cell_type": "markdown",
   "id": "1b2e273a",
   "metadata": {},
   "source": [
    "## Selecione apenas as colunas cujo o título possua \"DS\" e organize em ordem descrescente. Qual o gênero das candidaturas das 3 primeiras linhas?"
   ]
  },
  {
   "cell_type": "code",
   "execution_count": 102,
   "id": "7803da95",
   "metadata": {},
   "outputs": [
    {
     "data": {
      "text/html": [
       "<div>\n",
       "<style scoped>\n",
       "    .dataframe tbody tr th:only-of-type {\n",
       "        vertical-align: middle;\n",
       "    }\n",
       "\n",
       "    .dataframe tbody tr th {\n",
       "        vertical-align: top;\n",
       "    }\n",
       "\n",
       "    .dataframe thead th {\n",
       "        text-align: right;\n",
       "    }\n",
       "</style>\n",
       "<table border=\"1\" class=\"dataframe\">\n",
       "  <thead>\n",
       "    <tr style=\"text-align: right;\">\n",
       "      <th></th>\n",
       "      <th>DS_ELEICAO</th>\n",
       "      <th>DS_CARGO</th>\n",
       "      <th>DS_SITUACAO_CANDIDATURA</th>\n",
       "      <th>DS_DETALHE_SITUACAO_CAND</th>\n",
       "      <th>DS_COMPOSICAO_FEDERACAO</th>\n",
       "      <th>DS_COMPOSICAO_COLIGACAO</th>\n",
       "      <th>DS_NACIONALIDADE</th>\n",
       "      <th>DS_GENERO</th>\n",
       "      <th>DS_GRAU_INSTRUCAO</th>\n",
       "      <th>DS_ESTADO_CIVIL</th>\n",
       "      <th>DS_COR_RACA</th>\n",
       "      <th>DS_OCUPACAO</th>\n",
       "      <th>DS_SIT_TOT_TURNO</th>\n",
       "      <th>DS_SITUACAO_CANDIDATO_PLEITO</th>\n",
       "      <th>DS_SITUACAO_CANDIDATO_URNA</th>\n",
       "      <th>DS_SITUACAO_CANDIDATO_TOT</th>\n",
       "    </tr>\n",
       "  </thead>\n",
       "  <tbody>\n",
       "    <tr>\n",
       "      <th>942</th>\n",
       "      <td>Eleições Municipais 2020 - AP</td>\n",
       "      <td>VEREADOR</td>\n",
       "      <td>INAPTO</td>\n",
       "      <td>RENÚNCIA</td>\n",
       "      <td>#NULO#</td>\n",
       "      <td>REDE</td>\n",
       "      <td>BRASILEIRA NATA</td>\n",
       "      <td>MASCULINO</td>\n",
       "      <td>SUPERIOR COMPLETO</td>\n",
       "      <td>CASADO(A)</td>\n",
       "      <td>PARDA</td>\n",
       "      <td>OUTROS</td>\n",
       "      <td>None</td>\n",
       "      <td>None</td>\n",
       "      <td>None</td>\n",
       "      <td>#NULO#</td>\n",
       "    </tr>\n",
       "    <tr>\n",
       "      <th>929</th>\n",
       "      <td>Eleições Municipais 2020 - AP</td>\n",
       "      <td>VEREADOR</td>\n",
       "      <td>INAPTO</td>\n",
       "      <td>RENÚNCIA</td>\n",
       "      <td>#NULO#</td>\n",
       "      <td>PSDB</td>\n",
       "      <td>BRASILEIRA NATA</td>\n",
       "      <td>MASCULINO</td>\n",
       "      <td>SUPERIOR INCOMPLETO</td>\n",
       "      <td>CASADO(A)</td>\n",
       "      <td>PARDA</td>\n",
       "      <td>JORNALISTA E REDATOR</td>\n",
       "      <td>NÃO ELEITO</td>\n",
       "      <td>RENÚNCIA</td>\n",
       "      <td>DEFERIDO</td>\n",
       "      <td>Renúncia</td>\n",
       "    </tr>\n",
       "    <tr>\n",
       "      <th>454</th>\n",
       "      <td>Eleições Municipais 2020 - AP</td>\n",
       "      <td>VEREADOR</td>\n",
       "      <td>INAPTO</td>\n",
       "      <td>RENÚNCIA</td>\n",
       "      <td>#NULO#</td>\n",
       "      <td>PSC</td>\n",
       "      <td>BRASILEIRA NATA</td>\n",
       "      <td>FEMININO</td>\n",
       "      <td>SUPERIOR COMPLETO</td>\n",
       "      <td>CASADO(A)</td>\n",
       "      <td>PARDA</td>\n",
       "      <td>ASSISTENTE SOCIAL</td>\n",
       "      <td>None</td>\n",
       "      <td>None</td>\n",
       "      <td>None</td>\n",
       "      <td>#NULO#</td>\n",
       "    </tr>\n",
       "    <tr>\n",
       "      <th>206</th>\n",
       "      <td>Eleições Municipais 2020 - AP</td>\n",
       "      <td>VEREADOR</td>\n",
       "      <td>INAPTO</td>\n",
       "      <td>RENÚNCIA</td>\n",
       "      <td>#NULO#</td>\n",
       "      <td>PSC</td>\n",
       "      <td>BRASILEIRA NATA</td>\n",
       "      <td>FEMININO</td>\n",
       "      <td>ENSINO MÉDIO INCOMPLETO</td>\n",
       "      <td>CASADO(A)</td>\n",
       "      <td>PRETA</td>\n",
       "      <td>DONA DE CASA</td>\n",
       "      <td>None</td>\n",
       "      <td>None</td>\n",
       "      <td>None</td>\n",
       "      <td>#NULO#</td>\n",
       "    </tr>\n",
       "    <tr>\n",
       "      <th>399</th>\n",
       "      <td>Eleições Municipais 2020 - AP</td>\n",
       "      <td>VEREADOR</td>\n",
       "      <td>INAPTO</td>\n",
       "      <td>RENÚNCIA</td>\n",
       "      <td>#NULO#</td>\n",
       "      <td>PROS</td>\n",
       "      <td>BRASILEIRA NATA</td>\n",
       "      <td>MASCULINO</td>\n",
       "      <td>SUPERIOR COMPLETO</td>\n",
       "      <td>SOLTEIRO(A)</td>\n",
       "      <td>PARDA</td>\n",
       "      <td>OUTROS</td>\n",
       "      <td>None</td>\n",
       "      <td>None</td>\n",
       "      <td>None</td>\n",
       "      <td>#NULO#</td>\n",
       "    </tr>\n",
       "    <tr>\n",
       "      <th>1279</th>\n",
       "      <td>Eleições Municipais 2020 - AP</td>\n",
       "      <td>VEREADOR</td>\n",
       "      <td>INAPTO</td>\n",
       "      <td>RENÚNCIA</td>\n",
       "      <td>#NULO#</td>\n",
       "      <td>PP</td>\n",
       "      <td>BRASILEIRA NATA</td>\n",
       "      <td>FEMININO</td>\n",
       "      <td>SUPERIOR COMPLETO</td>\n",
       "      <td>SOLTEIRO(A)</td>\n",
       "      <td>BRANCA</td>\n",
       "      <td>ADVOGADO</td>\n",
       "      <td>NÃO ELEITO</td>\n",
       "      <td>RENÚNCIA</td>\n",
       "      <td>DEFERIDO</td>\n",
       "      <td>Renúncia</td>\n",
       "    </tr>\n",
       "    <tr>\n",
       "      <th>820</th>\n",
       "      <td>Eleições Municipais 2020 - AP</td>\n",
       "      <td>VEREADOR</td>\n",
       "      <td>INAPTO</td>\n",
       "      <td>RENÚNCIA</td>\n",
       "      <td>#NULO#</td>\n",
       "      <td>PMN</td>\n",
       "      <td>BRASILEIRA NATA</td>\n",
       "      <td>MASCULINO</td>\n",
       "      <td>SUPERIOR COMPLETO</td>\n",
       "      <td>SOLTEIRO(A)</td>\n",
       "      <td>PARDA</td>\n",
       "      <td>OUTROS</td>\n",
       "      <td>None</td>\n",
       "      <td>None</td>\n",
       "      <td>None</td>\n",
       "      <td>#NULO#</td>\n",
       "    </tr>\n",
       "    <tr>\n",
       "      <th>23</th>\n",
       "      <td>Eleições Municipais 2020 - AP</td>\n",
       "      <td>VEREADOR</td>\n",
       "      <td>INAPTO</td>\n",
       "      <td>RENÚNCIA</td>\n",
       "      <td>#NULO#</td>\n",
       "      <td>PL</td>\n",
       "      <td>BRASILEIRA NATA</td>\n",
       "      <td>MASCULINO</td>\n",
       "      <td>SUPERIOR INCOMPLETO</td>\n",
       "      <td>SOLTEIRO(A)</td>\n",
       "      <td>BRANCA</td>\n",
       "      <td>EMPRESÁRIO</td>\n",
       "      <td>None</td>\n",
       "      <td>None</td>\n",
       "      <td>None</td>\n",
       "      <td>#NULO#</td>\n",
       "    </tr>\n",
       "    <tr>\n",
       "      <th>997</th>\n",
       "      <td>Eleições Municipais 2020 - AP</td>\n",
       "      <td>VEREADOR</td>\n",
       "      <td>INAPTO</td>\n",
       "      <td>RENÚNCIA</td>\n",
       "      <td>#NULO#</td>\n",
       "      <td>PL</td>\n",
       "      <td>BRASILEIRA NATA</td>\n",
       "      <td>FEMININO</td>\n",
       "      <td>SUPERIOR COMPLETO</td>\n",
       "      <td>SOLTEIRO(A)</td>\n",
       "      <td>BRANCA</td>\n",
       "      <td>OUTROS</td>\n",
       "      <td>None</td>\n",
       "      <td>None</td>\n",
       "      <td>None</td>\n",
       "      <td>#NULO#</td>\n",
       "    </tr>\n",
       "    <tr>\n",
       "      <th>431</th>\n",
       "      <td>Eleições Municipais 2020 - AP</td>\n",
       "      <td>VEREADOR</td>\n",
       "      <td>INAPTO</td>\n",
       "      <td>RENÚNCIA</td>\n",
       "      <td>#NULO#</td>\n",
       "      <td>CIDADANIA</td>\n",
       "      <td>BRASILEIRA NATA</td>\n",
       "      <td>MASCULINO</td>\n",
       "      <td>SUPERIOR COMPLETO</td>\n",
       "      <td>CASADO(A)</td>\n",
       "      <td>PARDA</td>\n",
       "      <td>OUTROS</td>\n",
       "      <td>None</td>\n",
       "      <td>None</td>\n",
       "      <td>None</td>\n",
       "      <td>#NULO#</td>\n",
       "    </tr>\n",
       "  </tbody>\n",
       "</table>\n",
       "</div>"
      ],
      "text/plain": [
       "                         DS_ELEICAO  DS_CARGO DS_SITUACAO_CANDIDATURA  \\\n",
       "942   Eleições Municipais 2020 - AP  VEREADOR                  INAPTO   \n",
       "929   Eleições Municipais 2020 - AP  VEREADOR                  INAPTO   \n",
       "454   Eleições Municipais 2020 - AP  VEREADOR                  INAPTO   \n",
       "206   Eleições Municipais 2020 - AP  VEREADOR                  INAPTO   \n",
       "399   Eleições Municipais 2020 - AP  VEREADOR                  INAPTO   \n",
       "1279  Eleições Municipais 2020 - AP  VEREADOR                  INAPTO   \n",
       "820   Eleições Municipais 2020 - AP  VEREADOR                  INAPTO   \n",
       "23    Eleições Municipais 2020 - AP  VEREADOR                  INAPTO   \n",
       "997   Eleições Municipais 2020 - AP  VEREADOR                  INAPTO   \n",
       "431   Eleições Municipais 2020 - AP  VEREADOR                  INAPTO   \n",
       "\n",
       "     DS_DETALHE_SITUACAO_CAND DS_COMPOSICAO_FEDERACAO DS_COMPOSICAO_COLIGACAO  \\\n",
       "942                  RENÚNCIA                  #NULO#                    REDE   \n",
       "929                  RENÚNCIA                  #NULO#                    PSDB   \n",
       "454                  RENÚNCIA                  #NULO#                     PSC   \n",
       "206                  RENÚNCIA                  #NULO#                     PSC   \n",
       "399                  RENÚNCIA                  #NULO#                    PROS   \n",
       "1279                 RENÚNCIA                  #NULO#                      PP   \n",
       "820                  RENÚNCIA                  #NULO#                     PMN   \n",
       "23                   RENÚNCIA                  #NULO#                      PL   \n",
       "997                  RENÚNCIA                  #NULO#                      PL   \n",
       "431                  RENÚNCIA                  #NULO#               CIDADANIA   \n",
       "\n",
       "     DS_NACIONALIDADE  DS_GENERO        DS_GRAU_INSTRUCAO DS_ESTADO_CIVIL  \\\n",
       "942   BRASILEIRA NATA  MASCULINO        SUPERIOR COMPLETO       CASADO(A)   \n",
       "929   BRASILEIRA NATA  MASCULINO      SUPERIOR INCOMPLETO       CASADO(A)   \n",
       "454   BRASILEIRA NATA   FEMININO        SUPERIOR COMPLETO       CASADO(A)   \n",
       "206   BRASILEIRA NATA   FEMININO  ENSINO MÉDIO INCOMPLETO       CASADO(A)   \n",
       "399   BRASILEIRA NATA  MASCULINO        SUPERIOR COMPLETO     SOLTEIRO(A)   \n",
       "1279  BRASILEIRA NATA   FEMININO        SUPERIOR COMPLETO     SOLTEIRO(A)   \n",
       "820   BRASILEIRA NATA  MASCULINO        SUPERIOR COMPLETO     SOLTEIRO(A)   \n",
       "23    BRASILEIRA NATA  MASCULINO      SUPERIOR INCOMPLETO     SOLTEIRO(A)   \n",
       "997   BRASILEIRA NATA   FEMININO        SUPERIOR COMPLETO     SOLTEIRO(A)   \n",
       "431   BRASILEIRA NATA  MASCULINO        SUPERIOR COMPLETO       CASADO(A)   \n",
       "\n",
       "     DS_COR_RACA           DS_OCUPACAO DS_SIT_TOT_TURNO  \\\n",
       "942        PARDA                OUTROS             None   \n",
       "929        PARDA  JORNALISTA E REDATOR       NÃO ELEITO   \n",
       "454        PARDA     ASSISTENTE SOCIAL             None   \n",
       "206        PRETA          DONA DE CASA             None   \n",
       "399        PARDA                OUTROS             None   \n",
       "1279      BRANCA              ADVOGADO       NÃO ELEITO   \n",
       "820        PARDA                OUTROS             None   \n",
       "23        BRANCA            EMPRESÁRIO             None   \n",
       "997       BRANCA                OUTROS             None   \n",
       "431        PARDA                OUTROS             None   \n",
       "\n",
       "     DS_SITUACAO_CANDIDATO_PLEITO DS_SITUACAO_CANDIDATO_URNA  \\\n",
       "942                          None                       None   \n",
       "929                      RENÚNCIA                   DEFERIDO   \n",
       "454                          None                       None   \n",
       "206                          None                       None   \n",
       "399                          None                       None   \n",
       "1279                     RENÚNCIA                   DEFERIDO   \n",
       "820                          None                       None   \n",
       "23                           None                       None   \n",
       "997                          None                       None   \n",
       "431                          None                       None   \n",
       "\n",
       "     DS_SITUACAO_CANDIDATO_TOT  \n",
       "942                     #NULO#  \n",
       "929                   Renúncia  \n",
       "454                     #NULO#  \n",
       "206                     #NULO#  \n",
       "399                     #NULO#  \n",
       "1279                  Renúncia  \n",
       "820                     #NULO#  \n",
       "23                      #NULO#  \n",
       "997                     #NULO#  \n",
       "431                     #NULO#  "
      ]
     },
     "execution_count": 102,
     "metadata": {},
     "output_type": "execute_result"
    }
   ],
   "source": [
    "df_ds = df_vereadores.filter(like='DS_',axis=1)\n",
    "list(df_ds.columns)\n",
    "df_ds_sorted = df_ds.sort_values(by=list(df_ds.columns),ascending=False,axis=0)\n",
    "df_ds_sorted.head(10)"
   ]
  },
  {
   "attachments": {},
   "cell_type": "markdown",
   "id": "60791f6c",
   "metadata": {},
   "source": [
    "### Aula 14: Operações com dados e método `apply`\n",
    "\n",
    "Podemos criar uma nova coluna a partir de operações sobre outras colunas. No exemplo abaixo vamos descobrir o gasto médio diário declarado por cada candidatura."
   ]
  },
  {
   "cell_type": "code",
   "execution_count": 103,
   "id": "eed7e75d",
   "metadata": {
    "tags": []
   },
   "outputs": [],
   "source": [
    "total_dias_campanha = 45\n",
    "df_vereadores_ap_pa['GASTO_DIARIO'] = df_vereadores_ap_pa['VR_DESPESA_MAX_CAMPANHA'] / total_dias_campanha"
   ]
  },
  {
   "cell_type": "code",
   "execution_count": 104,
   "id": "a136009c",
   "metadata": {
    "tags": []
   },
   "outputs": [
    {
     "data": {
      "text/html": [
       "<div>\n",
       "<style scoped>\n",
       "    .dataframe tbody tr th:only-of-type {\n",
       "        vertical-align: middle;\n",
       "    }\n",
       "\n",
       "    .dataframe tbody tr th {\n",
       "        vertical-align: top;\n",
       "    }\n",
       "\n",
       "    .dataframe thead th {\n",
       "        text-align: right;\n",
       "    }\n",
       "</style>\n",
       "<table border=\"1\" class=\"dataframe\">\n",
       "  <thead>\n",
       "    <tr style=\"text-align: right;\">\n",
       "      <th></th>\n",
       "      <th>ANO_ELEICAO</th>\n",
       "      <th>TP_ABRANGENCIA</th>\n",
       "      <th>SG_UF</th>\n",
       "      <th>SG_UE</th>\n",
       "      <th>NM_UE</th>\n",
       "      <th>CD_CARGO</th>\n",
       "      <th>DS_CARGO</th>\n",
       "      <th>NR_CANDIDATO</th>\n",
       "      <th>NM_CANDIDATO</th>\n",
       "      <th>NM_URNA_CANDIDATO</th>\n",
       "      <th>...</th>\n",
       "      <th>DS_COR_RACA</th>\n",
       "      <th>VR_DESPESA_MAX_CAMPANHA</th>\n",
       "      <th>CD_SIT_TOT_TURNO</th>\n",
       "      <th>DS_SIT_TOT_TURNO</th>\n",
       "      <th>ST_REELEICAO</th>\n",
       "      <th>CD_SITUACAO_CANDIDATURA</th>\n",
       "      <th>DS_SITUACAO_CANDIDATURA</th>\n",
       "      <th>CD_DETALHE_SITUACAO_CAND</th>\n",
       "      <th>DS_DETALHE_SITUACAO_CAND</th>\n",
       "      <th>GASTO_DIARIO</th>\n",
       "    </tr>\n",
       "  </thead>\n",
       "  <tbody>\n",
       "    <tr>\n",
       "      <th>0</th>\n",
       "      <td>2020</td>\n",
       "      <td>MUNICIPAL</td>\n",
       "      <td>AP</td>\n",
       "      <td>6114</td>\n",
       "      <td>FERREIRA GOMES</td>\n",
       "      <td>13</td>\n",
       "      <td>VEREADOR</td>\n",
       "      <td>11369</td>\n",
       "      <td>RAIMUNDO MESQUITA FERREIRA DOS SANTOS</td>\n",
       "      <td>GOIABA</td>\n",
       "      <td>...</td>\n",
       "      <td>PRETA</td>\n",
       "      <td>12307.75</td>\n",
       "      <td>5</td>\n",
       "      <td>SUPLENTE</td>\n",
       "      <td>N</td>\n",
       "      <td>12</td>\n",
       "      <td>APTO</td>\n",
       "      <td>2</td>\n",
       "      <td>DEFERIDO</td>\n",
       "      <td>273.505556</td>\n",
       "    </tr>\n",
       "    <tr>\n",
       "      <th>1</th>\n",
       "      <td>2020</td>\n",
       "      <td>MUNICIPAL</td>\n",
       "      <td>AP</td>\n",
       "      <td>6076</td>\n",
       "      <td>MAZAGÃO</td>\n",
       "      <td>13</td>\n",
       "      <td>VEREADOR</td>\n",
       "      <td>13000</td>\n",
       "      <td>MAURICIO DEL CASTILLO RAIOL</td>\n",
       "      <td>MAURICIO DA SAÚDE</td>\n",
       "      <td>...</td>\n",
       "      <td>PARDA</td>\n",
       "      <td>24149.88</td>\n",
       "      <td>4</td>\n",
       "      <td>NÃO ELEITO</td>\n",
       "      <td>N</td>\n",
       "      <td>12</td>\n",
       "      <td>APTO</td>\n",
       "      <td>2</td>\n",
       "      <td>DEFERIDO</td>\n",
       "      <td>536.664000</td>\n",
       "    </tr>\n",
       "    <tr>\n",
       "      <th>2</th>\n",
       "      <td>2020</td>\n",
       "      <td>MUNICIPAL</td>\n",
       "      <td>AP</td>\n",
       "      <td>6106</td>\n",
       "      <td>SERRA DO NAVIO</td>\n",
       "      <td>13</td>\n",
       "      <td>VEREADOR</td>\n",
       "      <td>55123</td>\n",
       "      <td>KENNAS DE OLIVEIRA DOS SANTOS</td>\n",
       "      <td>NEGUINHO DO TAXI</td>\n",
       "      <td>...</td>\n",
       "      <td>PRETA</td>\n",
       "      <td>12307.75</td>\n",
       "      <td>5</td>\n",
       "      <td>SUPLENTE</td>\n",
       "      <td>N</td>\n",
       "      <td>12</td>\n",
       "      <td>APTO</td>\n",
       "      <td>2</td>\n",
       "      <td>DEFERIDO</td>\n",
       "      <td>273.505556</td>\n",
       "    </tr>\n",
       "    <tr>\n",
       "      <th>4</th>\n",
       "      <td>2020</td>\n",
       "      <td>MUNICIPAL</td>\n",
       "      <td>AP</td>\n",
       "      <td>6017</td>\n",
       "      <td>AMAPÁ</td>\n",
       "      <td>13</td>\n",
       "      <td>VEREADOR</td>\n",
       "      <td>12111</td>\n",
       "      <td>MAURÍCIO DE OLIVEIRA SUCUPIRA</td>\n",
       "      <td>MAURÍCIO SUCUPIRA</td>\n",
       "      <td>...</td>\n",
       "      <td>PARDA</td>\n",
       "      <td>12307.75</td>\n",
       "      <td>2</td>\n",
       "      <td>ELEITO POR QP</td>\n",
       "      <td>N</td>\n",
       "      <td>12</td>\n",
       "      <td>APTO</td>\n",
       "      <td>2</td>\n",
       "      <td>DEFERIDO</td>\n",
       "      <td>273.505556</td>\n",
       "    </tr>\n",
       "    <tr>\n",
       "      <th>5</th>\n",
       "      <td>2020</td>\n",
       "      <td>MUNICIPAL</td>\n",
       "      <td>AP</td>\n",
       "      <td>6050</td>\n",
       "      <td>MACAPÁ</td>\n",
       "      <td>13</td>\n",
       "      <td>VEREADOR</td>\n",
       "      <td>17222</td>\n",
       "      <td>ADRIANO DOS SANTOS SILVA</td>\n",
       "      <td>ADRIANO SILVA</td>\n",
       "      <td>...</td>\n",
       "      <td>PARDA</td>\n",
       "      <td>151743.76</td>\n",
       "      <td>5</td>\n",
       "      <td>SUPLENTE</td>\n",
       "      <td>N</td>\n",
       "      <td>12</td>\n",
       "      <td>APTO</td>\n",
       "      <td>2</td>\n",
       "      <td>DEFERIDO</td>\n",
       "      <td>3372.083556</td>\n",
       "    </tr>\n",
       "  </tbody>\n",
       "</table>\n",
       "<p>5 rows × 27 columns</p>\n",
       "</div>"
      ],
      "text/plain": [
       "   ANO_ELEICAO TP_ABRANGENCIA SG_UF  SG_UE           NM_UE  CD_CARGO  \\\n",
       "0         2020      MUNICIPAL    AP   6114  FERREIRA GOMES        13   \n",
       "1         2020      MUNICIPAL    AP   6076         MAZAGÃO        13   \n",
       "2         2020      MUNICIPAL    AP   6106  SERRA DO NAVIO        13   \n",
       "4         2020      MUNICIPAL    AP   6017           AMAPÁ        13   \n",
       "5         2020      MUNICIPAL    AP   6050          MACAPÁ        13   \n",
       "\n",
       "   DS_CARGO  NR_CANDIDATO                           NM_CANDIDATO  \\\n",
       "0  VEREADOR         11369  RAIMUNDO MESQUITA FERREIRA DOS SANTOS   \n",
       "1  VEREADOR         13000            MAURICIO DEL CASTILLO RAIOL   \n",
       "2  VEREADOR         55123          KENNAS DE OLIVEIRA DOS SANTOS   \n",
       "4  VEREADOR         12111          MAURÍCIO DE OLIVEIRA SUCUPIRA   \n",
       "5  VEREADOR         17222               ADRIANO DOS SANTOS SILVA   \n",
       "\n",
       "   NM_URNA_CANDIDATO  ... DS_COR_RACA  VR_DESPESA_MAX_CAMPANHA  \\\n",
       "0             GOIABA  ...       PRETA                 12307.75   \n",
       "1  MAURICIO DA SAÚDE  ...       PARDA                 24149.88   \n",
       "2   NEGUINHO DO TAXI  ...       PRETA                 12307.75   \n",
       "4  MAURÍCIO SUCUPIRA  ...       PARDA                 12307.75   \n",
       "5      ADRIANO SILVA  ...       PARDA                151743.76   \n",
       "\n",
       "  CD_SIT_TOT_TURNO  DS_SIT_TOT_TURNO  ST_REELEICAO CD_SITUACAO_CANDIDATURA  \\\n",
       "0                5          SUPLENTE             N                      12   \n",
       "1                4        NÃO ELEITO             N                      12   \n",
       "2                5          SUPLENTE             N                      12   \n",
       "4                2     ELEITO POR QP             N                      12   \n",
       "5                5          SUPLENTE             N                      12   \n",
       "\n",
       "   DS_SITUACAO_CANDIDATURA CD_DETALHE_SITUACAO_CAND  DS_DETALHE_SITUACAO_CAND  \\\n",
       "0                     APTO                        2                  DEFERIDO   \n",
       "1                     APTO                        2                  DEFERIDO   \n",
       "2                     APTO                        2                  DEFERIDO   \n",
       "4                     APTO                        2                  DEFERIDO   \n",
       "5                     APTO                        2                  DEFERIDO   \n",
       "\n",
       "   GASTO_DIARIO  \n",
       "0    273.505556  \n",
       "1    536.664000  \n",
       "2    273.505556  \n",
       "4    273.505556  \n",
       "5   3372.083556  \n",
       "\n",
       "[5 rows x 27 columns]"
      ]
     },
     "execution_count": 104,
     "metadata": {},
     "output_type": "execute_result"
    }
   ],
   "source": [
    "df_vereadores_ap_pa.head()"
   ]
  },
  {
   "attachments": {},
   "cell_type": "markdown",
   "id": "488c750e",
   "metadata": {},
   "source": [
    "Explorando mais um pouco esses dados, trabalharemos apenas com os dados das candidaturas de Pernambuco e classificaremos os gastos médios diários de acordo com os conceitos de quartil e valores discrepantes que vimos nos vídeos sobre estatística:"
   ]
  },
  {
   "cell_type": "code",
   "execution_count": 105,
   "id": "c133044e",
   "metadata": {
    "tags": []
   },
   "outputs": [],
   "source": [
    "df_vereadores_pa = df_vereadores_ap_pa[df_vereadores_ap_pa['SG_UF'] == 'PA'].copy()"
   ]
  },
  {
   "cell_type": "code",
   "execution_count": 106,
   "id": "d0ed61f0",
   "metadata": {
    "tags": []
   },
   "outputs": [],
   "source": [
    "primeiro_quartil = df_vereadores_pa['GASTO_DIARIO'].quantile(0.25)\n",
    "terceiro_quartil = df_vereadores_pa['GASTO_DIARIO'].quantile(0.75)"
   ]
  },
  {
   "cell_type": "code",
   "execution_count": 107,
   "id": "f1418707",
   "metadata": {
    "tags": []
   },
   "outputs": [],
   "source": [
    "intervalo_interquartil = terceiro_quartil - primeiro_quartil"
   ]
  },
  {
   "cell_type": "code",
   "execution_count": 108,
   "id": "7089b366",
   "metadata": {
    "tags": []
   },
   "outputs": [],
   "source": [
    "limite_inferior = primeiro_quartil - (intervalo_interquartil * 1.5)\n",
    "limite_superior = terceiro_quartil + (intervalo_interquartil * 1.5)"
   ]
  },
  {
   "cell_type": "code",
   "execution_count": 109,
   "id": "75bb43a9",
   "metadata": {
    "tags": []
   },
   "outputs": [],
   "source": [
    "def classificacao_gasto(row):\n",
    "    if row < limite_inferior:\n",
    "        return 'muito abaixo da média'\n",
    "    elif row >= limite_inferior and row < primeiro_quartil:\n",
    "        return 'abaixo da média'\n",
    "    elif row >= primeiro_quartil and row <= terceiro_quartil:\n",
    "        return 'na média'\n",
    "    elif row > terceiro_quartil and row <= limite_superior:\n",
    "        return 'acima da média'\n",
    "    else:\n",
    "        return 'muito acima da média'"
   ]
  },
  {
   "cell_type": "code",
   "execution_count": 110,
   "id": "ed50a728",
   "metadata": {
    "tags": []
   },
   "outputs": [],
   "source": [
    "df_vereadores_pa['CLASSIFICACAO_GASTO_DIARIO'] = df_vereadores_pa['GASTO_DIARIO'].apply(classificacao_gasto)"
   ]
  },
  {
   "cell_type": "code",
   "execution_count": 111,
   "id": "13da289a",
   "metadata": {
    "tags": []
   },
   "outputs": [
    {
     "data": {
      "text/html": [
       "<div>\n",
       "<style scoped>\n",
       "    .dataframe tbody tr th:only-of-type {\n",
       "        vertical-align: middle;\n",
       "    }\n",
       "\n",
       "    .dataframe tbody tr th {\n",
       "        vertical-align: top;\n",
       "    }\n",
       "\n",
       "    .dataframe thead th {\n",
       "        text-align: right;\n",
       "    }\n",
       "</style>\n",
       "<table border=\"1\" class=\"dataframe\">\n",
       "  <thead>\n",
       "    <tr style=\"text-align: right;\">\n",
       "      <th></th>\n",
       "      <th>ANO_ELEICAO</th>\n",
       "      <th>TP_ABRANGENCIA</th>\n",
       "      <th>SG_UF</th>\n",
       "      <th>SG_UE</th>\n",
       "      <th>NM_UE</th>\n",
       "      <th>CD_CARGO</th>\n",
       "      <th>DS_CARGO</th>\n",
       "      <th>NR_CANDIDATO</th>\n",
       "      <th>NM_CANDIDATO</th>\n",
       "      <th>NM_URNA_CANDIDATO</th>\n",
       "      <th>...</th>\n",
       "      <th>VR_DESPESA_MAX_CAMPANHA</th>\n",
       "      <th>CD_SIT_TOT_TURNO</th>\n",
       "      <th>DS_SIT_TOT_TURNO</th>\n",
       "      <th>ST_REELEICAO</th>\n",
       "      <th>CD_SITUACAO_CANDIDATURA</th>\n",
       "      <th>DS_SITUACAO_CANDIDATURA</th>\n",
       "      <th>CD_DETALHE_SITUACAO_CAND</th>\n",
       "      <th>DS_DETALHE_SITUACAO_CAND</th>\n",
       "      <th>GASTO_DIARIO</th>\n",
       "      <th>CLASSIFICACAO_GASTO_DIARIO</th>\n",
       "    </tr>\n",
       "  </thead>\n",
       "  <tbody>\n",
       "    <tr>\n",
       "      <th>2498</th>\n",
       "      <td>2020</td>\n",
       "      <td>MUNICIPAL</td>\n",
       "      <td>PA</td>\n",
       "      <td>5851</td>\n",
       "      <td>CURIONÓPOLIS</td>\n",
       "      <td>13</td>\n",
       "      <td>VEREADOR</td>\n",
       "      <td>15999</td>\n",
       "      <td>LUCAS HENRIQUE NASCIMENTO SILVA</td>\n",
       "      <td>LUCAS MARANHENSE</td>\n",
       "      <td>...</td>\n",
       "      <td>25848.36</td>\n",
       "      <td>5</td>\n",
       "      <td>SUPLENTE</td>\n",
       "      <td>N</td>\n",
       "      <td>12</td>\n",
       "      <td>APTO</td>\n",
       "      <td>2</td>\n",
       "      <td>DEFERIDO</td>\n",
       "      <td>574.408000</td>\n",
       "      <td>na média</td>\n",
       "    </tr>\n",
       "    <tr>\n",
       "      <th>2499</th>\n",
       "      <td>2020</td>\n",
       "      <td>MUNICIPAL</td>\n",
       "      <td>PA</td>\n",
       "      <td>4472</td>\n",
       "      <td>CASTANHAL</td>\n",
       "      <td>13</td>\n",
       "      <td>VEREADOR</td>\n",
       "      <td>13535</td>\n",
       "      <td>RITA DO SOCORRO DOS SANTOS PEREIRA</td>\n",
       "      <td>DONA RITA</td>\n",
       "      <td>...</td>\n",
       "      <td>53698.78</td>\n",
       "      <td>4</td>\n",
       "      <td>NÃO ELEITO</td>\n",
       "      <td>N</td>\n",
       "      <td>12</td>\n",
       "      <td>APTO</td>\n",
       "      <td>2</td>\n",
       "      <td>DEFERIDO</td>\n",
       "      <td>1193.306222</td>\n",
       "      <td>acima da média</td>\n",
       "    </tr>\n",
       "    <tr>\n",
       "      <th>2500</th>\n",
       "      <td>2020</td>\n",
       "      <td>MUNICIPAL</td>\n",
       "      <td>PA</td>\n",
       "      <td>4278</td>\n",
       "      <td>BELÉM</td>\n",
       "      <td>13</td>\n",
       "      <td>VEREADOR</td>\n",
       "      <td>19990</td>\n",
       "      <td>MAXIMILIANO MORAES CARDOSO</td>\n",
       "      <td>NEGO DUBA</td>\n",
       "      <td>...</td>\n",
       "      <td>438043.03</td>\n",
       "      <td>5</td>\n",
       "      <td>SUPLENTE</td>\n",
       "      <td>N</td>\n",
       "      <td>12</td>\n",
       "      <td>APTO</td>\n",
       "      <td>2</td>\n",
       "      <td>DEFERIDO</td>\n",
       "      <td>9734.289556</td>\n",
       "      <td>muito acima da média</td>\n",
       "    </tr>\n",
       "    <tr>\n",
       "      <th>2501</th>\n",
       "      <td>2020</td>\n",
       "      <td>MUNICIPAL</td>\n",
       "      <td>PA</td>\n",
       "      <td>5355</td>\n",
       "      <td>SANTARÉM</td>\n",
       "      <td>13</td>\n",
       "      <td>VEREADOR</td>\n",
       "      <td>22789</td>\n",
       "      <td>JOSAFA DA COSTA GONÇALVES</td>\n",
       "      <td>PROF. JOSAFA DO SINPROSAN</td>\n",
       "      <td>...</td>\n",
       "      <td>83396.64</td>\n",
       "      <td>3</td>\n",
       "      <td>ELEITO POR MÉDIA</td>\n",
       "      <td>N</td>\n",
       "      <td>12</td>\n",
       "      <td>APTO</td>\n",
       "      <td>2</td>\n",
       "      <td>DEFERIDO</td>\n",
       "      <td>1853.258667</td>\n",
       "      <td>acima da média</td>\n",
       "    </tr>\n",
       "    <tr>\n",
       "      <th>2502</th>\n",
       "      <td>2020</td>\n",
       "      <td>MUNICIPAL</td>\n",
       "      <td>PA</td>\n",
       "      <td>4316</td>\n",
       "      <td>BONITO</td>\n",
       "      <td>13</td>\n",
       "      <td>VEREADOR</td>\n",
       "      <td>14234</td>\n",
       "      <td>EDIVALDO DA COSTA CRUZ</td>\n",
       "      <td>BOFÓ</td>\n",
       "      <td>...</td>\n",
       "      <td>12307.75</td>\n",
       "      <td>5</td>\n",
       "      <td>SUPLENTE</td>\n",
       "      <td>N</td>\n",
       "      <td>12</td>\n",
       "      <td>APTO</td>\n",
       "      <td>2</td>\n",
       "      <td>DEFERIDO</td>\n",
       "      <td>273.505556</td>\n",
       "      <td>abaixo da média</td>\n",
       "    </tr>\n",
       "  </tbody>\n",
       "</table>\n",
       "<p>5 rows × 28 columns</p>\n",
       "</div>"
      ],
      "text/plain": [
       "      ANO_ELEICAO TP_ABRANGENCIA SG_UF  SG_UE         NM_UE  CD_CARGO  \\\n",
       "2498         2020      MUNICIPAL    PA   5851  CURIONÓPOLIS        13   \n",
       "2499         2020      MUNICIPAL    PA   4472     CASTANHAL        13   \n",
       "2500         2020      MUNICIPAL    PA   4278         BELÉM        13   \n",
       "2501         2020      MUNICIPAL    PA   5355      SANTARÉM        13   \n",
       "2502         2020      MUNICIPAL    PA   4316        BONITO        13   \n",
       "\n",
       "      DS_CARGO  NR_CANDIDATO                        NM_CANDIDATO  \\\n",
       "2498  VEREADOR         15999     LUCAS HENRIQUE NASCIMENTO SILVA   \n",
       "2499  VEREADOR         13535  RITA DO SOCORRO DOS SANTOS PEREIRA   \n",
       "2500  VEREADOR         19990          MAXIMILIANO MORAES CARDOSO   \n",
       "2501  VEREADOR         22789           JOSAFA DA COSTA GONÇALVES   \n",
       "2502  VEREADOR         14234              EDIVALDO DA COSTA CRUZ   \n",
       "\n",
       "              NM_URNA_CANDIDATO  ... VR_DESPESA_MAX_CAMPANHA  \\\n",
       "2498           LUCAS MARANHENSE  ...                25848.36   \n",
       "2499                  DONA RITA  ...                53698.78   \n",
       "2500                  NEGO DUBA  ...               438043.03   \n",
       "2501  PROF. JOSAFA DO SINPROSAN  ...                83396.64   \n",
       "2502                       BOFÓ  ...                12307.75   \n",
       "\n",
       "      CD_SIT_TOT_TURNO  DS_SIT_TOT_TURNO  ST_REELEICAO  \\\n",
       "2498                 5          SUPLENTE             N   \n",
       "2499                 4        NÃO ELEITO             N   \n",
       "2500                 5          SUPLENTE             N   \n",
       "2501                 3  ELEITO POR MÉDIA             N   \n",
       "2502                 5          SUPLENTE             N   \n",
       "\n",
       "      CD_SITUACAO_CANDIDATURA DS_SITUACAO_CANDIDATURA  \\\n",
       "2498                       12                    APTO   \n",
       "2499                       12                    APTO   \n",
       "2500                       12                    APTO   \n",
       "2501                       12                    APTO   \n",
       "2502                       12                    APTO   \n",
       "\n",
       "      CD_DETALHE_SITUACAO_CAND DS_DETALHE_SITUACAO_CAND  GASTO_DIARIO  \\\n",
       "2498                         2                 DEFERIDO    574.408000   \n",
       "2499                         2                 DEFERIDO   1193.306222   \n",
       "2500                         2                 DEFERIDO   9734.289556   \n",
       "2501                         2                 DEFERIDO   1853.258667   \n",
       "2502                         2                 DEFERIDO    273.505556   \n",
       "\n",
       "      CLASSIFICACAO_GASTO_DIARIO  \n",
       "2498                    na média  \n",
       "2499              acima da média  \n",
       "2500        muito acima da média  \n",
       "2501              acima da média  \n",
       "2502             abaixo da média  \n",
       "\n",
       "[5 rows x 28 columns]"
      ]
     },
     "execution_count": 111,
     "metadata": {},
     "output_type": "execute_result"
    }
   ],
   "source": [
    "df_vereadores_pa.head()"
   ]
  },
  {
   "attachments": {},
   "cell_type": "markdown",
   "id": "8b96f806",
   "metadata": {},
   "source": [
    "Para facilitar a visualização faremos um gráfico de barras usando a biblioteca matplotlib:"
   ]
  },
  {
   "cell_type": "code",
   "execution_count": 112,
   "id": "c9d2cf02",
   "metadata": {
    "tags": []
   },
   "outputs": [],
   "source": [
    "from matplotlib import pyplot as plt"
   ]
  },
  {
   "cell_type": "code",
   "execution_count": 116,
   "id": "9a2afa00",
   "metadata": {
    "tags": []
   },
   "outputs": [
    {
     "data": {
      "text/plain": [
       "['na média', 'acima da média', 'muito acima da média', 'abaixo da média']"
      ]
     },
     "execution_count": 116,
     "metadata": {},
     "output_type": "execute_result"
    }
   ],
   "source": [
    "# guarda na variável \"classificacao\" uma lista com os rótulos usados para classificar os gastos\n",
    "classificacao = df_vereadores_pa['CLASSIFICACAO_GASTO_DIARIO'].unique().tolist()\n"
   ]
  },
  {
   "cell_type": "code",
   "execution_count": 115,
   "id": "216ca920",
   "metadata": {
    "tags": []
   },
   "outputs": [
    {
     "data": {
      "text/plain": [
       "[10642, 5149, 2648, 2536]"
      ]
     },
     "execution_count": 115,
     "metadata": {},
     "output_type": "execute_result"
    }
   ],
   "source": [
    "#guarda na variável \"total_por_classificacao\" uma lista a quantidade de ocorrência de cada rótulo\n",
    "total_por_classificacao = df_vereadores_pa['CLASSIFICACAO_GASTO_DIARIO'].value_counts().to_list()\n"
   ]
  },
  {
   "cell_type": "code",
   "execution_count": 117,
   "id": "30b26e0c",
   "metadata": {
    "tags": []
   },
   "outputs": [
    {
     "name": "stderr",
     "output_type": "stream",
     "text": [
      "/tmp/ipykernel_33953/4275048101.py:5: UserWarning: Matplotlib is currently using module://matplotlib_inline.backend_inline, which is a non-GUI backend, so cannot show the figure.\n",
      "  plt.show()\n"
     ]
    }
   ],
   "source": [
    "plt.bar(classificacao, total_por_classificacao)\n",
    "plt.title('Gastos diários declarados por candidatura')\n",
    "plt.ylabel('Quantitativo de municípios por classificação')\n",
    "\n",
    "plt.show()"
   ]
  },
  {
   "attachments": {},
   "cell_type": "markdown",
   "id": "827e1acf",
   "metadata": {},
   "source": [
    "### Aula 15: Operações com dados e método `groupby`\n",
    "\n",
    "Usando o método groupby podemos agrupar dados segundo informações de uma coluna e fazer operações com o agrupamento.\n",
    "\n",
    "As perguntas que queremos responder são: quantas mulheres são candidatas? Qual a distribuição de pessoas por grupo racial? Quantidade de mulheres por grupo racial? E qual partido tem mais mulheres em cada grupo racial?\n"
   ]
  },
  {
   "cell_type": "code",
   "execution_count": 119,
   "id": "6b9b70e3",
   "metadata": {
    "tags": []
   },
   "outputs": [],
   "source": [
    "colunas_desejadas = ['SG_PARTIDO', 'DS_GENERO', 'DS_COR_RACA']\n",
    "filtro = df_vereadores_ap_pa['SG_UF'] == 'AP'"
   ]
  },
  {
   "cell_type": "code",
   "execution_count": 120,
   "id": "b003a30a",
   "metadata": {
    "tags": []
   },
   "outputs": [],
   "source": [
    "df_vereadores_ap_sexo_raca = df_vereadores_ap_pa.loc[filtro, colunas_desejadas]"
   ]
  },
  {
   "cell_type": "code",
   "execution_count": 121,
   "id": "a036411d",
   "metadata": {
    "tags": []
   },
   "outputs": [
    {
     "data": {
      "text/html": [
       "<div>\n",
       "<style scoped>\n",
       "    .dataframe tbody tr th:only-of-type {\n",
       "        vertical-align: middle;\n",
       "    }\n",
       "\n",
       "    .dataframe tbody tr th {\n",
       "        vertical-align: top;\n",
       "    }\n",
       "\n",
       "    .dataframe thead th {\n",
       "        text-align: right;\n",
       "    }\n",
       "</style>\n",
       "<table border=\"1\" class=\"dataframe\">\n",
       "  <thead>\n",
       "    <tr style=\"text-align: right;\">\n",
       "      <th></th>\n",
       "      <th>SG_PARTIDO</th>\n",
       "      <th>DS_GENERO</th>\n",
       "      <th>DS_COR_RACA</th>\n",
       "    </tr>\n",
       "  </thead>\n",
       "  <tbody>\n",
       "    <tr>\n",
       "      <th>0</th>\n",
       "      <td>PP</td>\n",
       "      <td>MASCULINO</td>\n",
       "      <td>PRETA</td>\n",
       "    </tr>\n",
       "    <tr>\n",
       "      <th>1</th>\n",
       "      <td>PT</td>\n",
       "      <td>MASCULINO</td>\n",
       "      <td>PARDA</td>\n",
       "    </tr>\n",
       "    <tr>\n",
       "      <th>2</th>\n",
       "      <td>PSD</td>\n",
       "      <td>MASCULINO</td>\n",
       "      <td>PRETA</td>\n",
       "    </tr>\n",
       "    <tr>\n",
       "      <th>4</th>\n",
       "      <td>PDT</td>\n",
       "      <td>MASCULINO</td>\n",
       "      <td>PARDA</td>\n",
       "    </tr>\n",
       "    <tr>\n",
       "      <th>5</th>\n",
       "      <td>PSL</td>\n",
       "      <td>MASCULINO</td>\n",
       "      <td>PARDA</td>\n",
       "    </tr>\n",
       "  </tbody>\n",
       "</table>\n",
       "</div>"
      ],
      "text/plain": [
       "  SG_PARTIDO  DS_GENERO DS_COR_RACA\n",
       "0         PP  MASCULINO       PRETA\n",
       "1         PT  MASCULINO       PARDA\n",
       "2        PSD  MASCULINO       PRETA\n",
       "4        PDT  MASCULINO       PARDA\n",
       "5        PSL  MASCULINO       PARDA"
      ]
     },
     "execution_count": 121,
     "metadata": {},
     "output_type": "execute_result"
    }
   ],
   "source": [
    "df_vereadores_ap_sexo_raca.head()"
   ]
  },
  {
   "attachments": {},
   "cell_type": "markdown",
   "id": "9fc3e4f7",
   "metadata": {},
   "source": [
    "Agrupando por gênero, quantas candidaturas temos em cada um?"
   ]
  },
  {
   "cell_type": "code",
   "execution_count": 122,
   "id": "69e9046f",
   "metadata": {
    "tags": []
   },
   "outputs": [
    {
     "data": {
      "text/html": [
       "<div>\n",
       "<style scoped>\n",
       "    .dataframe tbody tr th:only-of-type {\n",
       "        vertical-align: middle;\n",
       "    }\n",
       "\n",
       "    .dataframe tbody tr th {\n",
       "        vertical-align: top;\n",
       "    }\n",
       "\n",
       "    .dataframe thead th {\n",
       "        text-align: right;\n",
       "    }\n",
       "</style>\n",
       "<table border=\"1\" class=\"dataframe\">\n",
       "  <thead>\n",
       "    <tr style=\"text-align: right;\">\n",
       "      <th></th>\n",
       "      <th>SG_PARTIDO</th>\n",
       "      <th>DS_COR_RACA</th>\n",
       "    </tr>\n",
       "    <tr>\n",
       "      <th>DS_GENERO</th>\n",
       "      <th></th>\n",
       "      <th></th>\n",
       "    </tr>\n",
       "  </thead>\n",
       "  <tbody>\n",
       "    <tr>\n",
       "      <th>FEMININO</th>\n",
       "      <td>765</td>\n",
       "      <td>765</td>\n",
       "    </tr>\n",
       "    <tr>\n",
       "      <th>MASCULINO</th>\n",
       "      <td>1349</td>\n",
       "      <td>1349</td>\n",
       "    </tr>\n",
       "  </tbody>\n",
       "</table>\n",
       "</div>"
      ],
      "text/plain": [
       "           SG_PARTIDO  DS_COR_RACA\n",
       "DS_GENERO                         \n",
       "FEMININO          765          765\n",
       "MASCULINO        1349         1349"
      ]
     },
     "execution_count": 122,
     "metadata": {},
     "output_type": "execute_result"
    }
   ],
   "source": [
    "df_vereadores_ap_sexo_raca.groupby(['DS_GENERO']).count()"
   ]
  },
  {
   "attachments": {},
   "cell_type": "markdown",
   "id": "2f01e94e",
   "metadata": {},
   "source": [
    "E por raça?"
   ]
  },
  {
   "cell_type": "code",
   "execution_count": 123,
   "id": "3f5cefbc",
   "metadata": {
    "tags": []
   },
   "outputs": [
    {
     "data": {
      "text/html": [
       "<div>\n",
       "<style scoped>\n",
       "    .dataframe tbody tr th:only-of-type {\n",
       "        vertical-align: middle;\n",
       "    }\n",
       "\n",
       "    .dataframe tbody tr th {\n",
       "        vertical-align: top;\n",
       "    }\n",
       "\n",
       "    .dataframe thead th {\n",
       "        text-align: right;\n",
       "    }\n",
       "</style>\n",
       "<table border=\"1\" class=\"dataframe\">\n",
       "  <thead>\n",
       "    <tr style=\"text-align: right;\">\n",
       "      <th></th>\n",
       "      <th>SG_PARTIDO</th>\n",
       "      <th>DS_GENERO</th>\n",
       "    </tr>\n",
       "    <tr>\n",
       "      <th>DS_COR_RACA</th>\n",
       "      <th></th>\n",
       "      <th></th>\n",
       "    </tr>\n",
       "  </thead>\n",
       "  <tbody>\n",
       "    <tr>\n",
       "      <th>AMARELA</th>\n",
       "      <td>3</td>\n",
       "      <td>3</td>\n",
       "    </tr>\n",
       "    <tr>\n",
       "      <th>BRANCA</th>\n",
       "      <td>300</td>\n",
       "      <td>300</td>\n",
       "    </tr>\n",
       "    <tr>\n",
       "      <th>INDÍGENA</th>\n",
       "      <td>22</td>\n",
       "      <td>22</td>\n",
       "    </tr>\n",
       "    <tr>\n",
       "      <th>NÃO INFORMADO</th>\n",
       "      <td>4</td>\n",
       "      <td>4</td>\n",
       "    </tr>\n",
       "    <tr>\n",
       "      <th>PARDA</th>\n",
       "      <td>1544</td>\n",
       "      <td>1544</td>\n",
       "    </tr>\n",
       "    <tr>\n",
       "      <th>PRETA</th>\n",
       "      <td>241</td>\n",
       "      <td>241</td>\n",
       "    </tr>\n",
       "  </tbody>\n",
       "</table>\n",
       "</div>"
      ],
      "text/plain": [
       "               SG_PARTIDO  DS_GENERO\n",
       "DS_COR_RACA                         \n",
       "AMARELA                 3          3\n",
       "BRANCA                300        300\n",
       "INDÍGENA               22         22\n",
       "NÃO INFORMADO           4          4\n",
       "PARDA                1544       1544\n",
       "PRETA                 241        241"
      ]
     },
     "execution_count": 123,
     "metadata": {},
     "output_type": "execute_result"
    }
   ],
   "source": [
    "df_vereadores_ap_sexo_raca.groupby(['DS_COR_RACA']).count()"
   ]
  },
  {
   "attachments": {},
   "cell_type": "markdown",
   "id": "6347022c",
   "metadata": {},
   "source": [
    "Da candidaturas do gênero feminino, quantas temos em cada grupo racial?"
   ]
  },
  {
   "cell_type": "code",
   "execution_count": 124,
   "id": "0ebe9c99",
   "metadata": {
    "tags": []
   },
   "outputs": [
    {
     "data": {
      "text/html": [
       "<div>\n",
       "<style scoped>\n",
       "    .dataframe tbody tr th:only-of-type {\n",
       "        vertical-align: middle;\n",
       "    }\n",
       "\n",
       "    .dataframe tbody tr th {\n",
       "        vertical-align: top;\n",
       "    }\n",
       "\n",
       "    .dataframe thead th {\n",
       "        text-align: right;\n",
       "    }\n",
       "</style>\n",
       "<table border=\"1\" class=\"dataframe\">\n",
       "  <thead>\n",
       "    <tr style=\"text-align: right;\">\n",
       "      <th></th>\n",
       "      <th></th>\n",
       "      <th>SG_PARTIDO</th>\n",
       "    </tr>\n",
       "    <tr>\n",
       "      <th>DS_GENERO</th>\n",
       "      <th>DS_COR_RACA</th>\n",
       "      <th></th>\n",
       "    </tr>\n",
       "  </thead>\n",
       "  <tbody>\n",
       "    <tr>\n",
       "      <th rowspan=\"6\" valign=\"top\">FEMININO</th>\n",
       "      <th>AMARELA</th>\n",
       "      <td>2</td>\n",
       "    </tr>\n",
       "    <tr>\n",
       "      <th>BRANCA</th>\n",
       "      <td>103</td>\n",
       "    </tr>\n",
       "    <tr>\n",
       "      <th>INDÍGENA</th>\n",
       "      <td>5</td>\n",
       "    </tr>\n",
       "    <tr>\n",
       "      <th>NÃO INFORMADO</th>\n",
       "      <td>1</td>\n",
       "    </tr>\n",
       "    <tr>\n",
       "      <th>PARDA</th>\n",
       "      <td>575</td>\n",
       "    </tr>\n",
       "    <tr>\n",
       "      <th>PRETA</th>\n",
       "      <td>79</td>\n",
       "    </tr>\n",
       "  </tbody>\n",
       "</table>\n",
       "</div>"
      ],
      "text/plain": [
       "                         SG_PARTIDO\n",
       "DS_GENERO DS_COR_RACA              \n",
       "FEMININO  AMARELA                 2\n",
       "          BRANCA                103\n",
       "          INDÍGENA                5\n",
       "          NÃO INFORMADO           1\n",
       "          PARDA                 575\n",
       "          PRETA                  79"
      ]
     },
     "execution_count": 124,
     "metadata": {},
     "output_type": "execute_result"
    }
   ],
   "source": [
    "df_vereadores_ap_sexo_raca[df_vereadores_ap_sexo_raca['DS_GENERO'] == 'FEMININO'].groupby(\n",
    "    ['DS_GENERO', 'DS_COR_RACA']).count()"
   ]
  },
  {
   "attachments": {},
   "cell_type": "markdown",
   "id": "be3ec27a",
   "metadata": {},
   "source": [
    "Entre as candidaturas do gênero feminino, quais os partidos com maior número de representação em cada grupo racial?"
   ]
  },
  {
   "cell_type": "code",
   "execution_count": 125,
   "id": "65e886b4",
   "metadata": {
    "tags": []
   },
   "outputs": [
    {
     "data": {
      "text/html": [
       "<div>\n",
       "<style scoped>\n",
       "    .dataframe tbody tr th:only-of-type {\n",
       "        vertical-align: middle;\n",
       "    }\n",
       "\n",
       "    .dataframe tbody tr th {\n",
       "        vertical-align: top;\n",
       "    }\n",
       "\n",
       "    .dataframe thead th {\n",
       "        text-align: right;\n",
       "    }\n",
       "</style>\n",
       "<table border=\"1\" class=\"dataframe\">\n",
       "  <thead>\n",
       "    <tr style=\"text-align: right;\">\n",
       "      <th></th>\n",
       "      <th></th>\n",
       "      <th>SG_PARTIDO</th>\n",
       "    </tr>\n",
       "    <tr>\n",
       "      <th>DS_GENERO</th>\n",
       "      <th>DS_COR_RACA</th>\n",
       "      <th></th>\n",
       "    </tr>\n",
       "  </thead>\n",
       "  <tbody>\n",
       "    <tr>\n",
       "      <th rowspan=\"6\" valign=\"top\">FEMININO</th>\n",
       "      <th>AMARELA</th>\n",
       "      <td>PTB</td>\n",
       "    </tr>\n",
       "    <tr>\n",
       "      <th>BRANCA</th>\n",
       "      <td>SOLIDARIEDADE</td>\n",
       "    </tr>\n",
       "    <tr>\n",
       "      <th>INDÍGENA</th>\n",
       "      <td>REPUBLICANOS</td>\n",
       "    </tr>\n",
       "    <tr>\n",
       "      <th>NÃO INFORMADO</th>\n",
       "      <td>PDT</td>\n",
       "    </tr>\n",
       "    <tr>\n",
       "      <th>PARDA</th>\n",
       "      <td>SOLIDARIEDADE</td>\n",
       "    </tr>\n",
       "    <tr>\n",
       "      <th>PRETA</th>\n",
       "      <td>REPUBLICANOS</td>\n",
       "    </tr>\n",
       "  </tbody>\n",
       "</table>\n",
       "</div>"
      ],
      "text/plain": [
       "                            SG_PARTIDO\n",
       "DS_GENERO DS_COR_RACA                 \n",
       "FEMININO  AMARELA                  PTB\n",
       "          BRANCA         SOLIDARIEDADE\n",
       "          INDÍGENA        REPUBLICANOS\n",
       "          NÃO INFORMADO            PDT\n",
       "          PARDA          SOLIDARIEDADE\n",
       "          PRETA           REPUBLICANOS"
      ]
     },
     "execution_count": 125,
     "metadata": {},
     "output_type": "execute_result"
    }
   ],
   "source": [
    "df_vereadores_ap_sexo_raca[df_vereadores_ap_sexo_raca['DS_GENERO'] == 'FEMININO'].groupby(\n",
    "    ['DS_GENERO', 'DS_COR_RACA']).max()"
   ]
  },
  {
   "attachments": {},
   "cell_type": "markdown",
   "id": "c3522222",
   "metadata": {},
   "source": [
    "## Agora é a sua vez, entre as candidaturas do sexo masculino, quais os partidos com o menor número de representantes em cada grupo racial?"
   ]
  },
  {
   "cell_type": "code",
   "execution_count": 136,
   "id": "b32635b9",
   "metadata": {},
   "outputs": [
    {
     "ename": "ValueError",
     "evalue": "could not convert string to float: 'PRETA'",
     "output_type": "error",
     "traceback": [
      "\u001b[0;31m---------------------------------------------------------------------------\u001b[0m",
      "\u001b[0;31mValueError\u001b[0m                                Traceback (most recent call last)",
      "Cell \u001b[0;32mIn[136], line 3\u001b[0m\n\u001b[1;32m      1\u001b[0m df_vereadores_ap_sexo_raca[df_vereadores_ap_sexo_raca[\u001b[39m'\u001b[39m\u001b[39mDS_GENERO\u001b[39m\u001b[39m'\u001b[39m] \u001b[39m==\u001b[39m \u001b[39m\"\u001b[39m\u001b[39mMASCULINO\u001b[39m\u001b[39m\"\u001b[39m]\u001b[39m.\u001b[39mgroupby([\u001b[39m'\u001b[39m\u001b[39mDS_GENERO\u001b[39m\u001b[39m'\u001b[39m,\u001b[39m'\u001b[39m\u001b[39mDS_COR_RACA\u001b[39m\u001b[39m'\u001b[39m])\u001b[39m.\u001b[39mmin()\n\u001b[0;32m----> 3\u001b[0m df_vereadores_ap_sexo_raca[[\u001b[39m'\u001b[39;49m\u001b[39mDS_COR_RACA\u001b[39;49m\u001b[39m'\u001b[39;49m,\u001b[39m'\u001b[39;49m\u001b[39mDS_GENERO\u001b[39;49m\u001b[39m'\u001b[39;49m]]\u001b[39m.\u001b[39;49mcorr(method\u001b[39m=\u001b[39;49m\u001b[39m'\u001b[39;49m\u001b[39mspearman\u001b[39;49m\u001b[39m'\u001b[39;49m)\n",
      "File \u001b[0;32m~/python-inovacao-civica/python-inovacao-civica/venv/lib/python3.9/site-packages/pandas/core/frame.py:10054\u001b[0m, in \u001b[0;36mDataFrame.corr\u001b[0;34m(self, method, min_periods, numeric_only)\u001b[0m\n\u001b[1;32m  10052\u001b[0m cols \u001b[39m=\u001b[39m data\u001b[39m.\u001b[39mcolumns\n\u001b[1;32m  10053\u001b[0m idx \u001b[39m=\u001b[39m cols\u001b[39m.\u001b[39mcopy()\n\u001b[0;32m> 10054\u001b[0m mat \u001b[39m=\u001b[39m data\u001b[39m.\u001b[39;49mto_numpy(dtype\u001b[39m=\u001b[39;49m\u001b[39mfloat\u001b[39;49m, na_value\u001b[39m=\u001b[39;49mnp\u001b[39m.\u001b[39;49mnan, copy\u001b[39m=\u001b[39;49m\u001b[39mFalse\u001b[39;49;00m)\n\u001b[1;32m  10056\u001b[0m \u001b[39mif\u001b[39;00m method \u001b[39m==\u001b[39m \u001b[39m\"\u001b[39m\u001b[39mpearson\u001b[39m\u001b[39m\"\u001b[39m:\n\u001b[1;32m  10057\u001b[0m     correl \u001b[39m=\u001b[39m libalgos\u001b[39m.\u001b[39mnancorr(mat, minp\u001b[39m=\u001b[39mmin_periods)\n",
      "File \u001b[0;32m~/python-inovacao-civica/python-inovacao-civica/venv/lib/python3.9/site-packages/pandas/core/frame.py:1838\u001b[0m, in \u001b[0;36mDataFrame.to_numpy\u001b[0;34m(self, dtype, copy, na_value)\u001b[0m\n\u001b[1;32m   1836\u001b[0m \u001b[39mif\u001b[39;00m dtype \u001b[39mis\u001b[39;00m \u001b[39mnot\u001b[39;00m \u001b[39mNone\u001b[39;00m:\n\u001b[1;32m   1837\u001b[0m     dtype \u001b[39m=\u001b[39m np\u001b[39m.\u001b[39mdtype(dtype)\n\u001b[0;32m-> 1838\u001b[0m result \u001b[39m=\u001b[39m \u001b[39mself\u001b[39;49m\u001b[39m.\u001b[39;49m_mgr\u001b[39m.\u001b[39;49mas_array(dtype\u001b[39m=\u001b[39;49mdtype, copy\u001b[39m=\u001b[39;49mcopy, na_value\u001b[39m=\u001b[39;49mna_value)\n\u001b[1;32m   1839\u001b[0m \u001b[39mif\u001b[39;00m result\u001b[39m.\u001b[39mdtype \u001b[39mis\u001b[39;00m \u001b[39mnot\u001b[39;00m dtype:\n\u001b[1;32m   1840\u001b[0m     result \u001b[39m=\u001b[39m np\u001b[39m.\u001b[39marray(result, dtype\u001b[39m=\u001b[39mdtype, copy\u001b[39m=\u001b[39m\u001b[39mFalse\u001b[39;00m)\n",
      "File \u001b[0;32m~/python-inovacao-civica/python-inovacao-civica/venv/lib/python3.9/site-packages/pandas/core/internals/managers.py:1724\u001b[0m, in \u001b[0;36mBlockManager.as_array\u001b[0;34m(self, dtype, copy, na_value)\u001b[0m\n\u001b[1;32m   1722\u001b[0m     arr \u001b[39m=\u001b[39m np\u001b[39m.\u001b[39masarray(blk\u001b[39m.\u001b[39mget_values())\n\u001b[1;32m   1723\u001b[0m     \u001b[39mif\u001b[39;00m dtype:\n\u001b[0;32m-> 1724\u001b[0m         arr \u001b[39m=\u001b[39m arr\u001b[39m.\u001b[39;49mastype(dtype, copy\u001b[39m=\u001b[39;49m\u001b[39mFalse\u001b[39;49;00m)\n\u001b[1;32m   1726\u001b[0m \u001b[39mif\u001b[39;00m copy:\n\u001b[1;32m   1727\u001b[0m     arr \u001b[39m=\u001b[39m arr\u001b[39m.\u001b[39mcopy()\n",
      "\u001b[0;31mValueError\u001b[0m: could not convert string to float: 'PRETA'"
     ]
    }
   ],
   "source": [
    "df_vereadores_ap_sexo_raca[df_vereadores_ap_sexo_raca['DS_GENERO'] == \"MASCULINO\"].groupby(['DS_GENERO','DS_COR_RACA']).min()"
   ]
  }
 ],
 "metadata": {
  "kernelspec": {
   "display_name": "Python 3 (ipykernel)",
   "language": "python",
   "name": "python3"
  },
  "language_info": {
   "codemirror_mode": {
    "name": "ipython",
    "version": 3
   },
   "file_extension": ".py",
   "mimetype": "text/x-python",
   "name": "python",
   "nbconvert_exporter": "python",
   "pygments_lexer": "ipython3",
   "version": "3.9.13"
  }
 },
 "nbformat": 4,
 "nbformat_minor": 5
}
