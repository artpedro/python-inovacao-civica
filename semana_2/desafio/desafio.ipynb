{
 "cells": [
  {
   "attachments": {},
   "cell_type": "markdown",
   "id": "0badcac0",
   "metadata": {},
   "source": [
    "# Limpeza de dados e estatística descritiva\n",
    "\n",
    "Neste desafio colocaremos em prática alguns conceitos apresentado nas aulas. Para isso, usaremos o conjunto de dados [Prestação de contas eleitorais - 2020](https://dadosabertos.tse.jus.br/dataset/prestacao-de-contas-eleitorais-2020) disponível no Portal de Dados Abertos do Tribunal Superior Eleitoral.\n",
    "\n",
    "Os dados também podem ser encontrados na pasta \"Dados\" deste repositório.\n",
    "\n",
    "Preencha as lacunas abaixo para completar o desafio."
   ]
  },
  {
   "attachments": {},
   "cell_type": "markdown",
   "id": "0c16060f",
   "metadata": {},
   "source": [
    "# Importe os pacotes necessários"
   ]
  },
  {
   "cell_type": "code",
   "execution_count": 106,
   "id": "4e8e21b1",
   "metadata": {},
   "outputs": [],
   "source": [
    "import pandas as pd\n",
    "import numpy as np"
   ]
  },
  {
   "attachments": {},
   "cell_type": "markdown",
   "id": "bf75d21a",
   "metadata": {},
   "source": [
    "# Leia o arquivo \"receitas_orgaos_partidarios_2020_NORTE.csv\" que está na pasta dados desse repositório, usando o Pandas\n",
    "\n",
    "Na aula `1.10 - Outliers e valores faltantes`, vimos como utilizar o método `replace` para substituir valores em certos colunas do nosso dataframe e trocar o texto (string) `#NULO#` pela representação padrão do Pandas para valores nulos.\n",
    "\n",
    "Aqui, vamos utilizar um outro método, onde definimos quais strings serão considerados valores nulos já na importação do arquivo.\n",
    "\n",
    "Edite as células abaixo e inclua:\n",
    "\n",
    "* O nome do arquivo que queremos importar\n",
    "* O separador utilizado\n",
    "* Insira uma lista no parâmetro `na_values` que contenha o texto a ser ignorado.\n",
    "\n",
    "Experimente rodar os comandos primeiro sem e depois com o parâmetro `na_values`, então, compare a diferença. Observe, por exemplo, o campo `CD_CNAE_DOADOR`."
   ]
  },
  {
   "cell_type": "code",
   "execution_count": 107,
   "id": "0b8e6b56",
   "metadata": {},
   "outputs": [
    {
     "name": "stdout",
     "output_type": "stream",
     "text": [
      "<class 'pandas.core.frame.DataFrame'>\n",
      "RangeIndex: 6052 entries, 0 to 6051\n",
      "Data columns (total 48 columns):\n",
      " #   Column                       Non-Null Count  Dtype  \n",
      "---  ------                       --------------  -----  \n",
      " 0   DT_GERACAO                   6052 non-null   object \n",
      " 1   HH_GERACAO                   6052 non-null   object \n",
      " 2   ANO_ELEICAO                  6052 non-null   int64  \n",
      " 3   CD_TIPO_ELEICAO              6052 non-null   int64  \n",
      " 4   NM_TIPO_ELEICAO              6052 non-null   object \n",
      " 5   TP_PRESTACAO_CONTAS          6052 non-null   object \n",
      " 6   DT_PRESTACAO_CONTAS          6052 non-null   object \n",
      " 7   SQ_PRESTADOR_CONTAS          6052 non-null   int64  \n",
      " 8   CD_ESFERA_PARTIDARIA         6052 non-null   object \n",
      " 9   DS_ESFERA_PARTIDARIA         6052 non-null   object \n",
      " 10  SG_UF                        6052 non-null   object \n",
      " 11  CD_MUNICIPIO                 5043 non-null   float64\n",
      " 12  NM_MUNICIPIO                 5043 non-null   object \n",
      " 13  NR_CNPJ_PRESTADOR_CONTA      6052 non-null   int64  \n",
      " 14  NR_PARTIDO                   6052 non-null   int64  \n",
      " 15  SG_PARTIDO                   6052 non-null   object \n",
      " 16  NM_PARTIDO                   6052 non-null   object \n",
      " 17  CD_FONTE_RECEITA             6052 non-null   int64  \n",
      " 18  DS_FONTE_RECEITA             6052 non-null   object \n",
      " 19  CD_ORIGEM_RECEITA            6052 non-null   int64  \n",
      " 20  DS_ORIGEM_RECEITA            6052 non-null   object \n",
      " 21  CD_NATUREZA_RECEITA          6052 non-null   int64  \n",
      " 22  DS_NATUREZA_RECEITA          6052 non-null   object \n",
      " 23  CD_ESPECIE_RECEITA           6052 non-null   int64  \n",
      " 24  DS_ESPECIE_RECEITA           6052 non-null   object \n",
      " 25  CD_CNAE_DOADOR               3033 non-null   float64\n",
      " 26  DS_CNAE_DOADOR               3033 non-null   object \n",
      " 27  NR_CPF_CNPJ_DOADOR           6016 non-null   float64\n",
      " 28  NM_DOADOR                    6016 non-null   object \n",
      " 29  NM_DOADOR_RFB                6016 non-null   object \n",
      " 30  CD_ESFERA_PARTIDARIA_DOADOR  2071 non-null   object \n",
      " 31  DS_ESFERA_PARTIDARIA_DOADOR  2071 non-null   object \n",
      " 32  SG_UF_DOADOR                 3033 non-null   object \n",
      " 33  CD_MUNICIPIO_DOADOR          1092 non-null   float64\n",
      " 34  NM_MUNICIPIO_DOADOR          1092 non-null   object \n",
      " 35  SQ_CANDIDATO_DOADOR          886 non-null    float64\n",
      " 36  NR_CANDIDATO_DOADOR          962 non-null    float64\n",
      " 37  CD_CARGO_CANDIDATO_DOADOR    962 non-null    float64\n",
      " 38  DS_CARGO_CANDIDATO_DOADOR    962 non-null    object \n",
      " 39  NR_PARTIDO_DOADOR            3033 non-null   float64\n",
      " 40  SG_PARTIDO_DOADOR            3033 non-null   object \n",
      " 41  NM_PARTIDO_DOADOR            3033 non-null   object \n",
      " 42  NR_RECIBO_DOACAO             5623 non-null   object \n",
      " 43  NR_DOCUMENTO_DOACAO          3924 non-null   object \n",
      " 44  SQ_RECEITA                   6052 non-null   int64  \n",
      " 45  DT_RECEITA                   6052 non-null   object \n",
      " 46  DS_RECEITA                   1933 non-null   object \n",
      " 47  VR_RECEITA                   6052 non-null   object \n",
      "dtypes: float64(8), int64(10), object(30)\n",
      "memory usage: 2.2+ MB\n"
     ]
    }
   ],
   "source": [
    "df = pd.read_csv('../base_dados/receitas_orgaos_partidarios_2020_NORTE.csv',sep=';')\n",
    "\n",
    "df.info()"
   ]
  },
  {
   "cell_type": "code",
   "execution_count": 108,
   "id": "a81ccab4",
   "metadata": {},
   "outputs": [
    {
     "name": "stdout",
     "output_type": "stream",
     "text": [
      "<class 'pandas.core.frame.DataFrame'>\n",
      "RangeIndex: 6052 entries, 0 to 6051\n",
      "Data columns (total 48 columns):\n",
      " #   Column                       Non-Null Count  Dtype  \n",
      "---  ------                       --------------  -----  \n",
      " 0   DT_GERACAO                   6052 non-null   object \n",
      " 1   HH_GERACAO                   6052 non-null   object \n",
      " 2   ANO_ELEICAO                  6052 non-null   int64  \n",
      " 3   CD_TIPO_ELEICAO              6052 non-null   int64  \n",
      " 4   NM_TIPO_ELEICAO              6052 non-null   object \n",
      " 5   TP_PRESTACAO_CONTAS          6052 non-null   object \n",
      " 6   DT_PRESTACAO_CONTAS          6052 non-null   object \n",
      " 7   SQ_PRESTADOR_CONTAS          6052 non-null   int64  \n",
      " 8   CD_ESFERA_PARTIDARIA         6052 non-null   object \n",
      " 9   DS_ESFERA_PARTIDARIA         6052 non-null   object \n",
      " 10  SG_UF                        6052 non-null   object \n",
      " 11  CD_MUNICIPIO                 5043 non-null   float64\n",
      " 12  NM_MUNICIPIO                 5043 non-null   object \n",
      " 13  NR_CNPJ_PRESTADOR_CONTA      6052 non-null   int64  \n",
      " 14  NR_PARTIDO                   6052 non-null   int64  \n",
      " 15  SG_PARTIDO                   6052 non-null   object \n",
      " 16  NM_PARTIDO                   6052 non-null   object \n",
      " 17  CD_FONTE_RECEITA             6052 non-null   int64  \n",
      " 18  DS_FONTE_RECEITA             6052 non-null   object \n",
      " 19  CD_ORIGEM_RECEITA            6052 non-null   int64  \n",
      " 20  DS_ORIGEM_RECEITA            6052 non-null   object \n",
      " 21  CD_NATUREZA_RECEITA          6052 non-null   int64  \n",
      " 22  DS_NATUREZA_RECEITA          6052 non-null   object \n",
      " 23  CD_ESPECIE_RECEITA           6052 non-null   int64  \n",
      " 24  DS_ESPECIE_RECEITA           6052 non-null   object \n",
      " 25  CD_CNAE_DOADOR               3033 non-null   float64\n",
      " 26  DS_CNAE_DOADOR               3033 non-null   object \n",
      " 27  NR_CPF_CNPJ_DOADOR           6016 non-null   float64\n",
      " 28  NM_DOADOR                    6016 non-null   object \n",
      " 29  NM_DOADOR_RFB                6016 non-null   object \n",
      " 30  CD_ESFERA_PARTIDARIA_DOADOR  2071 non-null   object \n",
      " 31  DS_ESFERA_PARTIDARIA_DOADOR  2071 non-null   object \n",
      " 32  SG_UF_DOADOR                 3033 non-null   object \n",
      " 33  CD_MUNICIPIO_DOADOR          1092 non-null   float64\n",
      " 34  NM_MUNICIPIO_DOADOR          1092 non-null   object \n",
      " 35  SQ_CANDIDATO_DOADOR          886 non-null    float64\n",
      " 36  NR_CANDIDATO_DOADOR          962 non-null    float64\n",
      " 37  CD_CARGO_CANDIDATO_DOADOR    962 non-null    float64\n",
      " 38  DS_CARGO_CANDIDATO_DOADOR    962 non-null    object \n",
      " 39  NR_PARTIDO_DOADOR            3033 non-null   float64\n",
      " 40  SG_PARTIDO_DOADOR            3033 non-null   object \n",
      " 41  NM_PARTIDO_DOADOR            3033 non-null   object \n",
      " 42  NR_RECIBO_DOACAO             5623 non-null   object \n",
      " 43  NR_DOCUMENTO_DOACAO          3924 non-null   object \n",
      " 44  SQ_RECEITA                   6052 non-null   int64  \n",
      " 45  DT_RECEITA                   6052 non-null   object \n",
      " 46  DS_RECEITA                   1933 non-null   object \n",
      " 47  VR_RECEITA                   6052 non-null   object \n",
      "dtypes: float64(8), int64(10), object(30)\n",
      "memory usage: 2.2+ MB\n"
     ]
    }
   ],
   "source": [
    "df = pd.read_csv('../base_dados/receitas_orgaos_partidarios_2020_NORTE.csv',sep=';',na_values='#NULO#')\n",
    "\n",
    "df.info()"
   ]
  },
  {
   "attachments": {},
   "cell_type": "markdown",
   "id": "aec7cfce",
   "metadata": {},
   "source": [
    "# Filtre apenas os registros que sejam da prestação de contas final\n"
   ]
  },
  {
   "cell_type": "code",
   "execution_count": 109,
   "id": "110f8562",
   "metadata": {},
   "outputs": [
    {
     "data": {
      "text/plain": [
       "array(['Final', 'Parcial', 'Relatório Financeiro',\n",
       "       'Regularização da Omissão'], dtype=object)"
      ]
     },
     "execution_count": 109,
     "metadata": {},
     "output_type": "execute_result"
    }
   ],
   "source": [
    "# Primeiro vamos ver os valores únicos da coluna TP_PRESTACAO_CONTAS\n",
    "\n",
    "df['TP_PRESTACAO_CONTAS'].unique()"
   ]
  },
  {
   "cell_type": "code",
   "execution_count": 110,
   "id": "60f1ce27",
   "metadata": {},
   "outputs": [
    {
     "data": {
      "text/plain": [
       "(6052, 48)"
      ]
     },
     "execution_count": 110,
     "metadata": {},
     "output_type": "execute_result"
    }
   ],
   "source": [
    "# O resultado deste comando nos diz que quantas linhas e colunas temos antes do filtro\n",
    "df.shape"
   ]
  },
  {
   "cell_type": "code",
   "execution_count": 111,
   "id": "145c639e",
   "metadata": {},
   "outputs": [],
   "source": [
    "# Preencha o campo os espaços abaixo com o nome da coluna e o valor desejado para nosso filtro\n",
    "df_final = df[df['TP_PRESTACAO_CONTAS'] == 'Final'].copy()"
   ]
  },
  {
   "cell_type": "code",
   "execution_count": 112,
   "id": "947b303c",
   "metadata": {},
   "outputs": [
    {
     "data": {
      "text/plain": [
       "(5912, 48)"
      ]
     },
     "execution_count": 112,
     "metadata": {},
     "output_type": "execute_result"
    }
   ],
   "source": [
    "# Rode o comando shape no novo dataframe criado e confira se o número de linhas foi reduzido\n",
    "\n",
    "df_final.shape"
   ]
  },
  {
   "attachments": {},
   "cell_type": "markdown",
   "id": "4fbec4e0",
   "metadata": {},
   "source": [
    "## Qual foi a maior doação de pessoa física e pessoa jurídica em cada estado?\n",
    "\n",
    "Vamos usar o método `value_counts` para não só listar cada valor único da coluna `CD_CNAE_DOADOR`, como também mostrar quantos registros temos em cada um."
   ]
  },
  {
   "cell_type": "code",
   "execution_count": 120,
   "id": "df59e78a",
   "metadata": {},
   "outputs": [
    {
     "data": {
      "text/plain": [
       "TIPO_DOADOR\n",
       " 94928.0    2957\n",
       "-1.0        2951\n",
       " 47814.0       2\n",
       " 59120.0       1\n",
       " 85996.0       1\n",
       "Name: count, dtype: int64"
      ]
     },
     "execution_count": 120,
     "metadata": {},
     "output_type": "execute_result"
    }
   ],
   "source": [
    "# Preencha o nome da coluna abaixo\n",
    "\n",
    "# Substituindo os vazios por -1\n",
    "df_final['CD_CNAE_DOADOR'] = df_final.loc[:,'CD_CNAE_DOADOR'].replace(np.nan,-1)\n",
    "df_final['TIPO_DOADOR'] = df_final.loc[:,'CD_CNAE_DOADOR']\n",
    "\n",
    "# Contando cada tipo de doador\n",
    "df_final['TIPO_DOADOR'].value_counts()"
   ]
  },
  {
   "cell_type": "code",
   "execution_count": 121,
   "id": "093485ce",
   "metadata": {},
   "outputs": [
    {
     "data": {
      "text/plain": [
       "TIPO_DOADOR\n",
       " 94928.0    0.500169\n",
       "-1.0        0.499154\n",
       " 47814.0    0.000338\n",
       " 59120.0    0.000169\n",
       " 85996.0    0.000169\n",
       "Name: proportion, dtype: float64"
      ]
     },
     "execution_count": 121,
     "metadata": {},
     "output_type": "execute_result"
    }
   ],
   "source": [
    "# Para ver os resultados em percentuais é fácil! Basta falarmos para o value_counts que queremos os resultados normalizados\n",
    "\n",
    "df_final['TIPO_DOADOR'].value_counts(normalize=True)"
   ]
  },
  {
   "attachments": {},
   "cell_type": "markdown",
   "id": "623a777d",
   "metadata": {},
   "source": [
    "Se o doador for pessoa jurídica, temos seu respectivo código CNAE. Se for pessoa física, então temos o valor `-1`. \n",
    "\n",
    "Qual conclusão podemos tirar a respeito dos comandos acima?\n",
    "\n",
    "Escreva um **comentário** na célula abaixo com a resposta."
   ]
  },
  {
   "cell_type": "code",
   "execution_count": 122,
   "id": "ddf6f70e",
   "metadata": {},
   "outputs": [],
   "source": [
    "# A quantidade de doações por pessoas físicas é quase igual, porém menor, que a quantidade de doações por pessao jurídica"
   ]
  },
  {
   "attachments": {},
   "cell_type": "markdown",
   "id": "40404b7d",
   "metadata": {},
   "source": [
    "Agora, vamos duplicar a coluna `CD_CNAE_DOADOR` e deixar esta nova coluna apenas com 2 categorias: física (representada pelo valor -1) ou jurídica (que vamos representar inicialmente com 1)."
   ]
  },
  {
   "cell_type": "code",
   "execution_count": 123,
   "id": "e7007008",
   "metadata": {},
   "outputs": [
    {
     "data": {
      "text/plain": [
       "Index(['DT_GERACAO', 'HH_GERACAO', 'ANO_ELEICAO', 'CD_TIPO_ELEICAO',\n",
       "       'NM_TIPO_ELEICAO', 'TP_PRESTACAO_CONTAS', 'DT_PRESTACAO_CONTAS',\n",
       "       'SQ_PRESTADOR_CONTAS', 'CD_ESFERA_PARTIDARIA', 'DS_ESFERA_PARTIDARIA',\n",
       "       'SG_UF', 'CD_MUNICIPIO', 'NM_MUNICIPIO', 'NR_CNPJ_PRESTADOR_CONTA',\n",
       "       'NR_PARTIDO', 'SG_PARTIDO', 'NM_PARTIDO', 'CD_FONTE_RECEITA',\n",
       "       'DS_FONTE_RECEITA', 'CD_ORIGEM_RECEITA', 'DS_ORIGEM_RECEITA',\n",
       "       'CD_NATUREZA_RECEITA', 'DS_NATUREZA_RECEITA', 'CD_ESPECIE_RECEITA',\n",
       "       'DS_ESPECIE_RECEITA', 'CD_CNAE_DOADOR', 'DS_CNAE_DOADOR',\n",
       "       'NR_CPF_CNPJ_DOADOR', 'NM_DOADOR', 'NM_DOADOR_RFB',\n",
       "       'CD_ESFERA_PARTIDARIA_DOADOR', 'DS_ESFERA_PARTIDARIA_DOADOR',\n",
       "       'SG_UF_DOADOR', 'CD_MUNICIPIO_DOADOR', 'NM_MUNICIPIO_DOADOR',\n",
       "       'SQ_CANDIDATO_DOADOR', 'NR_CANDIDATO_DOADOR',\n",
       "       'CD_CARGO_CANDIDATO_DOADOR', 'DS_CARGO_CANDIDATO_DOADOR',\n",
       "       'NR_PARTIDO_DOADOR', 'SG_PARTIDO_DOADOR', 'NM_PARTIDO_DOADOR',\n",
       "       'NR_RECIBO_DOACAO', 'NR_DOCUMENTO_DOACAO', 'SQ_RECEITA', 'DT_RECEITA',\n",
       "       'DS_RECEITA', 'VR_RECEITA', 'TIPO_DOADOR'],\n",
       "      dtype='object')"
      ]
     },
     "execution_count": 123,
     "metadata": {},
     "output_type": "execute_result"
    }
   ],
   "source": [
    "# Vamos criar uma nova coluna que seja uma cópia exata da coluna CD_CNAE_DOADOR\n",
    "df_final.columns\n",
    "# Já foi criada"
   ]
  },
  {
   "attachments": {},
   "cell_type": "markdown",
   "id": "f326c53a",
   "metadata": {},
   "source": [
    "## Substituição condicional (conditional replacing)\n",
    "\n",
    "Agora, vamos usar o método where do pacote NumPy (carinhosamente chamado de np abaixo).\n",
    "\n",
    "Esta função recebe três parâmetros:\n",
    "\n",
    "* Uma condição: no nosso caso, queremos que filtrar as coluna do CNAE onde os valores sejam -1\n",
    "* Um valor: caso a condição acima seja verdadeira, qual valor deverá ser retornado?\n",
    "* Outro valor: se a condição for falsa, então, qual outro valor deverá ser retornado?\n"
   ]
  },
  {
   "cell_type": "code",
   "execution_count": 124,
   "id": "78622d22",
   "metadata": {},
   "outputs": [
    {
     "data": {
      "text/plain": [
       "TIPO_DOADOR\n",
       "juridica    2961\n",
       "fisica      2951\n",
       "Name: count, dtype: int64"
      ]
     },
     "execution_count": 124,
     "metadata": {},
     "output_type": "execute_result"
    }
   ],
   "source": [
    "df_final['TIPO_DOADOR'] = np.where(df_final['TIPO_DOADOR']== -1, 'fisica', 'juridica')\n",
    "df_final['TIPO_DOADOR'].value_counts()"
   ]
  },
  {
   "attachments": {},
   "cell_type": "markdown",
   "id": "47a9b47f",
   "metadata": {},
   "source": [
    "## Agrupando (group by)"
   ]
  },
  {
   "cell_type": "code",
   "execution_count": 128,
   "id": "fdd9b8bb",
   "metadata": {},
   "outputs": [
    {
     "data": {
      "text/html": [
       "<div>\n",
       "<style scoped>\n",
       "    .dataframe tbody tr th:only-of-type {\n",
       "        vertical-align: middle;\n",
       "    }\n",
       "\n",
       "    .dataframe tbody tr th {\n",
       "        vertical-align: top;\n",
       "    }\n",
       "\n",
       "    .dataframe thead th {\n",
       "        text-align: right;\n",
       "    }\n",
       "</style>\n",
       "<table border=\"1\" class=\"dataframe\">\n",
       "  <thead>\n",
       "    <tr style=\"text-align: right;\">\n",
       "      <th></th>\n",
       "      <th></th>\n",
       "      <th>VR_RECEITA</th>\n",
       "    </tr>\n",
       "    <tr>\n",
       "      <th>TIPO_DOADOR</th>\n",
       "      <th>CD_CNAE_DOADOR</th>\n",
       "      <th></th>\n",
       "    </tr>\n",
       "  </thead>\n",
       "  <tbody>\n",
       "    <tr>\n",
       "      <th>fisica</th>\n",
       "      <th>-1.0</th>\n",
       "      <td>995,94</td>\n",
       "    </tr>\n",
       "    <tr>\n",
       "      <th rowspan=\"4\" valign=\"top\">juridica</th>\n",
       "      <th>47814.0</th>\n",
       "      <td>19000,00</td>\n",
       "    </tr>\n",
       "    <tr>\n",
       "      <th>59120.0</th>\n",
       "      <td>5,25</td>\n",
       "    </tr>\n",
       "    <tr>\n",
       "      <th>85996.0</th>\n",
       "      <td>22700,00</td>\n",
       "    </tr>\n",
       "    <tr>\n",
       "      <th>94928.0</th>\n",
       "      <td>99,30</td>\n",
       "    </tr>\n",
       "  </tbody>\n",
       "</table>\n",
       "</div>"
      ],
      "text/plain": [
       "                           VR_RECEITA\n",
       "TIPO_DOADOR CD_CNAE_DOADOR           \n",
       "fisica      -1.0               995,94\n",
       "juridica     47814.0         19000,00\n",
       "             59120.0             5,25\n",
       "             85996.0         22700,00\n",
       "             94928.0            99,30"
      ]
     },
     "execution_count": 128,
     "metadata": {},
     "output_type": "execute_result"
    }
   ],
   "source": [
    "# Preencha abaixo primeiro uma lista com as 3 colunas que precisamos utilizar para responder à pergunta. E depois o nome das 2 colunas que precisamos agrupar.\n",
    "\n",
    "df_final[['CD_CNAE_DOADOR','TIPO_DOADOR','VR_RECEITA']].groupby(by=['TIPO_DOADOR','CD_CNAE_DOADOR']).max()"
   ]
  },
  {
   "cell_type": "code",
   "execution_count": 130,
   "id": "95e8e533",
   "metadata": {},
   "outputs": [
    {
     "data": {
      "text/html": [
       "<div>\n",
       "<style scoped>\n",
       "    .dataframe tbody tr th:only-of-type {\n",
       "        vertical-align: middle;\n",
       "    }\n",
       "\n",
       "    .dataframe tbody tr th {\n",
       "        vertical-align: top;\n",
       "    }\n",
       "\n",
       "    .dataframe thead th {\n",
       "        text-align: right;\n",
       "    }\n",
       "</style>\n",
       "<table border=\"1\" class=\"dataframe\">\n",
       "  <thead>\n",
       "    <tr style=\"text-align: right;\">\n",
       "      <th></th>\n",
       "      <th>TIPO_DOADOR</th>\n",
       "      <th>CD_CNAE_DOADOR</th>\n",
       "      <th>VR_RECEITA</th>\n",
       "    </tr>\n",
       "  </thead>\n",
       "  <tbody>\n",
       "    <tr>\n",
       "      <th>0</th>\n",
       "      <td>fisica</td>\n",
       "      <td>-1.0</td>\n",
       "      <td>995,94</td>\n",
       "    </tr>\n",
       "    <tr>\n",
       "      <th>1</th>\n",
       "      <td>juridica</td>\n",
       "      <td>47814.0</td>\n",
       "      <td>19000,00</td>\n",
       "    </tr>\n",
       "    <tr>\n",
       "      <th>2</th>\n",
       "      <td>juridica</td>\n",
       "      <td>59120.0</td>\n",
       "      <td>5,25</td>\n",
       "    </tr>\n",
       "    <tr>\n",
       "      <th>3</th>\n",
       "      <td>juridica</td>\n",
       "      <td>85996.0</td>\n",
       "      <td>22700,00</td>\n",
       "    </tr>\n",
       "    <tr>\n",
       "      <th>4</th>\n",
       "      <td>juridica</td>\n",
       "      <td>94928.0</td>\n",
       "      <td>99,30</td>\n",
       "    </tr>\n",
       "  </tbody>\n",
       "</table>\n",
       "</div>"
      ],
      "text/plain": [
       "  TIPO_DOADOR  CD_CNAE_DOADOR VR_RECEITA\n",
       "0      fisica            -1.0     995,94\n",
       "1    juridica         47814.0   19000,00\n",
       "2    juridica         59120.0       5,25\n",
       "3    juridica         85996.0   22700,00\n",
       "4    juridica         94928.0      99,30"
      ]
     },
     "execution_count": 130,
     "metadata": {},
     "output_type": "execute_result"
    }
   ],
   "source": [
    "# Para repetir o valor da coluna TIPO_DOADOR nas linhas, coloque o parâmetro as_index=False no método groupby do comando acima\n",
    "\n",
    "df_final[['CD_CNAE_DOADOR','TIPO_DOADOR','VR_RECEITA']].groupby(by=['TIPO_DOADOR','CD_CNAE_DOADOR'],as_index=False).max()"
   ]
  },
  {
   "attachments": {},
   "cell_type": "markdown",
   "id": "63d35bb6",
   "metadata": {},
   "source": [
    "## Qual o total de doações recebidas por partido?"
   ]
  },
  {
   "cell_type": "code",
   "execution_count": 131,
   "id": "b24a3736",
   "metadata": {},
   "outputs": [
    {
     "data": {
      "text/html": [
       "<div>\n",
       "<style scoped>\n",
       "    .dataframe tbody tr th:only-of-type {\n",
       "        vertical-align: middle;\n",
       "    }\n",
       "\n",
       "    .dataframe tbody tr th {\n",
       "        vertical-align: top;\n",
       "    }\n",
       "\n",
       "    .dataframe thead th {\n",
       "        text-align: right;\n",
       "    }\n",
       "</style>\n",
       "<table border=\"1\" class=\"dataframe\">\n",
       "  <thead>\n",
       "    <tr style=\"text-align: right;\">\n",
       "      <th></th>\n",
       "      <th>VR_RECEITA</th>\n",
       "    </tr>\n",
       "    <tr>\n",
       "      <th>NM_PARTIDO</th>\n",
       "      <th></th>\n",
       "    </tr>\n",
       "  </thead>\n",
       "  <tbody>\n",
       "    <tr>\n",
       "      <th>AVANTE</th>\n",
       "      <td>498726.86</td>\n",
       "    </tr>\n",
       "    <tr>\n",
       "      <th>Cidadania</th>\n",
       "      <td>2219623.58</td>\n",
       "    </tr>\n",
       "    <tr>\n",
       "      <th>Democracia Cristã</th>\n",
       "      <td>579762.02</td>\n",
       "    </tr>\n",
       "    <tr>\n",
       "      <th>Democratas</th>\n",
       "      <td>2436863.08</td>\n",
       "    </tr>\n",
       "    <tr>\n",
       "      <th>Movimento Democrático Brasileiro</th>\n",
       "      <td>26787221.17</td>\n",
       "    </tr>\n",
       "    <tr>\n",
       "      <th>PROGRESSISTAS</th>\n",
       "      <td>21131024.67</td>\n",
       "    </tr>\n",
       "    <tr>\n",
       "      <th>Partido Comunista Brasileiro</th>\n",
       "      <td>5957.40</td>\n",
       "    </tr>\n",
       "    <tr>\n",
       "      <th>Partido Comunista do Brasil</th>\n",
       "      <td>828417.19</td>\n",
       "    </tr>\n",
       "    <tr>\n",
       "      <th>Partido Democrático Trabalhista</th>\n",
       "      <td>4233608.09</td>\n",
       "    </tr>\n",
       "    <tr>\n",
       "      <th>Partido Liberal</th>\n",
       "      <td>1155281.57</td>\n",
       "    </tr>\n",
       "    <tr>\n",
       "      <th>Partido Novo</th>\n",
       "      <td>23857.14</td>\n",
       "    </tr>\n",
       "    <tr>\n",
       "      <th>Partido Renovador Trabalhista Brasileiro</th>\n",
       "      <td>149812.03</td>\n",
       "    </tr>\n",
       "    <tr>\n",
       "      <th>Partido Republicano da Ordem Social</th>\n",
       "      <td>3186342.45</td>\n",
       "    </tr>\n",
       "    <tr>\n",
       "      <th>Partido Social Cristão</th>\n",
       "      <td>762219.20</td>\n",
       "    </tr>\n",
       "    <tr>\n",
       "      <th>Partido Social Democrático</th>\n",
       "      <td>44622192.18</td>\n",
       "    </tr>\n",
       "    <tr>\n",
       "      <th>Partido Social Liberal</th>\n",
       "      <td>14133814.44</td>\n",
       "    </tr>\n",
       "    <tr>\n",
       "      <th>Partido Socialismo e Liberdade</th>\n",
       "      <td>7426889.30</td>\n",
       "    </tr>\n",
       "    <tr>\n",
       "      <th>Partido Socialista Brasileiro</th>\n",
       "      <td>7195707.60</td>\n",
       "    </tr>\n",
       "    <tr>\n",
       "      <th>Partido Trabalhista Brasileiro</th>\n",
       "      <td>6212684.87</td>\n",
       "    </tr>\n",
       "    <tr>\n",
       "      <th>Partido Trabalhista Cristão</th>\n",
       "      <td>621471.86</td>\n",
       "    </tr>\n",
       "    <tr>\n",
       "      <th>Partido Verde</th>\n",
       "      <td>4670590.87</td>\n",
       "    </tr>\n",
       "    <tr>\n",
       "      <th>Partido da Mobilização Nacional</th>\n",
       "      <td>6161.18</td>\n",
       "    </tr>\n",
       "    <tr>\n",
       "      <th>Partido da Mulher Brasileira</th>\n",
       "      <td>255200.00</td>\n",
       "    </tr>\n",
       "    <tr>\n",
       "      <th>Partido da Social Democracia Brasileira</th>\n",
       "      <td>4703298.45</td>\n",
       "    </tr>\n",
       "    <tr>\n",
       "      <th>Partido dos Trabalhadores</th>\n",
       "      <td>11252216.64</td>\n",
       "    </tr>\n",
       "    <tr>\n",
       "      <th>Patriota</th>\n",
       "      <td>2251979.23</td>\n",
       "    </tr>\n",
       "    <tr>\n",
       "      <th>Podemos</th>\n",
       "      <td>10923235.59</td>\n",
       "    </tr>\n",
       "    <tr>\n",
       "      <th>REPUBLICANOS</th>\n",
       "      <td>9731257.47</td>\n",
       "    </tr>\n",
       "    <tr>\n",
       "      <th>Rede Sustentabilidade</th>\n",
       "      <td>10416744.67</td>\n",
       "    </tr>\n",
       "    <tr>\n",
       "      <th>Solidariedade</th>\n",
       "      <td>10855671.17</td>\n",
       "    </tr>\n",
       "    <tr>\n",
       "      <th>Unidade Popular</th>\n",
       "      <td>15200.00</td>\n",
       "    </tr>\n",
       "  </tbody>\n",
       "</table>\n",
       "</div>"
      ],
      "text/plain": [
       "                                           VR_RECEITA\n",
       "NM_PARTIDO                                           \n",
       "AVANTE                                      498726.86\n",
       "Cidadania                                  2219623.58\n",
       "Democracia Cristã                           579762.02\n",
       "Democratas                                 2436863.08\n",
       "Movimento Democrático Brasileiro          26787221.17\n",
       "PROGRESSISTAS                             21131024.67\n",
       "Partido Comunista Brasileiro                  5957.40\n",
       "Partido Comunista do Brasil                 828417.19\n",
       "Partido Democrático Trabalhista            4233608.09\n",
       "Partido Liberal                            1155281.57\n",
       "Partido Novo                                 23857.14\n",
       "Partido Renovador Trabalhista Brasileiro    149812.03\n",
       "Partido Republicano da Ordem Social        3186342.45\n",
       "Partido Social Cristão                      762219.20\n",
       "Partido Social Democrático                44622192.18\n",
       "Partido Social Liberal                    14133814.44\n",
       "Partido Socialismo e Liberdade             7426889.30\n",
       "Partido Socialista Brasileiro              7195707.60\n",
       "Partido Trabalhista Brasileiro             6212684.87\n",
       "Partido Trabalhista Cristão                 621471.86\n",
       "Partido Verde                              4670590.87\n",
       "Partido da Mobilização Nacional               6161.18\n",
       "Partido da Mulher Brasileira                255200.00\n",
       "Partido da Social Democracia Brasileira    4703298.45\n",
       "Partido dos Trabalhadores                 11252216.64\n",
       "Patriota                                   2251979.23\n",
       "Podemos                                   10923235.59\n",
       "REPUBLICANOS                               9731257.47\n",
       "Rede Sustentabilidade                     10416744.67\n",
       "Solidariedade                             10855671.17\n",
       "Unidade Popular                              15200.00"
      ]
     },
     "execution_count": 131,
     "metadata": {},
     "output_type": "execute_result"
    }
   ],
   "source": [
    "df_final['VR_RECEITA'] = df_final['VR_RECEITA'].apply(lambda x : x.replace(',','.'))\n",
    "df_final['VR_RECEITA'] = df_final['VR_RECEITA'].apply(pd.to_numeric)\n",
    "df_final[['NM_PARTIDO','VR_RECEITA']].groupby(by='NM_PARTIDO').sum()"
   ]
  },
  {
   "attachments": {},
   "cell_type": "markdown",
   "id": "c5d33b84",
   "metadata": {},
   "source": [
    "## Qual é o top 10?\n",
    "\n",
    "Crie um novo dataframe com os 10 partidos com mais doações. Você precisa primeiro ordenar os resultados e depois selecionar apenas os 10 primeiros.\n",
    "\n"
   ]
  },
  {
   "cell_type": "code",
   "execution_count": 133,
   "id": "8144f9e5",
   "metadata": {},
   "outputs": [
    {
     "data": {
      "text/html": [
       "<div>\n",
       "<style scoped>\n",
       "    .dataframe tbody tr th:only-of-type {\n",
       "        vertical-align: middle;\n",
       "    }\n",
       "\n",
       "    .dataframe tbody tr th {\n",
       "        vertical-align: top;\n",
       "    }\n",
       "\n",
       "    .dataframe thead th {\n",
       "        text-align: right;\n",
       "    }\n",
       "</style>\n",
       "<table border=\"1\" class=\"dataframe\">\n",
       "  <thead>\n",
       "    <tr style=\"text-align: right;\">\n",
       "      <th></th>\n",
       "      <th>VR_RECEITA</th>\n",
       "    </tr>\n",
       "    <tr>\n",
       "      <th>NM_PARTIDO</th>\n",
       "      <th></th>\n",
       "    </tr>\n",
       "  </thead>\n",
       "  <tbody>\n",
       "    <tr>\n",
       "      <th>Partido Social Democrático</th>\n",
       "      <td>44622192.18</td>\n",
       "    </tr>\n",
       "    <tr>\n",
       "      <th>Movimento Democrático Brasileiro</th>\n",
       "      <td>26787221.17</td>\n",
       "    </tr>\n",
       "    <tr>\n",
       "      <th>PROGRESSISTAS</th>\n",
       "      <td>21131024.67</td>\n",
       "    </tr>\n",
       "    <tr>\n",
       "      <th>Partido Social Liberal</th>\n",
       "      <td>14133814.44</td>\n",
       "    </tr>\n",
       "    <tr>\n",
       "      <th>Partido dos Trabalhadores</th>\n",
       "      <td>11252216.64</td>\n",
       "    </tr>\n",
       "    <tr>\n",
       "      <th>Podemos</th>\n",
       "      <td>10923235.59</td>\n",
       "    </tr>\n",
       "    <tr>\n",
       "      <th>Solidariedade</th>\n",
       "      <td>10855671.17</td>\n",
       "    </tr>\n",
       "    <tr>\n",
       "      <th>Rede Sustentabilidade</th>\n",
       "      <td>10416744.67</td>\n",
       "    </tr>\n",
       "    <tr>\n",
       "      <th>REPUBLICANOS</th>\n",
       "      <td>9731257.47</td>\n",
       "    </tr>\n",
       "    <tr>\n",
       "      <th>Partido Socialismo e Liberdade</th>\n",
       "      <td>7426889.30</td>\n",
       "    </tr>\n",
       "  </tbody>\n",
       "</table>\n",
       "</div>"
      ],
      "text/plain": [
       "                                   VR_RECEITA\n",
       "NM_PARTIDO                                   \n",
       "Partido Social Democrático        44622192.18\n",
       "Movimento Democrático Brasileiro  26787221.17\n",
       "PROGRESSISTAS                     21131024.67\n",
       "Partido Social Liberal            14133814.44\n",
       "Partido dos Trabalhadores         11252216.64\n",
       "Podemos                           10923235.59\n",
       "Solidariedade                     10855671.17\n",
       "Rede Sustentabilidade             10416744.67\n",
       "REPUBLICANOS                       9731257.47\n",
       "Partido Socialismo e Liberdade     7426889.30"
      ]
     },
     "execution_count": 133,
     "metadata": {},
     "output_type": "execute_result"
    }
   ],
   "source": [
    "df_final[['VR_RECEITA','NM_PARTIDO']].groupby(by='NM_PARTIDO').sum().sort_values(by='VR_RECEITA',ascending=False).head(10)"
   ]
  },
  {
   "attachments": {},
   "cell_type": "markdown",
   "id": "0ca424ec",
   "metadata": {},
   "source": [
    "# Vamos visualizar os resultados?\n",
    "Na aula, nós vimos como usar o matplotlib para gerar gráficos. Agora, vamos descobrir uma nova forma de fazer o mesmo usando um método nativo Pandas. Experimente colocar `.plot(kind='barh')` após a consulta ou dataframe anterior.\n",
    "\n",
    "Com este comando, podemos produzir um gráfico (plot) do tipo (kind) de barras horizontais (barh)."
   ]
  },
  {
   "cell_type": "code",
   "execution_count": 134,
   "id": "db7c17b2",
   "metadata": {},
   "outputs": [
    {
     "data": {
      "text/plain": [
       "<Axes: ylabel='NM_PARTIDO'>"
      ]
     },
     "execution_count": 134,
     "metadata": {},
     "output_type": "execute_result"
    },
    {
     "data": {
      "image/png": "[encoded data removed]",
      "text/plain": [
       "<Figure size 640x480 with 1 Axes>"
      ]
     },
     "metadata": {},
     "output_type": "display_data"
    }
   ],
   "source": [
    "df_final[['VR_RECEITA','NM_PARTIDO']].groupby(by='NM_PARTIDO').sum().sort_values(by='VR_RECEITA',ascending=False).head(10).plot(kind='barh')"
   ]
  },
  {
   "attachments": {},
   "cell_type": "markdown",
   "id": "1eef3d90",
   "metadata": {},
   "source": [
    "## Qual o valor médio das doações por tipo de doador?\n",
    "\n",
    "Agora é sua vez! A partir dos comandos anteriores, faça uma nova consulta para descobrir a mediana de acordo com o tipo de doador."
   ]
  },
  {
   "cell_type": "code",
   "execution_count": 142,
   "id": "e0385ed3",
   "metadata": {},
   "outputs": [
    {
     "data": {
      "text/html": [
       "<div>\n",
       "<style scoped>\n",
       "    .dataframe tbody tr th:only-of-type {\n",
       "        vertical-align: middle;\n",
       "    }\n",
       "\n",
       "    .dataframe tbody tr th {\n",
       "        vertical-align: top;\n",
       "    }\n",
       "\n",
       "    .dataframe thead th {\n",
       "        text-align: right;\n",
       "    }\n",
       "</style>\n",
       "<table border=\"1\" class=\"dataframe\">\n",
       "  <thead>\n",
       "    <tr style=\"text-align: right;\">\n",
       "      <th></th>\n",
       "      <th>TIPO_DOADOR</th>\n",
       "      <th>CD_CNAE_DOADOR</th>\n",
       "      <th>VR_RECEITA</th>\n",
       "    </tr>\n",
       "  </thead>\n",
       "  <tbody>\n",
       "    <tr>\n",
       "      <th>0</th>\n",
       "      <td>fisica</td>\n",
       "      <td>-1.0</td>\n",
       "      <td>800.00</td>\n",
       "    </tr>\n",
       "    <tr>\n",
       "      <th>1</th>\n",
       "      <td>juridica</td>\n",
       "      <td>47814.0</td>\n",
       "      <td>17900.00</td>\n",
       "    </tr>\n",
       "    <tr>\n",
       "      <th>2</th>\n",
       "      <td>juridica</td>\n",
       "      <td>59120.0</td>\n",
       "      <td>5.25</td>\n",
       "    </tr>\n",
       "    <tr>\n",
       "      <th>3</th>\n",
       "      <td>juridica</td>\n",
       "      <td>85996.0</td>\n",
       "      <td>22700.00</td>\n",
       "    </tr>\n",
       "    <tr>\n",
       "      <th>4</th>\n",
       "      <td>juridica</td>\n",
       "      <td>94928.0</td>\n",
       "      <td>2000.00</td>\n",
       "    </tr>\n",
       "  </tbody>\n",
       "</table>\n",
       "</div>"
      ],
      "text/plain": [
       "  TIPO_DOADOR  CD_CNAE_DOADOR  VR_RECEITA\n",
       "0      fisica            -1.0      800.00\n",
       "1    juridica         47814.0    17900.00\n",
       "2    juridica         59120.0        5.25\n",
       "3    juridica         85996.0    22700.00\n",
       "4    juridica         94928.0     2000.00"
      ]
     },
     "execution_count": 142,
     "metadata": {},
     "output_type": "execute_result"
    }
   ],
   "source": [
    "df_final[['CD_CNAE_DOADOR','TIPO_DOADOR','VR_RECEITA']].groupby(by=['TIPO_DOADOR','CD_CNAE_DOADOR'],as_index=False).median()"
   ]
  },
  {
   "attachments": {},
   "cell_type": "markdown",
   "id": "6e4ae02a",
   "metadata": {},
   "source": [
    "## Qual o valor mais alto de doação por tipo de doador?"
   ]
  },
  {
   "cell_type": "code",
   "execution_count": 143,
   "id": "a4530329",
   "metadata": {},
   "outputs": [
    {
     "data": {
      "text/html": [
       "<div>\n",
       "<style scoped>\n",
       "    .dataframe tbody tr th:only-of-type {\n",
       "        vertical-align: middle;\n",
       "    }\n",
       "\n",
       "    .dataframe tbody tr th {\n",
       "        vertical-align: top;\n",
       "    }\n",
       "\n",
       "    .dataframe thead th {\n",
       "        text-align: right;\n",
       "    }\n",
       "</style>\n",
       "<table border=\"1\" class=\"dataframe\">\n",
       "  <thead>\n",
       "    <tr style=\"text-align: right;\">\n",
       "      <th></th>\n",
       "      <th>TIPO_DOADOR</th>\n",
       "      <th>CD_CNAE_DOADOR</th>\n",
       "      <th>VR_RECEITA</th>\n",
       "    </tr>\n",
       "  </thead>\n",
       "  <tbody>\n",
       "    <tr>\n",
       "      <th>0</th>\n",
       "      <td>fisica</td>\n",
       "      <td>-1.0</td>\n",
       "      <td>200000.00</td>\n",
       "    </tr>\n",
       "    <tr>\n",
       "      <th>1</th>\n",
       "      <td>juridica</td>\n",
       "      <td>47814.0</td>\n",
       "      <td>19000.00</td>\n",
       "    </tr>\n",
       "    <tr>\n",
       "      <th>2</th>\n",
       "      <td>juridica</td>\n",
       "      <td>59120.0</td>\n",
       "      <td>5.25</td>\n",
       "    </tr>\n",
       "    <tr>\n",
       "      <th>3</th>\n",
       "      <td>juridica</td>\n",
       "      <td>85996.0</td>\n",
       "      <td>22700.00</td>\n",
       "    </tr>\n",
       "    <tr>\n",
       "      <th>4</th>\n",
       "      <td>juridica</td>\n",
       "      <td>94928.0</td>\n",
       "      <td>6900000.00</td>\n",
       "    </tr>\n",
       "  </tbody>\n",
       "</table>\n",
       "</div>"
      ],
      "text/plain": [
       "  TIPO_DOADOR  CD_CNAE_DOADOR  VR_RECEITA\n",
       "0      fisica            -1.0   200000.00\n",
       "1    juridica         47814.0    19000.00\n",
       "2    juridica         59120.0        5.25\n",
       "3    juridica         85996.0    22700.00\n",
       "4    juridica         94928.0  6900000.00"
      ]
     },
     "execution_count": 143,
     "metadata": {},
     "output_type": "execute_result"
    }
   ],
   "source": [
    "df_final[['CD_CNAE_DOADOR','TIPO_DOADOR','VR_RECEITA']].groupby(by=['TIPO_DOADOR','CD_CNAE_DOADOR'],as_index=False).max()"
   ]
  },
  {
   "attachments": {},
   "cell_type": "markdown",
   "id": "6c0e02b3",
   "metadata": {},
   "source": [
    "## Crie uma tabela com valor máximo, mínimo e a mediana, por estado e tipo de doador"
   ]
  },
  {
   "cell_type": "code",
   "execution_count": 156,
   "id": "766c9df8",
   "metadata": {},
   "outputs": [
    {
     "data": {
      "text/html": [
       "<div>\n",
       "<style scoped>\n",
       "    .dataframe tbody tr th:only-of-type {\n",
       "        vertical-align: middle;\n",
       "    }\n",
       "\n",
       "    .dataframe tbody tr th {\n",
       "        vertical-align: top;\n",
       "    }\n",
       "\n",
       "    .dataframe thead tr th {\n",
       "        text-align: left;\n",
       "    }\n",
       "</style>\n",
       "<table border=\"1\" class=\"dataframe\">\n",
       "  <thead>\n",
       "    <tr>\n",
       "      <th></th>\n",
       "      <th>TIPO_DOADOR</th>\n",
       "      <th>SG_UF</th>\n",
       "      <th colspan=\"2\" halign=\"left\">VR_RECEITA</th>\n",
       "    </tr>\n",
       "    <tr>\n",
       "      <th></th>\n",
       "      <th></th>\n",
       "      <th></th>\n",
       "      <th>min</th>\n",
       "      <th>max</th>\n",
       "    </tr>\n",
       "  </thead>\n",
       "  <tbody>\n",
       "    <tr>\n",
       "      <th>0</th>\n",
       "      <td>fisica</td>\n",
       "      <td>AC</td>\n",
       "      <td>4.80</td>\n",
       "      <td>40560.0</td>\n",
       "    </tr>\n",
       "    <tr>\n",
       "      <th>1</th>\n",
       "      <td>fisica</td>\n",
       "      <td>AM</td>\n",
       "      <td>2.00</td>\n",
       "      <td>35000.0</td>\n",
       "    </tr>\n",
       "    <tr>\n",
       "      <th>2</th>\n",
       "      <td>fisica</td>\n",
       "      <td>AP</td>\n",
       "      <td>49.88</td>\n",
       "      <td>12000.0</td>\n",
       "    </tr>\n",
       "    <tr>\n",
       "      <th>3</th>\n",
       "      <td>fisica</td>\n",
       "      <td>PA</td>\n",
       "      <td>0.10</td>\n",
       "      <td>200000.0</td>\n",
       "    </tr>\n",
       "    <tr>\n",
       "      <th>4</th>\n",
       "      <td>fisica</td>\n",
       "      <td>RO</td>\n",
       "      <td>1.20</td>\n",
       "      <td>110000.0</td>\n",
       "    </tr>\n",
       "    <tr>\n",
       "      <th>5</th>\n",
       "      <td>fisica</td>\n",
       "      <td>RR</td>\n",
       "      <td>23.74</td>\n",
       "      <td>30000.0</td>\n",
       "    </tr>\n",
       "    <tr>\n",
       "      <th>6</th>\n",
       "      <td>fisica</td>\n",
       "      <td>TO</td>\n",
       "      <td>0.01</td>\n",
       "      <td>30000.0</td>\n",
       "    </tr>\n",
       "    <tr>\n",
       "      <th>7</th>\n",
       "      <td>juridica</td>\n",
       "      <td>AC</td>\n",
       "      <td>10.00</td>\n",
       "      <td>4900000.0</td>\n",
       "    </tr>\n",
       "    <tr>\n",
       "      <th>8</th>\n",
       "      <td>juridica</td>\n",
       "      <td>AM</td>\n",
       "      <td>0.04</td>\n",
       "      <td>6900000.0</td>\n",
       "    </tr>\n",
       "    <tr>\n",
       "      <th>9</th>\n",
       "      <td>juridica</td>\n",
       "      <td>AP</td>\n",
       "      <td>0.55</td>\n",
       "      <td>4900000.0</td>\n",
       "    </tr>\n",
       "    <tr>\n",
       "      <th>10</th>\n",
       "      <td>juridica</td>\n",
       "      <td>PA</td>\n",
       "      <td>0.10</td>\n",
       "      <td>4400000.0</td>\n",
       "    </tr>\n",
       "    <tr>\n",
       "      <th>11</th>\n",
       "      <td>juridica</td>\n",
       "      <td>RO</td>\n",
       "      <td>0.40</td>\n",
       "      <td>2900000.0</td>\n",
       "    </tr>\n",
       "    <tr>\n",
       "      <th>12</th>\n",
       "      <td>juridica</td>\n",
       "      <td>RR</td>\n",
       "      <td>12.50</td>\n",
       "      <td>2900000.0</td>\n",
       "    </tr>\n",
       "    <tr>\n",
       "      <th>13</th>\n",
       "      <td>juridica</td>\n",
       "      <td>TO</td>\n",
       "      <td>0.05</td>\n",
       "      <td>4900000.0</td>\n",
       "    </tr>\n",
       "  </tbody>\n",
       "</table>\n",
       "</div>"
      ],
      "text/plain": [
       "   TIPO_DOADOR SG_UF VR_RECEITA           \n",
       "                            min        max\n",
       "0       fisica    AC       4.80    40560.0\n",
       "1       fisica    AM       2.00    35000.0\n",
       "2       fisica    AP      49.88    12000.0\n",
       "3       fisica    PA       0.10   200000.0\n",
       "4       fisica    RO       1.20   110000.0\n",
       "5       fisica    RR      23.74    30000.0\n",
       "6       fisica    TO       0.01    30000.0\n",
       "7     juridica    AC      10.00  4900000.0\n",
       "8     juridica    AM       0.04  6900000.0\n",
       "9     juridica    AP       0.55  4900000.0\n",
       "10    juridica    PA       0.10  4400000.0\n",
       "11    juridica    RO       0.40  2900000.0\n",
       "12    juridica    RR      12.50  2900000.0\n",
       "13    juridica    TO       0.05  4900000.0"
      ]
     },
     "execution_count": 156,
     "metadata": {},
     "output_type": "execute_result"
    }
   ],
   "source": [
    "\n",
    "df_stat = df_final[['TIPO_DOADOR','VR_RECEITA','SG_UF']].groupby(by=['TIPO_DOADOR','SG_UF'],as_index=False).agg({'VR_RECEITA':[min,max]})\n",
    "df_stat"
   ]
  },
  {
   "attachments": {},
   "cell_type": "markdown",
   "id": "34e11ca6",
   "metadata": {},
   "source": [
    "# Entreviste você mesmo"
   ]
  },
  {
   "attachments": {},
   "cell_type": "markdown",
   "id": "4b17ac41",
   "metadata": {},
   "source": [
    "Escreva abaixo pelo menos outras três perguntas que podem ser feitas à base de dados. Escreva a pergunta como um comentário acima do código com a consulta em Python."
   ]
  },
  {
   "cell_type": "code",
   "execution_count": 164,
   "id": "a1ebe311",
   "metadata": {},
   "outputs": [
    {
     "data": {
      "text/html": [
       "<div>\n",
       "<style scoped>\n",
       "    .dataframe tbody tr th:only-of-type {\n",
       "        vertical-align: middle;\n",
       "    }\n",
       "\n",
       "    .dataframe tbody tr th {\n",
       "        vertical-align: top;\n",
       "    }\n",
       "\n",
       "    .dataframe thead th {\n",
       "        text-align: right;\n",
       "    }\n",
       "</style>\n",
       "<table border=\"1\" class=\"dataframe\">\n",
       "  <thead>\n",
       "    <tr style=\"text-align: right;\">\n",
       "      <th></th>\n",
       "      <th></th>\n",
       "      <th>VR_RECEITA</th>\n",
       "    </tr>\n",
       "    <tr>\n",
       "      <th>SG_UF</th>\n",
       "      <th>TIPO_DOADOR</th>\n",
       "      <th></th>\n",
       "    </tr>\n",
       "  </thead>\n",
       "  <tbody>\n",
       "    <tr>\n",
       "      <th rowspan=\"2\" valign=\"top\">AC</th>\n",
       "      <th>fisica</th>\n",
       "      <td>516688.26</td>\n",
       "    </tr>\n",
       "    <tr>\n",
       "      <th>juridica</th>\n",
       "      <td>22585542.95</td>\n",
       "    </tr>\n",
       "    <tr>\n",
       "      <th rowspan=\"2\" valign=\"top\">AM</th>\n",
       "      <th>fisica</th>\n",
       "      <td>491585.92</td>\n",
       "    </tr>\n",
       "    <tr>\n",
       "      <th>juridica</th>\n",
       "      <td>35625509.00</td>\n",
       "    </tr>\n",
       "    <tr>\n",
       "      <th rowspan=\"2\" valign=\"top\">AP</th>\n",
       "      <th>fisica</th>\n",
       "      <td>82687.88</td>\n",
       "    </tr>\n",
       "    <tr>\n",
       "      <th>juridica</th>\n",
       "      <td>33073470.04</td>\n",
       "    </tr>\n",
       "    <tr>\n",
       "      <th rowspan=\"2\" valign=\"top\">PA</th>\n",
       "      <th>fisica</th>\n",
       "      <td>4532569.87</td>\n",
       "    </tr>\n",
       "    <tr>\n",
       "      <th>juridica</th>\n",
       "      <td>42454506.85</td>\n",
       "    </tr>\n",
       "    <tr>\n",
       "      <th rowspan=\"2\" valign=\"top\">RO</th>\n",
       "      <th>fisica</th>\n",
       "      <td>815877.84</td>\n",
       "    </tr>\n",
       "    <tr>\n",
       "      <th>juridica</th>\n",
       "      <td>22978320.93</td>\n",
       "    </tr>\n",
       "    <tr>\n",
       "      <th rowspan=\"2\" valign=\"top\">RR</th>\n",
       "      <th>fisica</th>\n",
       "      <td>170414.95</td>\n",
       "    </tr>\n",
       "    <tr>\n",
       "      <th>juridica</th>\n",
       "      <td>20868194.74</td>\n",
       "    </tr>\n",
       "    <tr>\n",
       "      <th rowspan=\"2\" valign=\"top\">TO</th>\n",
       "      <th>fisica</th>\n",
       "      <td>414676.35</td>\n",
       "    </tr>\n",
       "    <tr>\n",
       "      <th>juridica</th>\n",
       "      <td>24682986.39</td>\n",
       "    </tr>\n",
       "  </tbody>\n",
       "</table>\n",
       "</div>"
      ],
      "text/plain": [
       "                    VR_RECEITA\n",
       "SG_UF TIPO_DOADOR             \n",
       "AC    fisica         516688.26\n",
       "      juridica     22585542.95\n",
       "AM    fisica         491585.92\n",
       "      juridica     35625509.00\n",
       "AP    fisica          82687.88\n",
       "      juridica     33073470.04\n",
       "PA    fisica        4532569.87\n",
       "      juridica     42454506.85\n",
       "RO    fisica         815877.84\n",
       "      juridica     22978320.93\n",
       "RR    fisica         170414.95\n",
       "      juridica     20868194.74\n",
       "TO    fisica         414676.35\n",
       "      juridica     24682986.39"
      ]
     },
     "execution_count": 164,
     "metadata": {},
     "output_type": "execute_result"
    }
   ],
   "source": [
    "# Quanto cada estado arrecadou em doações no total, por tipo de doador\n",
    "\n",
    "df_final[['VR_RECEITA','SG_UF','TIPO_DOADOR']].groupby(by=['SG_UF','TIPO_DOADOR']).sum()"
   ]
  },
  {
   "cell_type": "code",
   "execution_count": 222,
   "id": "0e684eba",
   "metadata": {},
   "outputs": [
    {
     "data": {
      "text/html": [
       "<div>\n",
       "<style scoped>\n",
       "    .dataframe tbody tr th:only-of-type {\n",
       "        vertical-align: middle;\n",
       "    }\n",
       "\n",
       "    .dataframe tbody tr th {\n",
       "        vertical-align: top;\n",
       "    }\n",
       "\n",
       "    .dataframe thead th {\n",
       "        text-align: right;\n",
       "    }\n",
       "</style>\n",
       "<table border=\"1\" class=\"dataframe\">\n",
       "  <thead>\n",
       "    <tr style=\"text-align: right;\">\n",
       "      <th></th>\n",
       "      <th>NM_PARTIDO</th>\n",
       "      <th>SG_UF</th>\n",
       "      <th>VR_RECEITA</th>\n",
       "    </tr>\n",
       "  </thead>\n",
       "  <tbody>\n",
       "    <tr>\n",
       "      <th>0</th>\n",
       "      <td>AVANTE</td>\n",
       "      <td>AC</td>\n",
       "      <td>216415.00</td>\n",
       "    </tr>\n",
       "    <tr>\n",
       "      <th>1</th>\n",
       "      <td>AVANTE</td>\n",
       "      <td>AM</td>\n",
       "      <td>80303.30</td>\n",
       "    </tr>\n",
       "    <tr>\n",
       "      <th>2</th>\n",
       "      <td>AVANTE</td>\n",
       "      <td>AP</td>\n",
       "      <td>64901.20</td>\n",
       "    </tr>\n",
       "    <tr>\n",
       "      <th>3</th>\n",
       "      <td>AVANTE</td>\n",
       "      <td>PA</td>\n",
       "      <td>124522.81</td>\n",
       "    </tr>\n",
       "    <tr>\n",
       "      <th>4</th>\n",
       "      <td>AVANTE</td>\n",
       "      <td>RO</td>\n",
       "      <td>8024.10</td>\n",
       "    </tr>\n",
       "    <tr>\n",
       "      <th>...</th>\n",
       "      <td>...</td>\n",
       "      <td>...</td>\n",
       "      <td>...</td>\n",
       "    </tr>\n",
       "    <tr>\n",
       "      <th>175</th>\n",
       "      <td>Solidariedade</td>\n",
       "      <td>PA</td>\n",
       "      <td>1030441.00</td>\n",
       "    </tr>\n",
       "    <tr>\n",
       "      <th>176</th>\n",
       "      <td>Solidariedade</td>\n",
       "      <td>RO</td>\n",
       "      <td>1798619.44</td>\n",
       "    </tr>\n",
       "    <tr>\n",
       "      <th>177</th>\n",
       "      <td>Solidariedade</td>\n",
       "      <td>RR</td>\n",
       "      <td>1527027.11</td>\n",
       "    </tr>\n",
       "    <tr>\n",
       "      <th>178</th>\n",
       "      <td>Solidariedade</td>\n",
       "      <td>TO</td>\n",
       "      <td>2877113.62</td>\n",
       "    </tr>\n",
       "    <tr>\n",
       "      <th>179</th>\n",
       "      <td>Unidade Popular</td>\n",
       "      <td>PA</td>\n",
       "      <td>15200.00</td>\n",
       "    </tr>\n",
       "  </tbody>\n",
       "</table>\n",
       "<p>180 rows × 3 columns</p>\n",
       "</div>"
      ],
      "text/plain": [
       "          NM_PARTIDO SG_UF  VR_RECEITA\n",
       "0             AVANTE    AC   216415.00\n",
       "1             AVANTE    AM    80303.30\n",
       "2             AVANTE    AP    64901.20\n",
       "3             AVANTE    PA   124522.81\n",
       "4             AVANTE    RO     8024.10\n",
       "..               ...   ...         ...\n",
       "175    Solidariedade    PA  1030441.00\n",
       "176    Solidariedade    RO  1798619.44\n",
       "177    Solidariedade    RR  1527027.11\n",
       "178    Solidariedade    TO  2877113.62\n",
       "179  Unidade Popular    PA    15200.00\n",
       "\n",
       "[180 rows x 3 columns]"
      ]
     },
     "execution_count": 222,
     "metadata": {},
     "output_type": "execute_result"
    }
   ],
   "source": [
    "# Organize os partidos pela soma de doações de cada estado\n",
    "df_partidos_receita = df_final[['NM_PARTIDO','VR_RECEITA','SG_UF']].groupby(by=['NM_PARTIDO','SG_UF'],as_index=False).sum()\n",
    "df_partidos_receita"
   ]
  },
  {
   "cell_type": "code",
   "execution_count": 227,
   "id": "c154ae03",
   "metadata": {},
   "outputs": [
    {
     "data": {
      "text/plain": [
       "<Axes: xlabel='SG_UF'>"
      ]
     },
     "execution_count": 227,
     "metadata": {},
     "output_type": "execute_result"
    },
    {
     "data": {
      "image/png": "[encoded data removed]",
      "text/plain": [
       "<Figure size 640x480 with 1 Axes>"
      ]
     },
     "metadata": {},
     "output_type": "display_data"
    }
   ],
   "source": [
    "# Plote a distribuição de doações por estado\n",
    "\n",
    "df_partidos_receita[['SG_UF','VR_RECEITA']].groupby(by='SG_UF').sum().sort_values(by='VR_RECEITA',ascending=False).plot(kind='bar')"
   ]
  }
 ],
 "metadata": {
  "interpreter": {
   "hash": "916dbcbb3f70747c44a77c7bcd40155683ae19c65e1c03b4aa3499c5328201f1"
  },
  "kernelspec": {
   "display_name": "Python 3 (ipykernel)",
   "language": "python",
   "name": "python3"
  },
  "language_info": {
   "codemirror_mode": {
    "name": "ipython",
    "version": 3
   },
   "file_extension": ".py",
   "mimetype": "text/x-python",
   "name": "python",
   "nbconvert_exporter": "python",
   "pygments_lexer": "ipython3",
   "version": "3.10.6"
  }
 },
 "nbformat": 4,
 "nbformat_minor": 5
}
